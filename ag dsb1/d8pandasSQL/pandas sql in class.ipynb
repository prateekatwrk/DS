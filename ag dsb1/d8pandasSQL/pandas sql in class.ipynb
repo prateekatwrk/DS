{
 "cells": [
  {
   "cell_type": "code",
   "execution_count": null,
   "metadata": {},
   "outputs": [],
   "source": [
    "q = \"\"\"\n",
    "        SELECT\n",
    "            date\n",
    "            , 'beef' AS meat_type\n",
    "            , beef AS value\n",
    "        FROM meat\n",
    "        UNION ALL\n",
    "        SELECT\n",
    "            date\n",
    "            , 'veal' AS meat_type\n",
    "            , veal AS value\n",
    "        FROM meat\n",
    "        \n",
    "        UNION ALL\n",
    "        \n",
    "        SELECT\n",
    "            date\n",
    "            , 'pork' AS meat_type\n",
    "            , pork AS value\n",
    "        FROM meat\n",
    "        UNION ALL\n",
    "        SELECT\n",
    "            date\n",
    "            , 'lamb_and_mutton' AS meat_type\n",
    "            , lamb_and_mutton AS value\n",
    "        FROM meat\n",
    "        ORDER BY 1\n",
    "    \"\"\"\n"
   ]
  }
 ],
 "metadata": {
  "kernelspec": {
   "display_name": "Python 3",
   "language": "python",
   "name": "python3"
  },
  "language_info": {
   "codemirror_mode": {
    "name": "ipython",
    "version": 3
   },
   "file_extension": ".py",
   "mimetype": "text/x-python",
   "name": "python",
   "nbconvert_exporter": "python",
   "pygments_lexer": "ipython3",
   "version": "3.6.4"
  }
 },
 "nbformat": 4,
 "nbformat_minor": 2
}
