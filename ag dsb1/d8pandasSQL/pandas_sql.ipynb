{
 "cells": [
  {
   "cell_type": "code",
   "execution_count": 1,
   "metadata": {},
   "outputs": [],
   "source": [
    "import numpy as np\n",
    "import pandas as pd\n",
    "from pandas import DataFrame, Series\n",
    "import sqlite3 as db"
   ]
  },
  {
   "cell_type": "code",
   "execution_count": 2,
   "metadata": {},
   "outputs": [],
   "source": [
    "from pandasql import sqldf"
   ]
  },
  {
   "cell_type": "code",
   "execution_count": 3,
   "metadata": {},
   "outputs": [],
   "source": [
    "# Points to remember\n",
    "#The main function used in pandasql is sqldf. \n",
    "#sqldf accepts 2 parametrs\n",
    "\n",
    "# a sql query string\n",
    "# a set of session/environment variables (locals() or globals())\n"
   ]
  },
  {
   "cell_type": "code",
   "execution_count": 4,
   "metadata": {},
   "outputs": [],
   "source": [
    "#define the global function, as managing local and global environment might be confusing at times\n",
    "pysqldf = lambda q: sqldf(q, globals())"
   ]
  },
  {
   "cell_type": "code",
   "execution_count": 5,
   "metadata": {},
   "outputs": [
    {
     "data": {
      "text/plain": [
       "<function __main__.<lambda>>"
      ]
     },
     "execution_count": 5,
     "metadata": {},
     "output_type": "execute_result"
    }
   ],
   "source": [
    "pysqldf"
   ]
  },
  {
   "cell_type": "code",
   "execution_count": 6,
   "metadata": {},
   "outputs": [],
   "source": [
    "#pandasql uses SQLite syntax. \n",
    "\n",
    "#Any pandas dataframes will be automatically detected by pandasql. \n",
    "\n",
    "#You can query them as you would any regular SQL table."
   ]
  },
  {
   "cell_type": "code",
   "execution_count": 7,
   "metadata": {},
   "outputs": [],
   "source": [
    "from pandasql import sqldf, load_meat, load_births"
   ]
  },
  {
   "cell_type": "code",
   "execution_count": 8,
   "metadata": {},
   "outputs": [],
   "source": [
    "pysqldf = lambda q: sqldf(q, globals())"
   ]
  },
  {
   "cell_type": "code",
   "execution_count": 9,
   "metadata": {},
   "outputs": [],
   "source": [
    "meat = load_meat()"
   ]
  },
  {
   "cell_type": "code",
   "execution_count": 10,
   "metadata": {},
   "outputs": [
    {
     "name": "stdout",
     "output_type": "stream",
     "text": [
      "<class 'pandas.core.frame.DataFrame'>\n",
      "RangeIndex: 827 entries, 0 to 826\n",
      "Data columns (total 8 columns):\n",
      "date               827 non-null datetime64[ns]\n",
      "beef               827 non-null float64\n",
      "veal               827 non-null float64\n",
      "pork               827 non-null float64\n",
      "lamb_and_mutton    827 non-null float64\n",
      "broilers           635 non-null float64\n",
      "other_chicken      143 non-null float64\n",
      "turkey             635 non-null float64\n",
      "dtypes: datetime64[ns](1), float64(7)\n",
      "memory usage: 51.8 KB\n"
     ]
    }
   ],
   "source": [
    "meat.info()"
   ]
  },
  {
   "cell_type": "code",
   "execution_count": 11,
   "metadata": {},
   "outputs": [
    {
     "data": {
      "text/html": [
       "<div>\n",
       "<style scoped>\n",
       "    .dataframe tbody tr th:only-of-type {\n",
       "        vertical-align: middle;\n",
       "    }\n",
       "\n",
       "    .dataframe tbody tr th {\n",
       "        vertical-align: top;\n",
       "    }\n",
       "\n",
       "    .dataframe thead th {\n",
       "        text-align: right;\n",
       "    }\n",
       "</style>\n",
       "<table border=\"1\" class=\"dataframe\">\n",
       "  <thead>\n",
       "    <tr style=\"text-align: right;\">\n",
       "      <th></th>\n",
       "      <th>date</th>\n",
       "      <th>beef</th>\n",
       "      <th>veal</th>\n",
       "      <th>pork</th>\n",
       "      <th>lamb_and_mutton</th>\n",
       "      <th>broilers</th>\n",
       "      <th>other_chicken</th>\n",
       "      <th>turkey</th>\n",
       "    </tr>\n",
       "  </thead>\n",
       "  <tbody>\n",
       "    <tr>\n",
       "      <th>0</th>\n",
       "      <td>1944-01-01</td>\n",
       "      <td>751.0</td>\n",
       "      <td>85.0</td>\n",
       "      <td>1280.0</td>\n",
       "      <td>89.0</td>\n",
       "      <td>NaN</td>\n",
       "      <td>NaN</td>\n",
       "      <td>NaN</td>\n",
       "    </tr>\n",
       "    <tr>\n",
       "      <th>1</th>\n",
       "      <td>1944-02-01</td>\n",
       "      <td>713.0</td>\n",
       "      <td>77.0</td>\n",
       "      <td>1169.0</td>\n",
       "      <td>72.0</td>\n",
       "      <td>NaN</td>\n",
       "      <td>NaN</td>\n",
       "      <td>NaN</td>\n",
       "    </tr>\n",
       "    <tr>\n",
       "      <th>2</th>\n",
       "      <td>1944-03-01</td>\n",
       "      <td>741.0</td>\n",
       "      <td>90.0</td>\n",
       "      <td>1128.0</td>\n",
       "      <td>75.0</td>\n",
       "      <td>NaN</td>\n",
       "      <td>NaN</td>\n",
       "      <td>NaN</td>\n",
       "    </tr>\n",
       "    <tr>\n",
       "      <th>3</th>\n",
       "      <td>1944-04-01</td>\n",
       "      <td>650.0</td>\n",
       "      <td>89.0</td>\n",
       "      <td>978.0</td>\n",
       "      <td>66.0</td>\n",
       "      <td>NaN</td>\n",
       "      <td>NaN</td>\n",
       "      <td>NaN</td>\n",
       "    </tr>\n",
       "    <tr>\n",
       "      <th>4</th>\n",
       "      <td>1944-05-01</td>\n",
       "      <td>681.0</td>\n",
       "      <td>106.0</td>\n",
       "      <td>1029.0</td>\n",
       "      <td>78.0</td>\n",
       "      <td>NaN</td>\n",
       "      <td>NaN</td>\n",
       "      <td>NaN</td>\n",
       "    </tr>\n",
       "  </tbody>\n",
       "</table>\n",
       "</div>"
      ],
      "text/plain": [
       "        date   beef   veal    pork  lamb_and_mutton  broilers  other_chicken  \\\n",
       "0 1944-01-01  751.0   85.0  1280.0             89.0       NaN            NaN   \n",
       "1 1944-02-01  713.0   77.0  1169.0             72.0       NaN            NaN   \n",
       "2 1944-03-01  741.0   90.0  1128.0             75.0       NaN            NaN   \n",
       "3 1944-04-01  650.0   89.0   978.0             66.0       NaN            NaN   \n",
       "4 1944-05-01  681.0  106.0  1029.0             78.0       NaN            NaN   \n",
       "\n",
       "   turkey  \n",
       "0     NaN  \n",
       "1     NaN  \n",
       "2     NaN  \n",
       "3     NaN  \n",
       "4     NaN  "
      ]
     },
     "execution_count": 11,
     "metadata": {},
     "output_type": "execute_result"
    }
   ],
   "source": [
    "meat.head()"
   ]
  },
  {
   "cell_type": "code",
   "execution_count": 12,
   "metadata": {},
   "outputs": [],
   "source": [
    "births = load_births()"
   ]
  },
  {
   "cell_type": "code",
   "execution_count": 13,
   "metadata": {},
   "outputs": [
    {
     "name": "stdout",
     "output_type": "stream",
     "text": [
      "<class 'pandas.core.frame.DataFrame'>\n",
      "RangeIndex: 408 entries, 0 to 407\n",
      "Data columns (total 2 columns):\n",
      "date      408 non-null datetime64[ns]\n",
      "births    408 non-null int64\n",
      "dtypes: datetime64[ns](1), int64(1)\n",
      "memory usage: 6.5 KB\n"
     ]
    }
   ],
   "source": [
    "births.info()"
   ]
  },
  {
   "cell_type": "code",
   "execution_count": 14,
   "metadata": {},
   "outputs": [
    {
     "data": {
      "text/html": [
       "<div>\n",
       "<style scoped>\n",
       "    .dataframe tbody tr th:only-of-type {\n",
       "        vertical-align: middle;\n",
       "    }\n",
       "\n",
       "    .dataframe tbody tr th {\n",
       "        vertical-align: top;\n",
       "    }\n",
       "\n",
       "    .dataframe thead th {\n",
       "        text-align: right;\n",
       "    }\n",
       "</style>\n",
       "<table border=\"1\" class=\"dataframe\">\n",
       "  <thead>\n",
       "    <tr style=\"text-align: right;\">\n",
       "      <th></th>\n",
       "      <th>date</th>\n",
       "      <th>births</th>\n",
       "    </tr>\n",
       "  </thead>\n",
       "  <tbody>\n",
       "    <tr>\n",
       "      <th>0</th>\n",
       "      <td>1975-01-01</td>\n",
       "      <td>265775</td>\n",
       "    </tr>\n",
       "    <tr>\n",
       "      <th>1</th>\n",
       "      <td>1975-02-01</td>\n",
       "      <td>241045</td>\n",
       "    </tr>\n",
       "    <tr>\n",
       "      <th>2</th>\n",
       "      <td>1975-03-01</td>\n",
       "      <td>268849</td>\n",
       "    </tr>\n",
       "    <tr>\n",
       "      <th>3</th>\n",
       "      <td>1975-04-01</td>\n",
       "      <td>247455</td>\n",
       "    </tr>\n",
       "    <tr>\n",
       "      <th>4</th>\n",
       "      <td>1975-05-01</td>\n",
       "      <td>254545</td>\n",
       "    </tr>\n",
       "  </tbody>\n",
       "</table>\n",
       "</div>"
      ],
      "text/plain": [
       "        date  births\n",
       "0 1975-01-01  265775\n",
       "1 1975-02-01  241045\n",
       "2 1975-03-01  268849\n",
       "3 1975-04-01  247455\n",
       "4 1975-05-01  254545"
      ]
     },
     "execution_count": 14,
     "metadata": {},
     "output_type": "execute_result"
    }
   ],
   "source": [
    "births.head()"
   ]
  },
  {
   "cell_type": "code",
   "execution_count": 15,
   "metadata": {},
   "outputs": [
    {
     "data": {
      "text/html": [
       "<div>\n",
       "<style scoped>\n",
       "    .dataframe tbody tr th:only-of-type {\n",
       "        vertical-align: middle;\n",
       "    }\n",
       "\n",
       "    .dataframe tbody tr th {\n",
       "        vertical-align: top;\n",
       "    }\n",
       "\n",
       "    .dataframe thead th {\n",
       "        text-align: right;\n",
       "    }\n",
       "</style>\n",
       "<table border=\"1\" class=\"dataframe\">\n",
       "  <thead>\n",
       "    <tr style=\"text-align: right;\">\n",
       "      <th></th>\n",
       "      <th>date</th>\n",
       "      <th>beef</th>\n",
       "      <th>veal</th>\n",
       "      <th>pork</th>\n",
       "      <th>lamb_and_mutton</th>\n",
       "      <th>broilers</th>\n",
       "      <th>other_chicken</th>\n",
       "      <th>turkey</th>\n",
       "    </tr>\n",
       "  </thead>\n",
       "  <tbody>\n",
       "    <tr>\n",
       "      <th>0</th>\n",
       "      <td>1944-01-01 00:00:00.000000</td>\n",
       "      <td>751.0</td>\n",
       "      <td>85.0</td>\n",
       "      <td>1280.0</td>\n",
       "      <td>89.0</td>\n",
       "      <td>None</td>\n",
       "      <td>None</td>\n",
       "      <td>None</td>\n",
       "    </tr>\n",
       "    <tr>\n",
       "      <th>1</th>\n",
       "      <td>1944-02-01 00:00:00.000000</td>\n",
       "      <td>713.0</td>\n",
       "      <td>77.0</td>\n",
       "      <td>1169.0</td>\n",
       "      <td>72.0</td>\n",
       "      <td>None</td>\n",
       "      <td>None</td>\n",
       "      <td>None</td>\n",
       "    </tr>\n",
       "    <tr>\n",
       "      <th>2</th>\n",
       "      <td>1944-03-01 00:00:00.000000</td>\n",
       "      <td>741.0</td>\n",
       "      <td>90.0</td>\n",
       "      <td>1128.0</td>\n",
       "      <td>75.0</td>\n",
       "      <td>None</td>\n",
       "      <td>None</td>\n",
       "      <td>None</td>\n",
       "    </tr>\n",
       "    <tr>\n",
       "      <th>3</th>\n",
       "      <td>1944-04-01 00:00:00.000000</td>\n",
       "      <td>650.0</td>\n",
       "      <td>89.0</td>\n",
       "      <td>978.0</td>\n",
       "      <td>66.0</td>\n",
       "      <td>None</td>\n",
       "      <td>None</td>\n",
       "      <td>None</td>\n",
       "    </tr>\n",
       "    <tr>\n",
       "      <th>4</th>\n",
       "      <td>1944-05-01 00:00:00.000000</td>\n",
       "      <td>681.0</td>\n",
       "      <td>106.0</td>\n",
       "      <td>1029.0</td>\n",
       "      <td>78.0</td>\n",
       "      <td>None</td>\n",
       "      <td>None</td>\n",
       "      <td>None</td>\n",
       "    </tr>\n",
       "  </tbody>\n",
       "</table>\n",
       "</div>"
      ],
      "text/plain": [
       "                         date   beef   veal    pork  lamb_and_mutton broilers  \\\n",
       "0  1944-01-01 00:00:00.000000  751.0   85.0  1280.0             89.0     None   \n",
       "1  1944-02-01 00:00:00.000000  713.0   77.0  1169.0             72.0     None   \n",
       "2  1944-03-01 00:00:00.000000  741.0   90.0  1128.0             75.0     None   \n",
       "3  1944-04-01 00:00:00.000000  650.0   89.0   978.0             66.0     None   \n",
       "4  1944-05-01 00:00:00.000000  681.0  106.0  1029.0             78.0     None   \n",
       "\n",
       "  other_chicken turkey  \n",
       "0          None   None  \n",
       "1          None   None  \n",
       "2          None   None  \n",
       "3          None   None  \n",
       "4          None   None  "
      ]
     },
     "execution_count": 15,
     "metadata": {},
     "output_type": "execute_result"
    }
   ],
   "source": [
    "pysqldf(\"SELECT * FROM meat LIMIT 5;\")"
   ]
  },
  {
   "cell_type": "code",
   "execution_count": 16,
   "metadata": {},
   "outputs": [
    {
     "data": {
      "text/html": [
       "<div>\n",
       "<style scoped>\n",
       "    .dataframe tbody tr th:only-of-type {\n",
       "        vertical-align: middle;\n",
       "    }\n",
       "\n",
       "    .dataframe tbody tr th {\n",
       "        vertical-align: top;\n",
       "    }\n",
       "\n",
       "    .dataframe thead th {\n",
       "        text-align: right;\n",
       "    }\n",
       "</style>\n",
       "<table border=\"1\" class=\"dataframe\">\n",
       "  <thead>\n",
       "    <tr style=\"text-align: right;\">\n",
       "      <th></th>\n",
       "      <th>date</th>\n",
       "      <th>births</th>\n",
       "    </tr>\n",
       "  </thead>\n",
       "  <tbody>\n",
       "    <tr>\n",
       "      <th>0</th>\n",
       "      <td>1975-01-01 00:00:00.000000</td>\n",
       "      <td>265775</td>\n",
       "    </tr>\n",
       "    <tr>\n",
       "      <th>1</th>\n",
       "      <td>1975-02-01 00:00:00.000000</td>\n",
       "      <td>241045</td>\n",
       "    </tr>\n",
       "    <tr>\n",
       "      <th>2</th>\n",
       "      <td>1975-03-01 00:00:00.000000</td>\n",
       "      <td>268849</td>\n",
       "    </tr>\n",
       "    <tr>\n",
       "      <th>3</th>\n",
       "      <td>1975-04-01 00:00:00.000000</td>\n",
       "      <td>247455</td>\n",
       "    </tr>\n",
       "    <tr>\n",
       "      <th>4</th>\n",
       "      <td>1975-05-01 00:00:00.000000</td>\n",
       "      <td>254545</td>\n",
       "    </tr>\n",
       "  </tbody>\n",
       "</table>\n",
       "</div>"
      ],
      "text/plain": [
       "                         date  births\n",
       "0  1975-01-01 00:00:00.000000  265775\n",
       "1  1975-02-01 00:00:00.000000  241045\n",
       "2  1975-03-01 00:00:00.000000  268849\n",
       "3  1975-04-01 00:00:00.000000  247455\n",
       "4  1975-05-01 00:00:00.000000  254545"
      ]
     },
     "execution_count": 16,
     "metadata": {},
     "output_type": "execute_result"
    }
   ],
   "source": [
    "pysqldf(\"SELECT * FROM births LIMIT 5;\")"
   ]
  },
  {
   "cell_type": "code",
   "execution_count": 17,
   "metadata": {},
   "outputs": [],
   "source": [
    "#let's work on the joins and aggregations"
   ]
  },
  {
   "cell_type": "code",
   "execution_count": 18,
   "metadata": {},
   "outputs": [],
   "source": [
    "# execution of simple group by query\n",
    "q = \"\"\"SELECT\n",
    "            strftime('%Y', date) as year\n",
    "           , SUM(beef) as beef_total\n",
    "           FROM\n",
    "              meat\n",
    "           GROUP BY\n",
    "              year\n",
    "              LIMIT 5;\"\"\""
   ]
  },
  {
   "cell_type": "code",
   "execution_count": 19,
   "metadata": {},
   "outputs": [
    {
     "name": "stdout",
     "output_type": "stream",
     "text": [
      "SELECT\n",
      "            strftime('%Y', date) as year\n",
      "           , SUM(beef) as beef_total\n",
      "           FROM\n",
      "              meat\n",
      "           GROUP BY\n",
      "              year\n",
      "              LIMIT 5;\n"
     ]
    }
   ],
   "source": [
    "print(q)"
   ]
  },
  {
   "cell_type": "code",
   "execution_count": 20,
   "metadata": {},
   "outputs": [
    {
     "data": {
      "text/html": [
       "<div>\n",
       "<style scoped>\n",
       "    .dataframe tbody tr th:only-of-type {\n",
       "        vertical-align: middle;\n",
       "    }\n",
       "\n",
       "    .dataframe tbody tr th {\n",
       "        vertical-align: top;\n",
       "    }\n",
       "\n",
       "    .dataframe thead th {\n",
       "        text-align: right;\n",
       "    }\n",
       "</style>\n",
       "<table border=\"1\" class=\"dataframe\">\n",
       "  <thead>\n",
       "    <tr style=\"text-align: right;\">\n",
       "      <th></th>\n",
       "      <th>year</th>\n",
       "      <th>beef_total</th>\n",
       "    </tr>\n",
       "  </thead>\n",
       "  <tbody>\n",
       "    <tr>\n",
       "      <th>0</th>\n",
       "      <td>1944</td>\n",
       "      <td>8801.0</td>\n",
       "    </tr>\n",
       "    <tr>\n",
       "      <th>1</th>\n",
       "      <td>1945</td>\n",
       "      <td>9936.0</td>\n",
       "    </tr>\n",
       "    <tr>\n",
       "      <th>2</th>\n",
       "      <td>1946</td>\n",
       "      <td>9010.0</td>\n",
       "    </tr>\n",
       "    <tr>\n",
       "      <th>3</th>\n",
       "      <td>1947</td>\n",
       "      <td>10096.0</td>\n",
       "    </tr>\n",
       "    <tr>\n",
       "      <th>4</th>\n",
       "      <td>1948</td>\n",
       "      <td>8766.0</td>\n",
       "    </tr>\n",
       "  </tbody>\n",
       "</table>\n",
       "</div>"
      ],
      "text/plain": [
       "   year  beef_total\n",
       "0  1944      8801.0\n",
       "1  1945      9936.0\n",
       "2  1946      9010.0\n",
       "3  1947     10096.0\n",
       "4  1948      8766.0"
      ]
     },
     "execution_count": 20,
     "metadata": {},
     "output_type": "execute_result"
    }
   ],
   "source": [
    "pysqldf(q)"
   ]
  },
  {
   "cell_type": "code",
   "execution_count": 21,
   "metadata": {},
   "outputs": [],
   "source": [
    "# you want to print all the results and then do selection of top 10 records\n",
    "q = \"\"\"SELECT\n",
    "            strftime('%Y', date) as year\n",
    "           , SUM(beef) as beef_total\n",
    "           FROM\n",
    "              meat\n",
    "           GROUP BY\n",
    "              year;\"\"\""
   ]
  },
  {
   "cell_type": "code",
   "execution_count": 22,
   "metadata": {},
   "outputs": [
    {
     "data": {
      "text/html": [
       "<div>\n",
       "<style scoped>\n",
       "    .dataframe tbody tr th:only-of-type {\n",
       "        vertical-align: middle;\n",
       "    }\n",
       "\n",
       "    .dataframe tbody tr th {\n",
       "        vertical-align: top;\n",
       "    }\n",
       "\n",
       "    .dataframe thead th {\n",
       "        text-align: right;\n",
       "    }\n",
       "</style>\n",
       "<table border=\"1\" class=\"dataframe\">\n",
       "  <thead>\n",
       "    <tr style=\"text-align: right;\">\n",
       "      <th></th>\n",
       "      <th>year</th>\n",
       "      <th>beef_total</th>\n",
       "    </tr>\n",
       "  </thead>\n",
       "  <tbody>\n",
       "    <tr>\n",
       "      <th>0</th>\n",
       "      <td>1944</td>\n",
       "      <td>8801.0</td>\n",
       "    </tr>\n",
       "    <tr>\n",
       "      <th>1</th>\n",
       "      <td>1945</td>\n",
       "      <td>9936.0</td>\n",
       "    </tr>\n",
       "    <tr>\n",
       "      <th>2</th>\n",
       "      <td>1946</td>\n",
       "      <td>9010.0</td>\n",
       "    </tr>\n",
       "    <tr>\n",
       "      <th>3</th>\n",
       "      <td>1947</td>\n",
       "      <td>10096.0</td>\n",
       "    </tr>\n",
       "    <tr>\n",
       "      <th>4</th>\n",
       "      <td>1948</td>\n",
       "      <td>8766.0</td>\n",
       "    </tr>\n",
       "    <tr>\n",
       "      <th>5</th>\n",
       "      <td>1949</td>\n",
       "      <td>9142.0</td>\n",
       "    </tr>\n",
       "    <tr>\n",
       "      <th>6</th>\n",
       "      <td>1950</td>\n",
       "      <td>9248.0</td>\n",
       "    </tr>\n",
       "    <tr>\n",
       "      <th>7</th>\n",
       "      <td>1951</td>\n",
       "      <td>8549.0</td>\n",
       "    </tr>\n",
       "    <tr>\n",
       "      <th>8</th>\n",
       "      <td>1952</td>\n",
       "      <td>9337.0</td>\n",
       "    </tr>\n",
       "    <tr>\n",
       "      <th>9</th>\n",
       "      <td>1953</td>\n",
       "      <td>12055.0</td>\n",
       "    </tr>\n",
       "  </tbody>\n",
       "</table>\n",
       "</div>"
      ],
      "text/plain": [
       "   year  beef_total\n",
       "0  1944      8801.0\n",
       "1  1945      9936.0\n",
       "2  1946      9010.0\n",
       "3  1947     10096.0\n",
       "4  1948      8766.0\n",
       "5  1949      9142.0\n",
       "6  1950      9248.0\n",
       "7  1951      8549.0\n",
       "8  1952      9337.0\n",
       "9  1953     12055.0"
      ]
     },
     "execution_count": 22,
     "metadata": {},
     "output_type": "execute_result"
    }
   ],
   "source": [
    "pysqldf(q).head(10)"
   ]
  },
  {
   "cell_type": "code",
   "execution_count": 23,
   "metadata": {},
   "outputs": [],
   "source": [
    "# order by using random functions\n",
    "q = \"\"\"SELECT \n",
    "    *\n",
    "    FROM\n",
    "        meat\n",
    "    ORDER BY RANDOM()\n",
    "    LIMIT 10;\"\"\"\n"
   ]
  },
  {
   "cell_type": "code",
   "execution_count": 24,
   "metadata": {},
   "outputs": [
    {
     "name": "stdout",
     "output_type": "stream",
     "text": [
      "SELECT \n",
      "    *\n",
      "    FROM\n",
      "        meat\n",
      "    ORDER BY RANDOM()\n",
      "    LIMIT 10;\n"
     ]
    }
   ],
   "source": [
    "print(q)"
   ]
  },
  {
   "cell_type": "code",
   "execution_count": 25,
   "metadata": {},
   "outputs": [
    {
     "name": "stdout",
     "output_type": "stream",
     "text": [
      "                         date    beef  veal    pork  lamb_and_mutton  \\\n",
      "0  2008-08-01 00:00:00.000000  2266.8  11.2  1803.9             13.3   \n",
      "1  1969-04-01 00:00:00.000000  1667.0  52.0  1145.0             46.0   \n",
      "2  1981-08-01 00:00:00.000000  1828.0  33.0  1157.0             25.0   \n",
      "3  1982-07-01 00:00:00.000000  1802.0  34.0  1040.0             27.0   \n",
      "4  1977-12-01 00:00:00.000000  2045.0  63.0  1108.0             25.0   \n",
      "5  1980-06-01 00:00:00.000000  1725.0  30.0  1312.0             22.0   \n",
      "6  1953-03-01 00:00:00.000000   931.0  94.0   809.0             63.0   \n",
      "7  1966-11-01 00:00:00.000000  1650.0  72.0  1094.0             50.0   \n",
      "8  1994-04-01 00:00:00.000000  1901.0  22.0  1432.0             27.0   \n",
      "9  2000-02-01 00:00:00.000000  2175.0  18.0  1558.0             20.0   \n",
      "\n",
      "   broilers  other_chicken  turkey  \n",
      "0    3080.5           47.9   506.9  \n",
      "1     533.5            NaN    21.0  \n",
      "2    1003.8            NaN   261.7  \n",
      "3    1029.5            NaN   228.3  \n",
      "4     753.2            NaN   148.2  \n",
      "5     976.2            NaN   206.9  \n",
      "6       NaN            NaN     NaN  \n",
      "7     435.3            NaN   274.9  \n",
      "8    1924.3            NaN   380.6  \n",
      "9    2487.9            NaN   414.9  \n"
     ]
    }
   ],
   "source": [
    "print (pysqldf(q))"
   ]
  },
  {
   "cell_type": "code",
   "execution_count": 26,
   "metadata": {},
   "outputs": [],
   "source": [
    "#executing union all statements\n",
    "q = \"\"\"\n",
    "        SELECT\n",
    "            date\n",
    "            , 'beef' AS meat_type\n",
    "            , beef AS value\n",
    "        FROM meat\n",
    "        UNION ALL\n",
    "        SELECT\n",
    "            date\n",
    "            , 'veal' AS meat_type\n",
    "            , veal AS value\n",
    "        FROM meat\n",
    "        \n",
    "        UNION ALL\n",
    "        \n",
    "        SELECT\n",
    "            date\n",
    "            , 'pork' AS meat_type\n",
    "            , pork AS value\n",
    "        FROM meat\n",
    "        UNION ALL\n",
    "        SELECT\n",
    "            date\n",
    "            , 'lamb_and_mutton' AS meat_type\n",
    "            , lamb_and_mutton AS value\n",
    "        FROM meat\n",
    "        ORDER BY 1\n",
    "    \"\"\""
   ]
  },
  {
   "cell_type": "code",
   "execution_count": 27,
   "metadata": {},
   "outputs": [
    {
     "name": "stdout",
     "output_type": "stream",
     "text": [
      "\n",
      "        SELECT\n",
      "            date\n",
      "            , 'beef' AS meat_type\n",
      "            , beef AS value\n",
      "        FROM meat\n",
      "        UNION ALL\n",
      "        SELECT\n",
      "            date\n",
      "            , 'veal' AS meat_type\n",
      "            , veal AS value\n",
      "        FROM meat\n",
      "        \n",
      "        UNION ALL\n",
      "        \n",
      "        SELECT\n",
      "            date\n",
      "            , 'pork' AS meat_type\n",
      "            , pork AS value\n",
      "        FROM meat\n",
      "        UNION ALL\n",
      "        SELECT\n",
      "            date\n",
      "            , 'lamb_and_mutton' AS meat_type\n",
      "            , lamb_and_mutton AS value\n",
      "        FROM meat\n",
      "        ORDER BY 1\n",
      "    \n"
     ]
    }
   ],
   "source": [
    "print(q)"
   ]
  },
  {
   "cell_type": "code",
   "execution_count": 28,
   "metadata": {},
   "outputs": [
    {
     "name": "stdout",
     "output_type": "stream",
     "text": [
      "                         date        meat_type   value\n",
      "0  1944-01-01 00:00:00.000000             beef   751.0\n",
      "1  1944-01-01 00:00:00.000000             veal    85.0\n",
      "2  1944-01-01 00:00:00.000000             pork  1280.0\n",
      "3  1944-01-01 00:00:00.000000  lamb_and_mutton    89.0\n",
      "4  1944-02-01 00:00:00.000000             beef   713.0\n",
      "5  1944-02-01 00:00:00.000000             veal    77.0\n",
      "6  1944-02-01 00:00:00.000000             pork  1169.0\n",
      "7  1944-02-01 00:00:00.000000  lamb_and_mutton    72.0\n",
      "8  1944-03-01 00:00:00.000000             beef   741.0\n",
      "9  1944-03-01 00:00:00.000000             veal    90.0\n"
     ]
    }
   ],
   "source": [
    "print (pysqldf(q).head(10))"
   ]
  },
  {
   "cell_type": "code",
   "execution_count": 29,
   "metadata": {},
   "outputs": [],
   "source": [
    "q = \"\"\"\n",
    "    SELECT\n",
    "        m.*\n",
    "        , b.births\n",
    "    FROM\n",
    "        meat m\n",
    "    INNER JOIN\n",
    "        births b\n",
    "            on m.date = b.date\n",
    "    ORDER BY\n",
    "        m.date;\n",
    "\"\"\""
   ]
  },
  {
   "cell_type": "code",
   "execution_count": 30,
   "metadata": {},
   "outputs": [
    {
     "name": "stdout",
     "output_type": "stream",
     "text": [
      "\n",
      "    SELECT\n",
      "        m.*\n",
      "        , b.births\n",
      "    FROM\n",
      "        meat m\n",
      "    INNER JOIN\n",
      "        births b\n",
      "            on m.date = b.date\n",
      "    ORDER BY\n",
      "        m.date;\n",
      "\n"
     ]
    }
   ],
   "source": [
    "print(q)"
   ]
  },
  {
   "cell_type": "code",
   "execution_count": 31,
   "metadata": {},
   "outputs": [
    {
     "name": "stdout",
     "output_type": "stream",
     "text": [
      "                         date    beef  veal    pork  lamb_and_mutton  \\\n",
      "0  1975-01-01 00:00:00.000000  2106.0  59.0  1114.0             36.0   \n",
      "1  1975-02-01 00:00:00.000000  1845.0  50.0   954.0             31.0   \n",
      "2  1975-03-01 00:00:00.000000  1891.0  57.0   976.0             35.0   \n",
      "3  1975-04-01 00:00:00.000000  1895.0  60.0  1100.0             34.0   \n",
      "4  1975-05-01 00:00:00.000000  1849.0  59.0   934.0             31.0   \n",
      "\n",
      "   broilers  other_chicken  turkey  births  \n",
      "0     646.2            NaN    64.9  265775  \n",
      "1     570.2            NaN    47.1  241045  \n",
      "2     616.6            NaN    54.4  268849  \n",
      "3     688.3            NaN    68.7  247455  \n",
      "4     690.1            NaN    81.9  254545  \n"
     ]
    }
   ],
   "source": [
    "print(pysqldf(q).head())"
   ]
  },
  {
   "cell_type": "code",
   "execution_count": 32,
   "metadata": {},
   "outputs": [],
   "source": [
    "#Perform inner join on two tables\n",
    "q = \"\"\"SELECT\n",
    "        m.date, m.beef, b.births\n",
    "     FROM\n",
    "        meat m\n",
    "     INNER JOIN\n",
    "        births b\n",
    "           ON m.date = b.date;\"\"\""
   ]
  },
  {
   "cell_type": "code",
   "execution_count": 33,
   "metadata": {},
   "outputs": [
    {
     "name": "stdout",
     "output_type": "stream",
     "text": [
      "SELECT\n",
      "        m.date, m.beef, b.births\n",
      "     FROM\n",
      "        meat m\n",
      "     INNER JOIN\n",
      "        births b\n",
      "           ON m.date = b.date;\n"
     ]
    }
   ],
   "source": [
    "print(q)"
   ]
  },
  {
   "cell_type": "code",
   "execution_count": 34,
   "metadata": {},
   "outputs": [
    {
     "data": {
      "text/html": [
       "<div>\n",
       "<style scoped>\n",
       "    .dataframe tbody tr th:only-of-type {\n",
       "        vertical-align: middle;\n",
       "    }\n",
       "\n",
       "    .dataframe tbody tr th {\n",
       "        vertical-align: top;\n",
       "    }\n",
       "\n",
       "    .dataframe thead th {\n",
       "        text-align: right;\n",
       "    }\n",
       "</style>\n",
       "<table border=\"1\" class=\"dataframe\">\n",
       "  <thead>\n",
       "    <tr style=\"text-align: right;\">\n",
       "      <th></th>\n",
       "      <th>date</th>\n",
       "      <th>beef</th>\n",
       "      <th>births</th>\n",
       "    </tr>\n",
       "  </thead>\n",
       "  <tbody>\n",
       "    <tr>\n",
       "      <th>0</th>\n",
       "      <td>1975-01-01 00:00:00.000000</td>\n",
       "      <td>2106.0</td>\n",
       "      <td>265775</td>\n",
       "    </tr>\n",
       "    <tr>\n",
       "      <th>1</th>\n",
       "      <td>1975-02-01 00:00:00.000000</td>\n",
       "      <td>1845.0</td>\n",
       "      <td>241045</td>\n",
       "    </tr>\n",
       "    <tr>\n",
       "      <th>2</th>\n",
       "      <td>1975-03-01 00:00:00.000000</td>\n",
       "      <td>1891.0</td>\n",
       "      <td>268849</td>\n",
       "    </tr>\n",
       "    <tr>\n",
       "      <th>3</th>\n",
       "      <td>1975-04-01 00:00:00.000000</td>\n",
       "      <td>1895.0</td>\n",
       "      <td>247455</td>\n",
       "    </tr>\n",
       "    <tr>\n",
       "      <th>4</th>\n",
       "      <td>1975-05-01 00:00:00.000000</td>\n",
       "      <td>1849.0</td>\n",
       "      <td>254545</td>\n",
       "    </tr>\n",
       "    <tr>\n",
       "      <th>5</th>\n",
       "      <td>1975-06-01 00:00:00.000000</td>\n",
       "      <td>1849.0</td>\n",
       "      <td>254096</td>\n",
       "    </tr>\n",
       "    <tr>\n",
       "      <th>6</th>\n",
       "      <td>1975-07-01 00:00:00.000000</td>\n",
       "      <td>1916.0</td>\n",
       "      <td>275163</td>\n",
       "    </tr>\n",
       "    <tr>\n",
       "      <th>7</th>\n",
       "      <td>1975-08-01 00:00:00.000000</td>\n",
       "      <td>1961.0</td>\n",
       "      <td>281300</td>\n",
       "    </tr>\n",
       "    <tr>\n",
       "      <th>8</th>\n",
       "      <td>1975-09-01 00:00:00.000000</td>\n",
       "      <td>2065.0</td>\n",
       "      <td>270738</td>\n",
       "    </tr>\n",
       "    <tr>\n",
       "      <th>9</th>\n",
       "      <td>1975-10-01 00:00:00.000000</td>\n",
       "      <td>2270.0</td>\n",
       "      <td>265494</td>\n",
       "    </tr>\n",
       "  </tbody>\n",
       "</table>\n",
       "</div>"
      ],
      "text/plain": [
       "                         date    beef  births\n",
       "0  1975-01-01 00:00:00.000000  2106.0  265775\n",
       "1  1975-02-01 00:00:00.000000  1845.0  241045\n",
       "2  1975-03-01 00:00:00.000000  1891.0  268849\n",
       "3  1975-04-01 00:00:00.000000  1895.0  247455\n",
       "4  1975-05-01 00:00:00.000000  1849.0  254545\n",
       "5  1975-06-01 00:00:00.000000  1849.0  254096\n",
       "6  1975-07-01 00:00:00.000000  1916.0  275163\n",
       "7  1975-08-01 00:00:00.000000  1961.0  281300\n",
       "8  1975-09-01 00:00:00.000000  2065.0  270738\n",
       "9  1975-10-01 00:00:00.000000  2270.0  265494"
      ]
     },
     "execution_count": 34,
     "metadata": {},
     "output_type": "execute_result"
    }
   ],
   "source": [
    "#after join, print first 10 records\n",
    "pysqldf(q).head(10)"
   ]
  },
  {
   "cell_type": "code",
   "execution_count": 35,
   "metadata": {},
   "outputs": [],
   "source": [
    "# use queries within queries\n",
    "q = \"\"\"\n",
    "    SELECT \n",
    "        m1.date\n",
    "        , m1.beef \n",
    "    FROM \n",
    "        meat m1 \n",
    "    WHERE m1.date IN \n",
    "        (SELECT \n",
    "            date \n",
    "        FROM meat \n",
    "        WHERE \n",
    "            beef >= broilers \n",
    "        ORDER BY date)\n",
    "\"\"\""
   ]
  },
  {
   "cell_type": "code",
   "execution_count": 36,
   "metadata": {},
   "outputs": [
    {
     "name": "stdout",
     "output_type": "stream",
     "text": [
      "\n",
      "    SELECT \n",
      "        m1.date\n",
      "        , m1.beef \n",
      "    FROM \n",
      "        meat m1 \n",
      "    WHERE m1.date IN \n",
      "        (SELECT \n",
      "            date \n",
      "        FROM meat \n",
      "        WHERE \n",
      "            beef >= broilers \n",
      "        ORDER BY date)\n",
      "\n"
     ]
    }
   ],
   "source": [
    "print(q)"
   ]
  },
  {
   "cell_type": "code",
   "execution_count": 37,
   "metadata": {},
   "outputs": [
    {
     "data": {
      "text/html": [
       "<div>\n",
       "<style scoped>\n",
       "    .dataframe tbody tr th:only-of-type {\n",
       "        vertical-align: middle;\n",
       "    }\n",
       "\n",
       "    .dataframe tbody tr th {\n",
       "        vertical-align: top;\n",
       "    }\n",
       "\n",
       "    .dataframe thead th {\n",
       "        text-align: right;\n",
       "    }\n",
       "</style>\n",
       "<table border=\"1\" class=\"dataframe\">\n",
       "  <thead>\n",
       "    <tr style=\"text-align: right;\">\n",
       "      <th></th>\n",
       "      <th>date</th>\n",
       "      <th>beef</th>\n",
       "    </tr>\n",
       "  </thead>\n",
       "  <tbody>\n",
       "    <tr>\n",
       "      <th>0</th>\n",
       "      <td>1960-01-01 00:00:00.000000</td>\n",
       "      <td>1196.0</td>\n",
       "    </tr>\n",
       "    <tr>\n",
       "      <th>1</th>\n",
       "      <td>1960-02-01 00:00:00.000000</td>\n",
       "      <td>1089.0</td>\n",
       "    </tr>\n",
       "    <tr>\n",
       "      <th>2</th>\n",
       "      <td>1960-03-01 00:00:00.000000</td>\n",
       "      <td>1201.0</td>\n",
       "    </tr>\n",
       "    <tr>\n",
       "      <th>3</th>\n",
       "      <td>1960-04-01 00:00:00.000000</td>\n",
       "      <td>1066.0</td>\n",
       "    </tr>\n",
       "    <tr>\n",
       "      <th>4</th>\n",
       "      <td>1960-05-01 00:00:00.000000</td>\n",
       "      <td>1202.0</td>\n",
       "    </tr>\n",
       "  </tbody>\n",
       "</table>\n",
       "</div>"
      ],
      "text/plain": [
       "                         date    beef\n",
       "0  1960-01-01 00:00:00.000000  1196.0\n",
       "1  1960-02-01 00:00:00.000000  1089.0\n",
       "2  1960-03-01 00:00:00.000000  1201.0\n",
       "3  1960-04-01 00:00:00.000000  1066.0\n",
       "4  1960-05-01 00:00:00.000000  1202.0"
      ]
     },
     "execution_count": 37,
     "metadata": {},
     "output_type": "execute_result"
    }
   ],
   "source": [
    "pysqldf(q).head()"
   ]
  },
  {
   "cell_type": "code",
   "execution_count": null,
   "metadata": {},
   "outputs": [],
   "source": []
  },
  {
   "cell_type": "code",
   "execution_count": 38,
   "metadata": {},
   "outputs": [],
   "source": [
    "from sklearn.datasets import load_iris"
   ]
  },
  {
   "cell_type": "code",
   "execution_count": 148,
   "metadata": {
    "collapsed": true
   },
   "outputs": [],
   "source": [
    "import re"
   ]
  },
  {
   "cell_type": "code",
   "execution_count": 149,
   "metadata": {
    "collapsed": true
   },
   "outputs": [],
   "source": [
    "iris = load_iris()"
   ]
  },
  {
   "cell_type": "code",
   "execution_count": 150,
   "metadata": {},
   "outputs": [
    {
     "data": {
      "text/plain": [
       "array([[ 5.1,  3.5,  1.4,  0.2],\n",
       "       [ 4.9,  3. ,  1.4,  0.2],\n",
       "       [ 4.7,  3.2,  1.3,  0.2],\n",
       "       [ 4.6,  3.1,  1.5,  0.2],\n",
       "       [ 5. ,  3.6,  1.4,  0.2]])"
      ]
     },
     "execution_count": 150,
     "metadata": {},
     "output_type": "execute_result"
    }
   ],
   "source": [
    "#IRIS is now in numpy array format\n",
    "iris.data[0:5,]"
   ]
  },
  {
   "cell_type": "code",
   "execution_count": 151,
   "metadata": {
    "collapsed": true
   },
   "outputs": [],
   "source": [
    "# convert IRIS to a data frame object\n",
    "iris_df = pd.DataFrame(iris.data, columns=iris.feature_names)"
   ]
  },
  {
   "cell_type": "code",
   "execution_count": 152,
   "metadata": {},
   "outputs": [
    {
     "data": {
      "text/html": [
       "<div>\n",
       "<style>\n",
       "    .dataframe thead tr:only-child th {\n",
       "        text-align: right;\n",
       "    }\n",
       "\n",
       "    .dataframe thead th {\n",
       "        text-align: left;\n",
       "    }\n",
       "\n",
       "    .dataframe tbody tr th {\n",
       "        vertical-align: top;\n",
       "    }\n",
       "</style>\n",
       "<table border=\"1\" class=\"dataframe\">\n",
       "  <thead>\n",
       "    <tr style=\"text-align: right;\">\n",
       "      <th></th>\n",
       "      <th>sepal length (cm)</th>\n",
       "      <th>sepal width (cm)</th>\n",
       "      <th>petal length (cm)</th>\n",
       "      <th>petal width (cm)</th>\n",
       "    </tr>\n",
       "  </thead>\n",
       "  <tbody>\n",
       "    <tr>\n",
       "      <th>0</th>\n",
       "      <td>5.1</td>\n",
       "      <td>3.5</td>\n",
       "      <td>1.4</td>\n",
       "      <td>0.2</td>\n",
       "    </tr>\n",
       "    <tr>\n",
       "      <th>1</th>\n",
       "      <td>4.9</td>\n",
       "      <td>3.0</td>\n",
       "      <td>1.4</td>\n",
       "      <td>0.2</td>\n",
       "    </tr>\n",
       "    <tr>\n",
       "      <th>2</th>\n",
       "      <td>4.7</td>\n",
       "      <td>3.2</td>\n",
       "      <td>1.3</td>\n",
       "      <td>0.2</td>\n",
       "    </tr>\n",
       "    <tr>\n",
       "      <th>3</th>\n",
       "      <td>4.6</td>\n",
       "      <td>3.1</td>\n",
       "      <td>1.5</td>\n",
       "      <td>0.2</td>\n",
       "    </tr>\n",
       "    <tr>\n",
       "      <th>4</th>\n",
       "      <td>5.0</td>\n",
       "      <td>3.6</td>\n",
       "      <td>1.4</td>\n",
       "      <td>0.2</td>\n",
       "    </tr>\n",
       "  </tbody>\n",
       "</table>\n",
       "</div>"
      ],
      "text/plain": [
       "   sepal length (cm)  sepal width (cm)  petal length (cm)  petal width (cm)\n",
       "0                5.1               3.5                1.4               0.2\n",
       "1                4.9               3.0                1.4               0.2\n",
       "2                4.7               3.2                1.3               0.2\n",
       "3                4.6               3.1                1.5               0.2\n",
       "4                5.0               3.6                1.4               0.2"
      ]
     },
     "execution_count": 152,
     "metadata": {},
     "output_type": "execute_result"
    }
   ],
   "source": [
    "iris_df.head(5)"
   ]
  },
  {
   "cell_type": "code",
   "execution_count": 153,
   "metadata": {
    "collapsed": true
   },
   "outputs": [],
   "source": [
    "# join the target variable to the iris df\n",
    "iris_df['species'] = pd.Categorical.from_codes(iris.target, iris.target_names)"
   ]
  },
  {
   "cell_type": "code",
   "execution_count": 154,
   "metadata": {},
   "outputs": [
    {
     "data": {
      "text/html": [
       "<div>\n",
       "<style>\n",
       "    .dataframe thead tr:only-child th {\n",
       "        text-align: right;\n",
       "    }\n",
       "\n",
       "    .dataframe thead th {\n",
       "        text-align: left;\n",
       "    }\n",
       "\n",
       "    .dataframe tbody tr th {\n",
       "        vertical-align: top;\n",
       "    }\n",
       "</style>\n",
       "<table border=\"1\" class=\"dataframe\">\n",
       "  <thead>\n",
       "    <tr style=\"text-align: right;\">\n",
       "      <th></th>\n",
       "      <th>sepal length (cm)</th>\n",
       "      <th>sepal width (cm)</th>\n",
       "      <th>petal length (cm)</th>\n",
       "      <th>petal width (cm)</th>\n",
       "      <th>species</th>\n",
       "    </tr>\n",
       "  </thead>\n",
       "  <tbody>\n",
       "    <tr>\n",
       "      <th>0</th>\n",
       "      <td>5.1</td>\n",
       "      <td>3.5</td>\n",
       "      <td>1.4</td>\n",
       "      <td>0.2</td>\n",
       "      <td>setosa</td>\n",
       "    </tr>\n",
       "    <tr>\n",
       "      <th>1</th>\n",
       "      <td>4.9</td>\n",
       "      <td>3.0</td>\n",
       "      <td>1.4</td>\n",
       "      <td>0.2</td>\n",
       "      <td>setosa</td>\n",
       "    </tr>\n",
       "    <tr>\n",
       "      <th>2</th>\n",
       "      <td>4.7</td>\n",
       "      <td>3.2</td>\n",
       "      <td>1.3</td>\n",
       "      <td>0.2</td>\n",
       "      <td>setosa</td>\n",
       "    </tr>\n",
       "    <tr>\n",
       "      <th>3</th>\n",
       "      <td>4.6</td>\n",
       "      <td>3.1</td>\n",
       "      <td>1.5</td>\n",
       "      <td>0.2</td>\n",
       "      <td>setosa</td>\n",
       "    </tr>\n",
       "    <tr>\n",
       "      <th>4</th>\n",
       "      <td>5.0</td>\n",
       "      <td>3.6</td>\n",
       "      <td>1.4</td>\n",
       "      <td>0.2</td>\n",
       "      <td>setosa</td>\n",
       "    </tr>\n",
       "  </tbody>\n",
       "</table>\n",
       "</div>"
      ],
      "text/plain": [
       "   sepal length (cm)  sepal width (cm)  petal length (cm)  petal width (cm)  \\\n",
       "0                5.1               3.5                1.4               0.2   \n",
       "1                4.9               3.0                1.4               0.2   \n",
       "2                4.7               3.2                1.3               0.2   \n",
       "3                4.6               3.1                1.5               0.2   \n",
       "4                5.0               3.6                1.4               0.2   \n",
       "\n",
       "  species  \n",
       "0  setosa  \n",
       "1  setosa  \n",
       "2  setosa  \n",
       "3  setosa  \n",
       "4  setosa  "
      ]
     },
     "execution_count": 154,
     "metadata": {},
     "output_type": "execute_result"
    }
   ],
   "source": [
    "iris_df.head()"
   ]
  },
  {
   "cell_type": "code",
   "execution_count": 155,
   "metadata": {
    "collapsed": true
   },
   "outputs": [],
   "source": [
    "# replace the '(cm)' in the column header to NULL/blank to clean the feature names\n",
    "iris_df.columns = [re.sub(\"[() ]\", \"\", col) for col in iris_df.columns]\n"
   ]
  },
  {
   "cell_type": "code",
   "execution_count": 156,
   "metadata": {},
   "outputs": [
    {
     "data": {
      "text/html": [
       "<div>\n",
       "<style>\n",
       "    .dataframe thead tr:only-child th {\n",
       "        text-align: right;\n",
       "    }\n",
       "\n",
       "    .dataframe thead th {\n",
       "        text-align: left;\n",
       "    }\n",
       "\n",
       "    .dataframe tbody tr th {\n",
       "        vertical-align: top;\n",
       "    }\n",
       "</style>\n",
       "<table border=\"1\" class=\"dataframe\">\n",
       "  <thead>\n",
       "    <tr style=\"text-align: right;\">\n",
       "      <th></th>\n",
       "      <th>sepallengthcm</th>\n",
       "      <th>sepalwidthcm</th>\n",
       "      <th>petallengthcm</th>\n",
       "      <th>petalwidthcm</th>\n",
       "      <th>species</th>\n",
       "    </tr>\n",
       "  </thead>\n",
       "  <tbody>\n",
       "    <tr>\n",
       "      <th>0</th>\n",
       "      <td>5.1</td>\n",
       "      <td>3.5</td>\n",
       "      <td>1.4</td>\n",
       "      <td>0.2</td>\n",
       "      <td>setosa</td>\n",
       "    </tr>\n",
       "    <tr>\n",
       "      <th>1</th>\n",
       "      <td>4.9</td>\n",
       "      <td>3.0</td>\n",
       "      <td>1.4</td>\n",
       "      <td>0.2</td>\n",
       "      <td>setosa</td>\n",
       "    </tr>\n",
       "    <tr>\n",
       "      <th>2</th>\n",
       "      <td>4.7</td>\n",
       "      <td>3.2</td>\n",
       "      <td>1.3</td>\n",
       "      <td>0.2</td>\n",
       "      <td>setosa</td>\n",
       "    </tr>\n",
       "    <tr>\n",
       "      <th>3</th>\n",
       "      <td>4.6</td>\n",
       "      <td>3.1</td>\n",
       "      <td>1.5</td>\n",
       "      <td>0.2</td>\n",
       "      <td>setosa</td>\n",
       "    </tr>\n",
       "    <tr>\n",
       "      <th>4</th>\n",
       "      <td>5.0</td>\n",
       "      <td>3.6</td>\n",
       "      <td>1.4</td>\n",
       "      <td>0.2</td>\n",
       "      <td>setosa</td>\n",
       "    </tr>\n",
       "  </tbody>\n",
       "</table>\n",
       "</div>"
      ],
      "text/plain": [
       "   sepallengthcm  sepalwidthcm  petallengthcm  petalwidthcm species\n",
       "0            5.1           3.5            1.4           0.2  setosa\n",
       "1            4.9           3.0            1.4           0.2  setosa\n",
       "2            4.7           3.2            1.3           0.2  setosa\n",
       "3            4.6           3.1            1.5           0.2  setosa\n",
       "4            5.0           3.6            1.4           0.2  setosa"
      ]
     },
     "execution_count": 156,
     "metadata": {},
     "output_type": "execute_result"
    }
   ],
   "source": [
    "iris_df.head()"
   ]
  },
  {
   "cell_type": "code",
   "execution_count": 157,
   "metadata": {},
   "outputs": [
    {
     "name": "stdout",
     "output_type": "stream",
     "text": [
      "   sepallengthcm  sepalwidthcm  petallengthcm  petalwidthcm species\n",
      "0            5.1           3.5            1.4           0.2  setosa\n",
      "1            4.9           3.0            1.4           0.2  setosa\n",
      "2            4.7           3.2            1.3           0.2  setosa\n",
      "3            4.6           3.1            1.5           0.2  setosa\n",
      "4            5.0           3.6            1.4           0.2  setosa\n",
      "5            5.4           3.9            1.7           0.4  setosa\n",
      "6            4.6           3.4            1.4           0.3  setosa\n",
      "7            5.0           3.4            1.5           0.2  setosa\n",
      "8            4.4           2.9            1.4           0.2  setosa\n",
      "9            4.9           3.1            1.5           0.1  setosa\n"
     ]
    }
   ],
   "source": [
    "# print first 10 records from the iris df table\n",
    "print(sqldf(\"SELECT * FROM iris_df LIMIT 10;\"))"
   ]
  },
  {
   "cell_type": "code",
   "execution_count": 158,
   "metadata": {},
   "outputs": [
    {
     "name": "stdout",
     "output_type": "stream",
     "text": [
      "   sepalwidthcm species\n",
      "0           3.5  setosa\n",
      "1           3.0  setosa\n",
      "2           3.2  setosa\n",
      "3           3.1  setosa\n",
      "4           3.6  setosa\n",
      "5           3.9  setosa\n",
      "6           3.4  setosa\n",
      "7           3.4  setosa\n",
      "8           2.9  setosa\n",
      "9           3.1  setosa\n"
     ]
    }
   ],
   "source": [
    "# select sepal width column and species column and print first 10 records\n",
    "print(sqldf(\"SELECT sepalwidthcm, species FROM iris_df LIMIT 10;\"))"
   ]
  },
  {
   "cell_type": "code",
   "execution_count": 159,
   "metadata": {
    "collapsed": true
   },
   "outputs": [],
   "source": [
    "# let's compute some statistical functions from the table\n",
    "# compute the mean, minimum and maximum values of sepal width feature and group by the species category\n"
   ]
  },
  {
   "cell_type": "code",
   "execution_count": 160,
   "metadata": {
    "collapsed": true
   },
   "outputs": [],
   "source": [
    "# the query to perform the above task would look like as below\n",
    "q = \"\"\"\n",
    "      select\n",
    "        species\n",
    "        , avg(sepalwidthcm)\n",
    "        , min(sepalwidthcm)\n",
    "        , max(sepalwidthcm)\n",
    "      from\n",
    "        iris_df\n",
    "      group by\n",
    "        species;\n",
    "        \n",
    "\"\"\""
   ]
  },
  {
   "cell_type": "code",
   "execution_count": 161,
   "metadata": {},
   "outputs": [
    {
     "name": "stdout",
     "output_type": "stream",
     "text": [
      "\n",
      "      select\n",
      "        species\n",
      "        , avg(sepalwidthcm)\n",
      "        , min(sepalwidthcm)\n",
      "        , max(sepalwidthcm)\n",
      "      from\n",
      "        iris_df\n",
      "      group by\n",
      "        species;\n",
      "        \n",
      "\n"
     ]
    }
   ],
   "source": [
    "print(q)"
   ]
  },
  {
   "cell_type": "code",
   "execution_count": 162,
   "metadata": {},
   "outputs": [
    {
     "name": "stdout",
     "output_type": "stream",
     "text": [
      "      species  avg(sepalwidthcm)  min(sepalwidthcm)  max(sepalwidthcm)\n",
      "0      setosa              3.418                2.3                4.4\n",
      "1  versicolor              2.770                2.0                3.4\n",
      "2   virginica              2.974                2.2                3.8\n"
     ]
    }
   ],
   "source": [
    "print(sqldf(q))"
   ]
  },
  {
   "cell_type": "code",
   "execution_count": 163,
   "metadata": {
    "collapsed": true
   },
   "outputs": [],
   "source": [
    "#let's create a new table using inner join on the iris df by creating two dummy tables a and b and join by species column\n",
    "q = \"\"\"\n",
    "    select\n",
    "        a.*\n",
    "    from\n",
    "        iris_df a\n",
    "    inner join\n",
    "        iris_df b\n",
    "            on a.species = b.species\n",
    "    limit 10;\n",
    "\"\"\""
   ]
  },
  {
   "cell_type": "code",
   "execution_count": 164,
   "metadata": {},
   "outputs": [
    {
     "name": "stdout",
     "output_type": "stream",
     "text": [
      "\n",
      "    select\n",
      "        a.*\n",
      "    from\n",
      "        iris_df a\n",
      "    inner join\n",
      "        iris_df b\n",
      "            on a.species = b.species\n",
      "    limit 10;\n",
      "\n"
     ]
    }
   ],
   "source": [
    "print(q)"
   ]
  },
  {
   "cell_type": "code",
   "execution_count": 165,
   "metadata": {},
   "outputs": [
    {
     "name": "stdout",
     "output_type": "stream",
     "text": [
      "   sepallengthcm  sepalwidthcm  petallengthcm  petalwidthcm species\n",
      "0            5.1           3.5            1.4           0.2  setosa\n",
      "1            5.1           3.5            1.4           0.2  setosa\n",
      "2            5.1           3.5            1.4           0.2  setosa\n",
      "3            5.1           3.5            1.4           0.2  setosa\n",
      "4            5.1           3.5            1.4           0.2  setosa\n",
      "5            5.1           3.5            1.4           0.2  setosa\n",
      "6            5.1           3.5            1.4           0.2  setosa\n",
      "7            5.1           3.5            1.4           0.2  setosa\n",
      "8            5.1           3.5            1.4           0.2  setosa\n",
      "9            5.1           3.5            1.4           0.2  setosa\n"
     ]
    }
   ],
   "source": [
    "print(pysqldf(q))"
   ]
  },
  {
   "cell_type": "code",
   "execution_count": 166,
   "metadata": {
    "collapsed": true
   },
   "outputs": [],
   "source": [
    "# use a filter criteria to select some records where the condition is met"
   ]
  },
  {
   "cell_type": "code",
   "execution_count": 167,
   "metadata": {
    "collapsed": true
   },
   "outputs": [],
   "source": [
    "q = \"\"\"\n",
    "    select\n",
    "        *\n",
    "    from\n",
    "        iris_df\n",
    "    where\n",
    "        species = 'virginica'\n",
    "        and sepallengthcm > 7.7;\n",
    "\"\"\""
   ]
  },
  {
   "cell_type": "code",
   "execution_count": 168,
   "metadata": {},
   "outputs": [
    {
     "name": "stdout",
     "output_type": "stream",
     "text": [
      "\n",
      "    select\n",
      "        *\n",
      "    from\n",
      "        iris_df\n",
      "    where\n",
      "        species = 'virginica'\n",
      "        and sepallengthcm > 7.7;\n",
      "\n"
     ]
    }
   ],
   "source": [
    "print(q)"
   ]
  },
  {
   "cell_type": "code",
   "execution_count": 169,
   "metadata": {},
   "outputs": [
    {
     "name": "stdout",
     "output_type": "stream",
     "text": [
      "   sepallengthcm  sepalwidthcm  petallengthcm  petalwidthcm    species\n",
      "0            7.9           3.8            6.4           2.0  virginica\n"
     ]
    }
   ],
   "source": [
    "print(pysqldf(q))"
   ]
  },
  {
   "cell_type": "code",
   "execution_count": 170,
   "metadata": {
    "collapsed": true
   },
   "outputs": [],
   "source": [
    "# create one unique id column in iris df\n",
    "iris_df['id'] = range(len(iris_df))"
   ]
  },
  {
   "cell_type": "code",
   "execution_count": 171,
   "metadata": {},
   "outputs": [
    {
     "data": {
      "text/html": [
       "<div>\n",
       "<style>\n",
       "    .dataframe thead tr:only-child th {\n",
       "        text-align: right;\n",
       "    }\n",
       "\n",
       "    .dataframe thead th {\n",
       "        text-align: left;\n",
       "    }\n",
       "\n",
       "    .dataframe tbody tr th {\n",
       "        vertical-align: top;\n",
       "    }\n",
       "</style>\n",
       "<table border=\"1\" class=\"dataframe\">\n",
       "  <thead>\n",
       "    <tr style=\"text-align: right;\">\n",
       "      <th></th>\n",
       "      <th>sepallengthcm</th>\n",
       "      <th>sepalwidthcm</th>\n",
       "      <th>petallengthcm</th>\n",
       "      <th>petalwidthcm</th>\n",
       "      <th>species</th>\n",
       "      <th>id</th>\n",
       "    </tr>\n",
       "  </thead>\n",
       "  <tbody>\n",
       "    <tr>\n",
       "      <th>0</th>\n",
       "      <td>5.1</td>\n",
       "      <td>3.5</td>\n",
       "      <td>1.4</td>\n",
       "      <td>0.2</td>\n",
       "      <td>setosa</td>\n",
       "      <td>0</td>\n",
       "    </tr>\n",
       "    <tr>\n",
       "      <th>1</th>\n",
       "      <td>4.9</td>\n",
       "      <td>3.0</td>\n",
       "      <td>1.4</td>\n",
       "      <td>0.2</td>\n",
       "      <td>setosa</td>\n",
       "      <td>1</td>\n",
       "    </tr>\n",
       "    <tr>\n",
       "      <th>2</th>\n",
       "      <td>4.7</td>\n",
       "      <td>3.2</td>\n",
       "      <td>1.3</td>\n",
       "      <td>0.2</td>\n",
       "      <td>setosa</td>\n",
       "      <td>2</td>\n",
       "    </tr>\n",
       "    <tr>\n",
       "      <th>3</th>\n",
       "      <td>4.6</td>\n",
       "      <td>3.1</td>\n",
       "      <td>1.5</td>\n",
       "      <td>0.2</td>\n",
       "      <td>setosa</td>\n",
       "      <td>3</td>\n",
       "    </tr>\n",
       "    <tr>\n",
       "      <th>4</th>\n",
       "      <td>5.0</td>\n",
       "      <td>3.6</td>\n",
       "      <td>1.4</td>\n",
       "      <td>0.2</td>\n",
       "      <td>setosa</td>\n",
       "      <td>4</td>\n",
       "    </tr>\n",
       "  </tbody>\n",
       "</table>\n",
       "</div>"
      ],
      "text/plain": [
       "   sepallengthcm  sepalwidthcm  petallengthcm  petalwidthcm species  id\n",
       "0            5.1           3.5            1.4           0.2  setosa   0\n",
       "1            4.9           3.0            1.4           0.2  setosa   1\n",
       "2            4.7           3.2            1.3           0.2  setosa   2\n",
       "3            4.6           3.1            1.5           0.2  setosa   3\n",
       "4            5.0           3.6            1.4           0.2  setosa   4"
      ]
     },
     "execution_count": 171,
     "metadata": {},
     "output_type": "execute_result"
    }
   ],
   "source": [
    "iris_df.head()"
   ]
  },
  {
   "cell_type": "code",
   "execution_count": 172,
   "metadata": {
    "collapsed": true
   },
   "outputs": [],
   "source": [
    "# fetch the records where a logical condition is met\n",
    "q = \"\"\"\n",
    "    select\n",
    "        *\n",
    "    from\n",
    "        iris_df\n",
    "    where\n",
    "        id in (select id from iris_df where sepalwidthcm*sepallengthcm > 25);\n",
    "\"\"\""
   ]
  },
  {
   "cell_type": "code",
   "execution_count": 173,
   "metadata": {},
   "outputs": [
    {
     "name": "stdout",
     "output_type": "stream",
     "text": [
      "\n",
      "    select\n",
      "        *\n",
      "    from\n",
      "        iris_df\n",
      "    where\n",
      "        id in (select id from iris_df where sepalwidthcm*sepallengthcm > 25);\n",
      "\n"
     ]
    }
   ],
   "source": [
    "print(q)"
   ]
  },
  {
   "cell_type": "code",
   "execution_count": 174,
   "metadata": {},
   "outputs": [
    {
     "name": "stdout",
     "output_type": "stream",
     "text": [
      "   sepallengthcm  sepalwidthcm  petallengthcm  petalwidthcm    species   id\n",
      "0            5.7           4.4            1.5           0.4     setosa   15\n",
      "1            7.2           3.6            6.1           2.5  virginica  109\n",
      "2            7.7           3.8            6.7           2.2  virginica  117\n",
      "3            7.9           3.8            6.4           2.0  virginica  131\n"
     ]
    }
   ],
   "source": [
    "print(pysqldf(q))"
   ]
  },
  {
   "cell_type": "code",
   "execution_count": 83,
   "metadata": {},
   "outputs": [],
   "source": [
    "#sqldf() provides a convenient interface of running SQL statement on data frames. \n",
    "#Similarly, Python also offers multiple ways to interact between SQL and Pandas DataFrames by \n",
    "#leveraging the lightweight SQLite engine.\n",
    "\n",
    "#import the library SQLite\n",
    "import sqlite3\n"
   ]
  },
  {
   "cell_type": "code",
   "execution_count": 17,
   "metadata": {
    "collapsed": true
   },
   "outputs": [],
   "source": [
    "# generate some sample numbers\n",
    "def fib(n):\n",
    "    a, b = 0, 1\n",
    "\n",
    "    for _ in range(n):\n",
    "        yield a\n",
    "        a, b = b, a + b\n"
   ]
  },
  {
   "cell_type": "code",
   "execution_count": 18,
   "metadata": {
    "collapsed": true
   },
   "outputs": [],
   "source": [
    "#establish a conenction\n",
    "connection = sqlite3.connect(':memory:')\n",
    "cursor = connection.cursor()\n"
   ]
  },
  {
   "cell_type": "code",
   "execution_count": 19,
   "metadata": {},
   "outputs": [],
   "source": [
    "# check if the DB name exists\n",
    "with connection:\n",
    "    cursor.execute('''CREATE TABLE IF NOT EXISTS fib (\n",
    "                            calculated_value INTEGER)''')\n",
    "    cursor.executemany('INSERT INTO fib VALUES (?)',\n",
    "                       [(str(x),) for x in fib(10)])\n"
   ]
  },
  {
   "cell_type": "code",
   "execution_count": 20,
   "metadata": {},
   "outputs": [
    {
     "name": "stdout",
     "output_type": "stream",
     "text": [
      "[(0,), (1,), (1,), (2,), (3,), (5,), (8,), (13,), (21,), (34,)]\n"
     ]
    }
   ],
   "source": [
    "#run a sample query\n",
    "cursor.execute('SELECT * FROM fib')\n",
    "print(cursor.fetchall())"
   ]
  },
  {
   "cell_type": "code",
   "execution_count": 14,
   "metadata": {
    "collapsed": true
   },
   "outputs": [],
   "source": [
    "connection.close()"
   ]
  },
  {
   "cell_type": "code",
   "execution_count": 23,
   "metadata": {},
   "outputs": [],
   "source": [
    "conn = sqlite3.connect(':memory:')\n",
    "cur = conn.cursor()\n",
    "#design a table in the sqlite db\n",
    "sql = \"\"\"\n",
    "    create table sensor (\n",
    "        sid         integer primary key not null,\n",
    "        name        text,\n",
    "        notes       text\n",
    "    );\"\"\"\n",
    "\n",
    "_ = cur.execute(sql)"
   ]
  },
  {
   "cell_type": "code",
   "execution_count": 25,
   "metadata": {},
   "outputs": [
    {
     "name": "stdout",
     "output_type": "stream",
     "text": [
      "\n",
      "    create table sensor (\n",
      "        sid         integer primary key not null,\n",
      "        name        text,\n",
      "        notes       text\n",
      "    );\n"
     ]
    }
   ],
   "source": [
    "print(sql)"
   ]
  },
  {
   "cell_type": "code",
   "execution_count": 26,
   "metadata": {
    "collapsed": true
   },
   "outputs": [],
   "source": [
    "sql = \"insert into sensor(sid, name, notes) values (%d, '%s', '%s');\""
   ]
  },
  {
   "cell_type": "code",
   "execution_count": 27,
   "metadata": {},
   "outputs": [
    {
     "name": "stdout",
     "output_type": "stream",
     "text": [
      "insert into sensor(sid, name, notes) values (%d, '%s', '%s');\n"
     ]
    }
   ],
   "source": [
    "print(sql)"
   ]
  },
  {
   "cell_type": "code",
   "execution_count": 28,
   "metadata": {
    "collapsed": true
   },
   "outputs": [],
   "source": [
    "for (uid, name, notes) in [(201, 'Alpha', 'Sensor for weight'), \\\n",
    "                           (202, 'Beta', 'Sensor for conductivity'),\n",
    "                           (203, 'Gamma', 'Sensor for surface oxides'),\n",
    "                           (204, 'Delta', 'Sensor for length'),\n",
    "                           (205, 'Epsilon', 'Sensor for x-ray'),\n",
    "                           (206, 'Zeta', 'Color checker 9000'),\n",
    "                           (207, 'Eta', 'Ultra-violet detector'), ]:\n",
    "    cur.execute(sql % (uid, name, notes))\n"
   ]
  },
  {
   "cell_type": "code",
   "execution_count": 29,
   "metadata": {},
   "outputs": [
    {
     "name": "stdout",
     "output_type": "stream",
     "text": [
      "insert into sensor(sid, name, notes) values (%d, '%s', '%s');\n"
     ]
    }
   ],
   "source": [
    "print(sql)"
   ]
  },
  {
   "cell_type": "code",
   "execution_count": 53,
   "metadata": {
    "collapsed": true
   },
   "outputs": [],
   "source": [
    "import numpy as np\n",
    "from collections import defaultdict\n",
    "import gc\n",
    "import time\n",
    "from pandas import DataFrame\n",
    "from pandas.util.testing import rands\n",
    "import random\n"
   ]
  },
  {
   "cell_type": "code",
   "execution_count": 54,
   "metadata": {
    "collapsed": true
   },
   "outputs": [],
   "source": [
    "N = 10000"
   ]
  },
  {
   "cell_type": "code",
   "execution_count": 56,
   "metadata": {},
   "outputs": [],
   "source": [
    "indices = np.array([rands(10) for _ in range(N)], dtype='O')\n",
    "indices2 = np.array([rands(10) for _ in range(N)], dtype='O')\n",
    "key = np.tile(indices[:8000], 10)\n",
    "key2 = np.tile(indices2[:8000], 10)"
   ]
  },
  {
   "cell_type": "code",
   "execution_count": 57,
   "metadata": {
    "collapsed": true
   },
   "outputs": [],
   "source": [
    "left = DataFrame({'key' : key, 'key2':key2,\n",
    "                  'value' : np.random.randn(80000)})"
   ]
  },
  {
   "cell_type": "code",
   "execution_count": 59,
   "metadata": {},
   "outputs": [
    {
     "data": {
      "text/html": [
       "<div>\n",
       "<style>\n",
       "    .dataframe thead tr:only-child th {\n",
       "        text-align: right;\n",
       "    }\n",
       "\n",
       "    .dataframe thead th {\n",
       "        text-align: left;\n",
       "    }\n",
       "\n",
       "    .dataframe tbody tr th {\n",
       "        vertical-align: top;\n",
       "    }\n",
       "</style>\n",
       "<table border=\"1\" class=\"dataframe\">\n",
       "  <thead>\n",
       "    <tr style=\"text-align: right;\">\n",
       "      <th></th>\n",
       "      <th>key</th>\n",
       "      <th>key2</th>\n",
       "      <th>value</th>\n",
       "    </tr>\n",
       "  </thead>\n",
       "  <tbody>\n",
       "    <tr>\n",
       "      <th>0</th>\n",
       "      <td>YBOnfoSeQl</td>\n",
       "      <td>S1yHvLhEvt</td>\n",
       "      <td>-0.024912</td>\n",
       "    </tr>\n",
       "    <tr>\n",
       "      <th>1</th>\n",
       "      <td>Iq2HVee4P1</td>\n",
       "      <td>bP5DAe3xA8</td>\n",
       "      <td>0.926543</td>\n",
       "    </tr>\n",
       "    <tr>\n",
       "      <th>2</th>\n",
       "      <td>Jawh8RlJ6I</td>\n",
       "      <td>a2W0lGTv6t</td>\n",
       "      <td>-0.616354</td>\n",
       "    </tr>\n",
       "    <tr>\n",
       "      <th>3</th>\n",
       "      <td>fMibW63YLw</td>\n",
       "      <td>qUK5LlIXom</td>\n",
       "      <td>-0.222069</td>\n",
       "    </tr>\n",
       "    <tr>\n",
       "      <th>4</th>\n",
       "      <td>cFZUwReCpb</td>\n",
       "      <td>YVtc87ixLx</td>\n",
       "      <td>-1.034871</td>\n",
       "    </tr>\n",
       "  </tbody>\n",
       "</table>\n",
       "</div>"
      ],
      "text/plain": [
       "          key        key2     value\n",
       "0  YBOnfoSeQl  S1yHvLhEvt -0.024912\n",
       "1  Iq2HVee4P1  bP5DAe3xA8  0.926543\n",
       "2  Jawh8RlJ6I  a2W0lGTv6t -0.616354\n",
       "3  fMibW63YLw  qUK5LlIXom -0.222069\n",
       "4  cFZUwReCpb  YVtc87ixLx -1.034871"
      ]
     },
     "execution_count": 59,
     "metadata": {},
     "output_type": "execute_result"
    }
   ],
   "source": [
    "left.head()"
   ]
  },
  {
   "cell_type": "code",
   "execution_count": 60,
   "metadata": {
    "collapsed": true
   },
   "outputs": [],
   "source": [
    "right = DataFrame({'key': indices[2000:], 'key2':indices2[2000:],\n",
    "                   'value2' : np.random.randn(8000)})\n"
   ]
  },
  {
   "cell_type": "code",
   "execution_count": 61,
   "metadata": {},
   "outputs": [
    {
     "data": {
      "text/html": [
       "<div>\n",
       "<style>\n",
       "    .dataframe thead tr:only-child th {\n",
       "        text-align: right;\n",
       "    }\n",
       "\n",
       "    .dataframe thead th {\n",
       "        text-align: left;\n",
       "    }\n",
       "\n",
       "    .dataframe tbody tr th {\n",
       "        vertical-align: top;\n",
       "    }\n",
       "</style>\n",
       "<table border=\"1\" class=\"dataframe\">\n",
       "  <thead>\n",
       "    <tr style=\"text-align: right;\">\n",
       "      <th></th>\n",
       "      <th>key</th>\n",
       "      <th>key2</th>\n",
       "      <th>value2</th>\n",
       "    </tr>\n",
       "  </thead>\n",
       "  <tbody>\n",
       "    <tr>\n",
       "      <th>0</th>\n",
       "      <td>8GDq1LbK8Q</td>\n",
       "      <td>Riobsv5WIz</td>\n",
       "      <td>-0.983521</td>\n",
       "    </tr>\n",
       "    <tr>\n",
       "      <th>1</th>\n",
       "      <td>KRh4t1HBVk</td>\n",
       "      <td>4nP5qnpLdw</td>\n",
       "      <td>-0.710309</td>\n",
       "    </tr>\n",
       "    <tr>\n",
       "      <th>2</th>\n",
       "      <td>NB8bhTas7x</td>\n",
       "      <td>IRHnka1FVh</td>\n",
       "      <td>1.050322</td>\n",
       "    </tr>\n",
       "    <tr>\n",
       "      <th>3</th>\n",
       "      <td>xL2IYzW6bB</td>\n",
       "      <td>XMeyWpwrab</td>\n",
       "      <td>0.792583</td>\n",
       "    </tr>\n",
       "    <tr>\n",
       "      <th>4</th>\n",
       "      <td>xLD0Ihjru5</td>\n",
       "      <td>Q5OY980ovi</td>\n",
       "      <td>0.707779</td>\n",
       "    </tr>\n",
       "  </tbody>\n",
       "</table>\n",
       "</div>"
      ],
      "text/plain": [
       "          key        key2    value2\n",
       "0  8GDq1LbK8Q  Riobsv5WIz -0.983521\n",
       "1  KRh4t1HBVk  4nP5qnpLdw -0.710309\n",
       "2  NB8bhTas7x  IRHnka1FVh  1.050322\n",
       "3  xL2IYzW6bB  XMeyWpwrab  0.792583\n",
       "4  xLD0Ihjru5  Q5OY980ovi  0.707779"
      ]
     },
     "execution_count": 61,
     "metadata": {},
     "output_type": "execute_result"
    }
   ],
   "source": [
    "right.head()"
   ]
  },
  {
   "cell_type": "code",
   "execution_count": 62,
   "metadata": {
    "collapsed": true
   },
   "outputs": [],
   "source": [
    "right2 = right.append(right, ignore_index=True)\n",
    "right = right2\n"
   ]
  },
  {
   "cell_type": "code",
   "execution_count": 63,
   "metadata": {},
   "outputs": [
    {
     "data": {
      "text/html": [
       "<div>\n",
       "<style>\n",
       "    .dataframe thead tr:only-child th {\n",
       "        text-align: right;\n",
       "    }\n",
       "\n",
       "    .dataframe thead th {\n",
       "        text-align: left;\n",
       "    }\n",
       "\n",
       "    .dataframe tbody tr th {\n",
       "        vertical-align: top;\n",
       "    }\n",
       "</style>\n",
       "<table border=\"1\" class=\"dataframe\">\n",
       "  <thead>\n",
       "    <tr style=\"text-align: right;\">\n",
       "      <th></th>\n",
       "      <th>key</th>\n",
       "      <th>key2</th>\n",
       "      <th>value2</th>\n",
       "    </tr>\n",
       "  </thead>\n",
       "  <tbody>\n",
       "    <tr>\n",
       "      <th>0</th>\n",
       "      <td>8GDq1LbK8Q</td>\n",
       "      <td>Riobsv5WIz</td>\n",
       "      <td>-0.983521</td>\n",
       "    </tr>\n",
       "    <tr>\n",
       "      <th>1</th>\n",
       "      <td>KRh4t1HBVk</td>\n",
       "      <td>4nP5qnpLdw</td>\n",
       "      <td>-0.710309</td>\n",
       "    </tr>\n",
       "    <tr>\n",
       "      <th>2</th>\n",
       "      <td>NB8bhTas7x</td>\n",
       "      <td>IRHnka1FVh</td>\n",
       "      <td>1.050322</td>\n",
       "    </tr>\n",
       "    <tr>\n",
       "      <th>3</th>\n",
       "      <td>xL2IYzW6bB</td>\n",
       "      <td>XMeyWpwrab</td>\n",
       "      <td>0.792583</td>\n",
       "    </tr>\n",
       "    <tr>\n",
       "      <th>4</th>\n",
       "      <td>xLD0Ihjru5</td>\n",
       "      <td>Q5OY980ovi</td>\n",
       "      <td>0.707779</td>\n",
       "    </tr>\n",
       "  </tbody>\n",
       "</table>\n",
       "</div>"
      ],
      "text/plain": [
       "          key        key2    value2\n",
       "0  8GDq1LbK8Q  Riobsv5WIz -0.983521\n",
       "1  KRh4t1HBVk  4nP5qnpLdw -0.710309\n",
       "2  NB8bhTas7x  IRHnka1FVh  1.050322\n",
       "3  xL2IYzW6bB  XMeyWpwrab  0.792583\n",
       "4  xLD0Ihjru5  Q5OY980ovi  0.707779"
      ]
     },
     "execution_count": 63,
     "metadata": {},
     "output_type": "execute_result"
    }
   ],
   "source": [
    "right.head()"
   ]
  },
  {
   "cell_type": "code",
   "execution_count": 64,
   "metadata": {},
   "outputs": [
    {
     "data": {
      "text/html": [
       "<div>\n",
       "<style>\n",
       "    .dataframe thead tr:only-child th {\n",
       "        text-align: right;\n",
       "    }\n",
       "\n",
       "    .dataframe thead th {\n",
       "        text-align: left;\n",
       "    }\n",
       "\n",
       "    .dataframe tbody tr th {\n",
       "        vertical-align: top;\n",
       "    }\n",
       "</style>\n",
       "<table border=\"1\" class=\"dataframe\">\n",
       "  <thead>\n",
       "    <tr style=\"text-align: right;\">\n",
       "      <th></th>\n",
       "      <th>key</th>\n",
       "      <th>key2</th>\n",
       "      <th>value2</th>\n",
       "    </tr>\n",
       "  </thead>\n",
       "  <tbody>\n",
       "    <tr>\n",
       "      <th>0</th>\n",
       "      <td>8GDq1LbK8Q</td>\n",
       "      <td>Riobsv5WIz</td>\n",
       "      <td>-0.983521</td>\n",
       "    </tr>\n",
       "    <tr>\n",
       "      <th>1</th>\n",
       "      <td>KRh4t1HBVk</td>\n",
       "      <td>4nP5qnpLdw</td>\n",
       "      <td>-0.710309</td>\n",
       "    </tr>\n",
       "    <tr>\n",
       "      <th>2</th>\n",
       "      <td>NB8bhTas7x</td>\n",
       "      <td>IRHnka1FVh</td>\n",
       "      <td>1.050322</td>\n",
       "    </tr>\n",
       "    <tr>\n",
       "      <th>3</th>\n",
       "      <td>xL2IYzW6bB</td>\n",
       "      <td>XMeyWpwrab</td>\n",
       "      <td>0.792583</td>\n",
       "    </tr>\n",
       "    <tr>\n",
       "      <th>4</th>\n",
       "      <td>xLD0Ihjru5</td>\n",
       "      <td>Q5OY980ovi</td>\n",
       "      <td>0.707779</td>\n",
       "    </tr>\n",
       "  </tbody>\n",
       "</table>\n",
       "</div>"
      ],
      "text/plain": [
       "          key        key2    value2\n",
       "0  8GDq1LbK8Q  Riobsv5WIz -0.983521\n",
       "1  KRh4t1HBVk  4nP5qnpLdw -0.710309\n",
       "2  NB8bhTas7x  IRHnka1FVh  1.050322\n",
       "3  xL2IYzW6bB  XMeyWpwrab  0.792583\n",
       "4  xLD0Ihjru5  Q5OY980ovi  0.707779"
      ]
     },
     "execution_count": 64,
     "metadata": {},
     "output_type": "execute_result"
    }
   ],
   "source": [
    "right2.head()"
   ]
  },
  {
   "cell_type": "code",
   "execution_count": 65,
   "metadata": {
    "collapsed": true
   },
   "outputs": [],
   "source": [
    "random.shuffle(key2)"
   ]
  },
  {
   "cell_type": "code",
   "execution_count": 66,
   "metadata": {
    "collapsed": true
   },
   "outputs": [],
   "source": [
    "indices2 = indices.copy()"
   ]
  },
  {
   "cell_type": "code",
   "execution_count": 67,
   "metadata": {
    "collapsed": true
   },
   "outputs": [],
   "source": [
    "random.shuffle(indices2)"
   ]
  },
  {
   "cell_type": "code",
   "execution_count": 68,
   "metadata": {
    "collapsed": true
   },
   "outputs": [],
   "source": [
    "# Prepare Database\n",
    "import sqlite3\n",
    "create_sql_indexes = False"
   ]
  },
  {
   "cell_type": "code",
   "execution_count": 69,
   "metadata": {
    "collapsed": true
   },
   "outputs": [],
   "source": [
    "conn = sqlite3.connect(':memory:')"
   ]
  },
  {
   "cell_type": "code",
   "execution_count": 70,
   "metadata": {},
   "outputs": [
    {
     "data": {
      "text/plain": [
       "<sqlite3.Cursor at 0x2d81770a110>"
      ]
     },
     "execution_count": 70,
     "metadata": {},
     "output_type": "execute_result"
    }
   ],
   "source": [
    "conn.execute('create table left( key varchar(10), key2 varchar(10), value int);')"
   ]
  },
  {
   "cell_type": "code",
   "execution_count": 71,
   "metadata": {},
   "outputs": [
    {
     "data": {
      "text/plain": [
       "<sqlite3.Cursor at 0x2d81770a180>"
      ]
     },
     "execution_count": 71,
     "metadata": {},
     "output_type": "execute_result"
    }
   ],
   "source": [
    "conn.execute('create table right( key varchar(10), key2 varchar(10), value2 int);')"
   ]
  },
  {
   "cell_type": "code",
   "execution_count": 72,
   "metadata": {},
   "outputs": [
    {
     "data": {
      "text/plain": [
       "<sqlite3.Cursor at 0x2d81770a1f0>"
      ]
     },
     "execution_count": 72,
     "metadata": {},
     "output_type": "execute_result"
    }
   ],
   "source": [
    "conn.executemany('insert into left values (?, ?, ?)',\n",
    "                 zip(key, key2, left['value']))"
   ]
  },
  {
   "cell_type": "code",
   "execution_count": 73,
   "metadata": {},
   "outputs": [
    {
     "data": {
      "text/plain": [
       "<sqlite3.Cursor at 0x2d81770a260>"
      ]
     },
     "execution_count": 73,
     "metadata": {},
     "output_type": "execute_result"
    }
   ],
   "source": [
    "conn.executemany('insert into right values (?, ?, ?)',\n",
    "                 zip(right['key'], right['key2'], right['value2']))\n"
   ]
  },
  {
   "cell_type": "code",
   "execution_count": 74,
   "metadata": {
    "collapsed": true
   },
   "outputs": [],
   "source": [
    "# Create Indices\n",
    "if create_sql_indexes:\n",
    "    conn.execute('create index left_ix on left(key, key2)')\n",
    "    conn.execute('create index right_ix on right(key, key2)')\n"
   ]
  },
  {
   "cell_type": "code",
   "execution_count": 75,
   "metadata": {
    "collapsed": true
   },
   "outputs": [],
   "source": [
    "join_methods = ['inner', 'left outer', 'left'] # others not supported"
   ]
  },
  {
   "cell_type": "code",
   "execution_count": 76,
   "metadata": {},
   "outputs": [
    {
     "data": {
      "text/plain": [
       "['inner', 'left outer', 'left']"
      ]
     },
     "execution_count": 76,
     "metadata": {},
     "output_type": "execute_result"
    }
   ],
   "source": [
    "join_methods"
   ]
  },
  {
   "cell_type": "code",
   "execution_count": 77,
   "metadata": {
    "collapsed": true
   },
   "outputs": [],
   "source": [
    "sql_results = DataFrame(index=join_methods, columns=[False])"
   ]
  },
  {
   "cell_type": "code",
   "execution_count": 78,
   "metadata": {},
   "outputs": [
    {
     "data": {
      "text/html": [
       "<div>\n",
       "<style>\n",
       "    .dataframe thead tr:only-child th {\n",
       "        text-align: right;\n",
       "    }\n",
       "\n",
       "    .dataframe thead th {\n",
       "        text-align: left;\n",
       "    }\n",
       "\n",
       "    .dataframe tbody tr th {\n",
       "        vertical-align: top;\n",
       "    }\n",
       "</style>\n",
       "<table border=\"1\" class=\"dataframe\">\n",
       "  <thead>\n",
       "    <tr style=\"text-align: right;\">\n",
       "      <th></th>\n",
       "      <th>False</th>\n",
       "    </tr>\n",
       "  </thead>\n",
       "  <tbody>\n",
       "    <tr>\n",
       "      <th>inner</th>\n",
       "      <td>NaN</td>\n",
       "    </tr>\n",
       "    <tr>\n",
       "      <th>left outer</th>\n",
       "      <td>NaN</td>\n",
       "    </tr>\n",
       "    <tr>\n",
       "      <th>left</th>\n",
       "      <td>NaN</td>\n",
       "    </tr>\n",
       "  </tbody>\n",
       "</table>\n",
       "</div>"
      ],
      "text/plain": [
       "           False\n",
       "inner        NaN\n",
       "left outer   NaN\n",
       "left         NaN"
      ]
     },
     "execution_count": 78,
     "metadata": {},
     "output_type": "execute_result"
    }
   ],
   "source": [
    "sql_results"
   ]
  },
  {
   "cell_type": "code",
   "execution_count": 79,
   "metadata": {
    "collapsed": true
   },
   "outputs": [],
   "source": [
    "niter = 5"
   ]
  },
  {
   "cell_type": "code",
   "execution_count": 81,
   "metadata": {},
   "outputs": [],
   "source": [
    "for sort in [False]:\n",
    "    for join_method in join_methods:\n",
    "        sql = \"\"\"select *\n",
    "        from left\n",
    "           %s join right\n",
    "             on left.key=right.key\n",
    "               and left.key2 = right.key2\"\"\" % join_method\n",
    "        if sort:\n",
    "            sql = '%s order by key, key2' % sql\n",
    "        f = lambda: list(conn.execute(sql)) # list fetches results\n",
    "        g = lambda: conn.execute(sql) # list fetches results\n",
    "        gc.disable()\n",
    "        start = time.time()\n",
    "        for _ in range(niter):\n",
    "            f()\n",
    "        elapsed = (time.time() - start) / niter\n",
    "        gc.enable()\n",
    "        sql_results[sort][join_method] = elapsed\n",
    "sql_results.columns = ['sqlite3'] # ['dont_sort', 'sort']\n",
    "sql_results.index = ['inner', 'outer', 'left']"
   ]
  },
  {
   "cell_type": "code",
   "execution_count": 82,
   "metadata": {},
   "outputs": [
    {
     "data": {
      "text/html": [
       "<div>\n",
       "<style>\n",
       "    .dataframe thead tr:only-child th {\n",
       "        text-align: right;\n",
       "    }\n",
       "\n",
       "    .dataframe thead th {\n",
       "        text-align: left;\n",
       "    }\n",
       "\n",
       "    .dataframe tbody tr th {\n",
       "        vertical-align: top;\n",
       "    }\n",
       "</style>\n",
       "<table border=\"1\" class=\"dataframe\">\n",
       "  <thead>\n",
       "    <tr style=\"text-align: right;\">\n",
       "      <th></th>\n",
       "      <th>sqlite3</th>\n",
       "    </tr>\n",
       "  </thead>\n",
       "  <tbody>\n",
       "    <tr>\n",
       "      <th>inner</th>\n",
       "      <td>0.165884</td>\n",
       "    </tr>\n",
       "    <tr>\n",
       "      <th>outer</th>\n",
       "      <td>0.409653</td>\n",
       "    </tr>\n",
       "    <tr>\n",
       "      <th>left</th>\n",
       "      <td>0.425291</td>\n",
       "    </tr>\n",
       "  </tbody>\n",
       "</table>\n",
       "</div>"
      ],
      "text/plain": [
       "        sqlite3\n",
       "inner  0.165884\n",
       "outer  0.409653\n",
       "left   0.425291"
      ]
     },
     "execution_count": 82,
     "metadata": {},
     "output_type": "execute_result"
    }
   ],
   "source": [
    "sql_results"
   ]
  },
  {
   "cell_type": "code",
   "execution_count": 84,
   "metadata": {
    "collapsed": true
   },
   "outputs": [],
   "source": [
    "#advantages of pysqldf over pandasql are two-fold. \n",
    "\n",
    "#1. pysqldf is 2 – 3 times faster than pandasql. \n",
    "#2. pysqldf supports new function definitions, which is not available in pandasql. \n",
    "\n",
    "#However, the generic python interface to an in-memory SQLite database can be more efficient and \n",
    "#flexible than both pysqldf and pandasql"
   ]
  },
  {
   "cell_type": "code",
   "execution_count": 109,
   "metadata": {
    "collapsed": true
   },
   "outputs": [],
   "source": [
    "import sqlalchemy"
   ]
  },
  {
   "cell_type": "code",
   "execution_count": 110,
   "metadata": {},
   "outputs": [
    {
     "data": {
      "text/plain": [
       "'1.1.13'"
      ]
     },
     "execution_count": 110,
     "metadata": {},
     "output_type": "execute_result"
    }
   ],
   "source": [
    "sqlalchemy.__version__"
   ]
  },
  {
   "cell_type": "markdown",
   "metadata": {},
   "source": [
    "#The SQLAlchemy Object Relational Mapper presents a method of associating user-defined Python classes with database tables, and instances of those classes (objects) with rows in their corresponding tables. It includes a system that transparently synchronizes all changes in state between objects and their related rows, called a unit of work, as well as a system for expressing database queries in terms of the user defined classes and their defined relationships between each other."
   ]
  },
  {
   "cell_type": "code",
   "execution_count": 111,
   "metadata": {
    "collapsed": true
   },
   "outputs": [],
   "source": [
    "from sqlalchemy import create_engine"
   ]
  },
  {
   "cell_type": "code",
   "execution_count": 112,
   "metadata": {
    "collapsed": true
   },
   "outputs": [],
   "source": [
    "engine = create_engine('sqlite:///:memory:', echo=True)"
   ]
  },
  {
   "cell_type": "code",
   "execution_count": 113,
   "metadata": {
    "collapsed": true
   },
   "outputs": [],
   "source": [
    "#The echo flag is a shortcut to setting up SQLAlchemy logging, which is accomplished via Python’s standard logging module. "
   ]
  },
  {
   "cell_type": "code",
   "execution_count": 114,
   "metadata": {
    "collapsed": true
   },
   "outputs": [],
   "source": [
    "#The return value of create_engine() is an instance of Engine, and it represents the core interface to the database, \n",
    "#adapted through a dialect that handles the details of the database and DBAPI in use. In this case the SQLite dialect will \n",
    "#interpret instructions to the Python built-in sqlite3 module.\n",
    "\n"
   ]
  },
  {
   "cell_type": "code",
   "execution_count": 115,
   "metadata": {
    "collapsed": true
   },
   "outputs": [],
   "source": [
    "from sqlalchemy.ext.declarative import declarative_base"
   ]
  },
  {
   "cell_type": "code",
   "execution_count": 116,
   "metadata": {
    "collapsed": true
   },
   "outputs": [],
   "source": [
    "Base = declarative_base()"
   ]
  },
  {
   "cell_type": "code",
   "execution_count": 117,
   "metadata": {
    "collapsed": true
   },
   "outputs": [],
   "source": [
    "from sqlalchemy import Column, Integer, String"
   ]
  },
  {
   "cell_type": "code",
   "execution_count": 118,
   "metadata": {
    "collapsed": true
   },
   "outputs": [],
   "source": [
    "class User(Base):\n",
    "...     __tablename__ = 'users'\n",
    "...\n",
    "...     id = Column(Integer, primary_key=True)\n",
    "...     name = Column(String)\n",
    "...     fullname = Column(String)\n",
    "...     password = Column(String)\n",
    "...\n",
    "...     def __repr__(self):\n",
    "...        return \"<User(name='%s', fullname='%s', password='%s')>\" % (\n",
    "...                             self.name, self.fullname, self.password)"
   ]
  },
  {
   "cell_type": "code",
   "execution_count": 120,
   "metadata": {
    "collapsed": true
   },
   "outputs": [],
   "source": [
    "#With our User class constructed via the Declarative system, we have defined information about our table,\n",
    "#known as table metadata. The object used by SQLAlchemy to represent this information for a specific table \n",
    "#is called the Table object, \n",
    "#and here Declarative has made one for us."
   ]
  },
  {
   "cell_type": "code",
   "execution_count": 122,
   "metadata": {},
   "outputs": [
    {
     "data": {
      "text/plain": [
       "Table('users', MetaData(bind=None), Column('id', Integer(), table=<users>, primary_key=True, nullable=False), Column('name', String(), table=<users>), Column('fullname', String(), table=<users>), Column('password', String(), table=<users>), schema=None)"
      ]
     },
     "execution_count": 122,
     "metadata": {},
     "output_type": "execute_result"
    }
   ],
   "source": [
    "User.__table__ "
   ]
  },
  {
   "cell_type": "markdown",
   "metadata": {},
   "source": [
    "#The MetaData is a registry which includes the ability to emit a limited set of schema generation commands to the database. As our SQLite database does not actually have a users table present, we can use MetaData to issue CREATE TABLE statements to the database for all tables that don’t yet exist. "
   ]
  },
  {
   "cell_type": "code",
   "execution_count": 123,
   "metadata": {},
   "outputs": [
    {
     "name": "stdout",
     "output_type": "stream",
     "text": [
      "2018-03-18 07:28:37,666 INFO sqlalchemy.engine.base.Engine SELECT CAST('test plain returns' AS VARCHAR(60)) AS anon_1\n"
     ]
    },
    {
     "name": "stderr",
     "output_type": "stream",
     "text": [
      "INFO:sqlalchemy.engine.base.Engine:SELECT CAST('test plain returns' AS VARCHAR(60)) AS anon_1\n"
     ]
    },
    {
     "name": "stdout",
     "output_type": "stream",
     "text": [
      "2018-03-18 07:28:37,768 INFO sqlalchemy.engine.base.Engine ()\n"
     ]
    },
    {
     "name": "stderr",
     "output_type": "stream",
     "text": [
      "INFO:sqlalchemy.engine.base.Engine:()\n"
     ]
    },
    {
     "name": "stdout",
     "output_type": "stream",
     "text": [
      "2018-03-18 07:28:37,774 INFO sqlalchemy.engine.base.Engine SELECT CAST('test unicode returns' AS VARCHAR(60)) AS anon_1\n"
     ]
    },
    {
     "name": "stderr",
     "output_type": "stream",
     "text": [
      "INFO:sqlalchemy.engine.base.Engine:SELECT CAST('test unicode returns' AS VARCHAR(60)) AS anon_1\n"
     ]
    },
    {
     "name": "stdout",
     "output_type": "stream",
     "text": [
      "2018-03-18 07:28:37,779 INFO sqlalchemy.engine.base.Engine ()\n"
     ]
    },
    {
     "name": "stderr",
     "output_type": "stream",
     "text": [
      "INFO:sqlalchemy.engine.base.Engine:()\n"
     ]
    },
    {
     "name": "stdout",
     "output_type": "stream",
     "text": [
      "2018-03-18 07:28:37,783 INFO sqlalchemy.engine.base.Engine PRAGMA table_info(\"users\")\n"
     ]
    },
    {
     "name": "stderr",
     "output_type": "stream",
     "text": [
      "INFO:sqlalchemy.engine.base.Engine:PRAGMA table_info(\"users\")\n"
     ]
    },
    {
     "name": "stdout",
     "output_type": "stream",
     "text": [
      "2018-03-18 07:28:37,787 INFO sqlalchemy.engine.base.Engine ()\n"
     ]
    },
    {
     "name": "stderr",
     "output_type": "stream",
     "text": [
      "INFO:sqlalchemy.engine.base.Engine:()\n"
     ]
    },
    {
     "name": "stdout",
     "output_type": "stream",
     "text": [
      "2018-03-18 07:28:37,795 INFO sqlalchemy.engine.base.Engine \n",
      "CREATE TABLE users (\n",
      "\tid INTEGER NOT NULL, \n",
      "\tname VARCHAR, \n",
      "\tfullname VARCHAR, \n",
      "\tpassword VARCHAR, \n",
      "\tPRIMARY KEY (id)\n",
      ")\n",
      "\n",
      "\n"
     ]
    },
    {
     "name": "stderr",
     "output_type": "stream",
     "text": [
      "INFO:sqlalchemy.engine.base.Engine:\n",
      "CREATE TABLE users (\n",
      "\tid INTEGER NOT NULL, \n",
      "\tname VARCHAR, \n",
      "\tfullname VARCHAR, \n",
      "\tpassword VARCHAR, \n",
      "\tPRIMARY KEY (id)\n",
      ")\n",
      "\n",
      "\n"
     ]
    },
    {
     "name": "stdout",
     "output_type": "stream",
     "text": [
      "2018-03-18 07:28:37,799 INFO sqlalchemy.engine.base.Engine ()\n"
     ]
    },
    {
     "name": "stderr",
     "output_type": "stream",
     "text": [
      "INFO:sqlalchemy.engine.base.Engine:()\n"
     ]
    },
    {
     "name": "stdout",
     "output_type": "stream",
     "text": [
      "2018-03-18 07:28:37,803 INFO sqlalchemy.engine.base.Engine COMMIT\n"
     ]
    },
    {
     "name": "stderr",
     "output_type": "stream",
     "text": [
      "INFO:sqlalchemy.engine.base.Engine:COMMIT\n"
     ]
    }
   ],
   "source": [
    "Base.metadata.create_all(engine)"
   ]
  },
  {
   "cell_type": "code",
   "execution_count": 124,
   "metadata": {
    "collapsed": true
   },
   "outputs": [],
   "source": [
    "ed_user = User(name='ed', fullname='Ed Jones', password='edspassword')"
   ]
  },
  {
   "cell_type": "code",
   "execution_count": 125,
   "metadata": {},
   "outputs": [
    {
     "data": {
      "text/plain": [
       "'ed'"
      ]
     },
     "execution_count": 125,
     "metadata": {},
     "output_type": "execute_result"
    }
   ],
   "source": [
    "ed_user.name"
   ]
  },
  {
   "cell_type": "code",
   "execution_count": 126,
   "metadata": {},
   "outputs": [
    {
     "data": {
      "text/plain": [
       "'edspassword'"
      ]
     },
     "execution_count": 126,
     "metadata": {},
     "output_type": "execute_result"
    }
   ],
   "source": [
    "ed_user.password"
   ]
  },
  {
   "cell_type": "code",
   "execution_count": 127,
   "metadata": {},
   "outputs": [
    {
     "data": {
      "text/plain": [
       "'None'"
      ]
     },
     "execution_count": 127,
     "metadata": {},
     "output_type": "execute_result"
    }
   ],
   "source": [
    "str(ed_user.id)"
   ]
  },
  {
   "cell_type": "code",
   "execution_count": 128,
   "metadata": {
    "collapsed": true
   },
   "outputs": [],
   "source": [
    "from sqlalchemy.orm import sessionmaker"
   ]
  },
  {
   "cell_type": "code",
   "execution_count": 129,
   "metadata": {
    "collapsed": true
   },
   "outputs": [],
   "source": [
    "Session = sessionmaker(bind=engine)"
   ]
  },
  {
   "cell_type": "code",
   "execution_count": 130,
   "metadata": {
    "collapsed": true
   },
   "outputs": [],
   "source": [
    "#In the case where your application does not yet have an Engine when you define your module-level objects"
   ]
  },
  {
   "cell_type": "code",
   "execution_count": 131,
   "metadata": {
    "collapsed": true
   },
   "outputs": [],
   "source": [
    "Session = sessionmaker()"
   ]
  },
  {
   "cell_type": "code",
   "execution_count": 132,
   "metadata": {
    "collapsed": true
   },
   "outputs": [],
   "source": [
    "#when you create your engine with create_engine(), connect it to the Session using configure()"
   ]
  },
  {
   "cell_type": "code",
   "execution_count": 133,
   "metadata": {
    "collapsed": true
   },
   "outputs": [],
   "source": [
    "Session.configure(bind=engine) "
   ]
  },
  {
   "cell_type": "code",
   "execution_count": 134,
   "metadata": {
    "collapsed": true
   },
   "outputs": [],
   "source": [
    "session = Session()"
   ]
  },
  {
   "cell_type": "code",
   "execution_count": 135,
   "metadata": {
    "collapsed": true
   },
   "outputs": [],
   "source": [
    "#Adding and Updating Objects"
   ]
  },
  {
   "cell_type": "code",
   "execution_count": 136,
   "metadata": {
    "collapsed": true
   },
   "outputs": [],
   "source": [
    "ed_user = User(name='ed', fullname='Ed Jones', password='edspassword')"
   ]
  },
  {
   "cell_type": "code",
   "execution_count": 137,
   "metadata": {
    "collapsed": true
   },
   "outputs": [],
   "source": [
    "session.add(ed_user)"
   ]
  },
  {
   "cell_type": "code",
   "execution_count": 138,
   "metadata": {},
   "outputs": [
    {
     "name": "stdout",
     "output_type": "stream",
     "text": [
      "2018-03-18 07:32:42,998 INFO sqlalchemy.engine.base.Engine BEGIN (implicit)\n"
     ]
    },
    {
     "name": "stderr",
     "output_type": "stream",
     "text": [
      "INFO:sqlalchemy.engine.base.Engine:BEGIN (implicit)\n"
     ]
    },
    {
     "name": "stdout",
     "output_type": "stream",
     "text": [
      "2018-03-18 07:32:43,005 INFO sqlalchemy.engine.base.Engine INSERT INTO users (name, fullname, password) VALUES (?, ?, ?)\n"
     ]
    },
    {
     "name": "stderr",
     "output_type": "stream",
     "text": [
      "INFO:sqlalchemy.engine.base.Engine:INSERT INTO users (name, fullname, password) VALUES (?, ?, ?)\n"
     ]
    },
    {
     "name": "stdout",
     "output_type": "stream",
     "text": [
      "2018-03-18 07:32:43,007 INFO sqlalchemy.engine.base.Engine ('ed', 'Ed Jones', 'edspassword')\n"
     ]
    },
    {
     "name": "stderr",
     "output_type": "stream",
     "text": [
      "INFO:sqlalchemy.engine.base.Engine:('ed', 'Ed Jones', 'edspassword')\n"
     ]
    },
    {
     "name": "stdout",
     "output_type": "stream",
     "text": [
      "2018-03-18 07:32:43,013 INFO sqlalchemy.engine.base.Engine SELECT users.id AS users_id, users.name AS users_name, users.fullname AS users_fullname, users.password AS users_password \n",
      "FROM users \n",
      "WHERE users.name = ?\n",
      " LIMIT ? OFFSET ?\n"
     ]
    },
    {
     "name": "stderr",
     "output_type": "stream",
     "text": [
      "INFO:sqlalchemy.engine.base.Engine:SELECT users.id AS users_id, users.name AS users_name, users.fullname AS users_fullname, users.password AS users_password \n",
      "FROM users \n",
      "WHERE users.name = ?\n",
      " LIMIT ? OFFSET ?\n"
     ]
    },
    {
     "name": "stdout",
     "output_type": "stream",
     "text": [
      "2018-03-18 07:32:43,015 INFO sqlalchemy.engine.base.Engine ('ed', 1, 0)\n"
     ]
    },
    {
     "name": "stderr",
     "output_type": "stream",
     "text": [
      "INFO:sqlalchemy.engine.base.Engine:('ed', 1, 0)\n"
     ]
    }
   ],
   "source": [
    "our_user = session.query(User).filter_by(name='ed').first() "
   ]
  },
  {
   "cell_type": "code",
   "execution_count": 139,
   "metadata": {},
   "outputs": [
    {
     "data": {
      "text/plain": [
       "<User(name='ed', fullname='Ed Jones', password='edspassword')>"
      ]
     },
     "execution_count": 139,
     "metadata": {},
     "output_type": "execute_result"
    }
   ],
   "source": [
    "our_user"
   ]
  },
  {
   "cell_type": "code",
   "execution_count": 140,
   "metadata": {},
   "outputs": [
    {
     "data": {
      "text/plain": [
       "True"
      ]
     },
     "execution_count": 140,
     "metadata": {},
     "output_type": "execute_result"
    }
   ],
   "source": [
    "ed_user is our_user"
   ]
  },
  {
   "cell_type": "code",
   "execution_count": 141,
   "metadata": {
    "collapsed": true
   },
   "outputs": [],
   "source": [
    "#We can add more User objects at once using add_all():"
   ]
  },
  {
   "cell_type": "code",
   "execution_count": 142,
   "metadata": {
    "collapsed": true
   },
   "outputs": [],
   "source": [
    "session.add_all([\n",
    "...     User(name='wendy', fullname='Wendy Williams', password='foobar'),\n",
    "...     User(name='mary', fullname='Mary Contrary', password='xxg527'),\n",
    "...     User(name='fred', fullname='Fred Flinstone', password='blah')])"
   ]
  },
  {
   "cell_type": "code",
   "execution_count": 143,
   "metadata": {
    "collapsed": true
   },
   "outputs": [],
   "source": [
    "#the password for Ed isn’t too secure, so lets change it:"
   ]
  },
  {
   "cell_type": "code",
   "execution_count": 144,
   "metadata": {
    "collapsed": true
   },
   "outputs": [],
   "source": [
    "ed_user.password = 'f8s7ccs'"
   ]
  },
  {
   "cell_type": "code",
   "execution_count": 145,
   "metadata": {},
   "outputs": [
    {
     "data": {
      "text/plain": [
       "IdentitySet([<User(name='ed', fullname='Ed Jones', password='f8s7ccs')>])"
      ]
     },
     "execution_count": 145,
     "metadata": {},
     "output_type": "execute_result"
    }
   ],
   "source": [
    "session.dirty"
   ]
  },
  {
   "cell_type": "code",
   "execution_count": 146,
   "metadata": {},
   "outputs": [
    {
     "data": {
      "text/plain": [
       "IdentitySet([<User(name='wendy', fullname='Wendy Williams', password='foobar')>, <User(name='mary', fullname='Mary Contrary', password='xxg527')>, <User(name='fred', fullname='Fred Flinstone', password='blah')>])"
      ]
     },
     "execution_count": 146,
     "metadata": {},
     "output_type": "execute_result"
    }
   ],
   "source": [
    "session.new"
   ]
  },
  {
   "cell_type": "markdown",
   "metadata": {},
   "source": [
    "#We tell the Session that we’d like to issue all remaining changes to the database and commit the transaction, which has been in progress throughout. We do this via commit(). "
   ]
  },
  {
   "cell_type": "code",
   "execution_count": 147,
   "metadata": {},
   "outputs": [
    {
     "name": "stdout",
     "output_type": "stream",
     "text": [
      "2018-03-18 07:35:15,263 INFO sqlalchemy.engine.base.Engine UPDATE users SET password=? WHERE users.id = ?\n"
     ]
    },
    {
     "name": "stderr",
     "output_type": "stream",
     "text": [
      "INFO:sqlalchemy.engine.base.Engine:UPDATE users SET password=? WHERE users.id = ?\n"
     ]
    },
    {
     "name": "stdout",
     "output_type": "stream",
     "text": [
      "2018-03-18 07:35:15,269 INFO sqlalchemy.engine.base.Engine ('f8s7ccs', 1)\n"
     ]
    },
    {
     "name": "stderr",
     "output_type": "stream",
     "text": [
      "INFO:sqlalchemy.engine.base.Engine:('f8s7ccs', 1)\n"
     ]
    },
    {
     "name": "stdout",
     "output_type": "stream",
     "text": [
      "2018-03-18 07:35:15,272 INFO sqlalchemy.engine.base.Engine INSERT INTO users (name, fullname, password) VALUES (?, ?, ?)\n"
     ]
    },
    {
     "name": "stderr",
     "output_type": "stream",
     "text": [
      "INFO:sqlalchemy.engine.base.Engine:INSERT INTO users (name, fullname, password) VALUES (?, ?, ?)\n"
     ]
    },
    {
     "name": "stdout",
     "output_type": "stream",
     "text": [
      "2018-03-18 07:35:15,274 INFO sqlalchemy.engine.base.Engine ('wendy', 'Wendy Williams', 'foobar')\n"
     ]
    },
    {
     "name": "stderr",
     "output_type": "stream",
     "text": [
      "INFO:sqlalchemy.engine.base.Engine:('wendy', 'Wendy Williams', 'foobar')\n"
     ]
    },
    {
     "name": "stdout",
     "output_type": "stream",
     "text": [
      "2018-03-18 07:35:15,278 INFO sqlalchemy.engine.base.Engine INSERT INTO users (name, fullname, password) VALUES (?, ?, ?)\n"
     ]
    },
    {
     "name": "stderr",
     "output_type": "stream",
     "text": [
      "INFO:sqlalchemy.engine.base.Engine:INSERT INTO users (name, fullname, password) VALUES (?, ?, ?)\n"
     ]
    },
    {
     "name": "stdout",
     "output_type": "stream",
     "text": [
      "2018-03-18 07:35:15,280 INFO sqlalchemy.engine.base.Engine ('mary', 'Mary Contrary', 'xxg527')\n"
     ]
    },
    {
     "name": "stderr",
     "output_type": "stream",
     "text": [
      "INFO:sqlalchemy.engine.base.Engine:('mary', 'Mary Contrary', 'xxg527')\n"
     ]
    },
    {
     "name": "stdout",
     "output_type": "stream",
     "text": [
      "2018-03-18 07:35:15,284 INFO sqlalchemy.engine.base.Engine INSERT INTO users (name, fullname, password) VALUES (?, ?, ?)\n"
     ]
    },
    {
     "name": "stderr",
     "output_type": "stream",
     "text": [
      "INFO:sqlalchemy.engine.base.Engine:INSERT INTO users (name, fullname, password) VALUES (?, ?, ?)\n"
     ]
    },
    {
     "name": "stdout",
     "output_type": "stream",
     "text": [
      "2018-03-18 07:35:15,287 INFO sqlalchemy.engine.base.Engine ('fred', 'Fred Flinstone', 'blah')\n"
     ]
    },
    {
     "name": "stderr",
     "output_type": "stream",
     "text": [
      "INFO:sqlalchemy.engine.base.Engine:('fred', 'Fred Flinstone', 'blah')\n"
     ]
    },
    {
     "name": "stdout",
     "output_type": "stream",
     "text": [
      "2018-03-18 07:35:15,290 INFO sqlalchemy.engine.base.Engine COMMIT\n"
     ]
    },
    {
     "name": "stderr",
     "output_type": "stream",
     "text": [
      "INFO:sqlalchemy.engine.base.Engine:COMMIT\n"
     ]
    }
   ],
   "source": [
    "session.commit()"
   ]
  },
  {
   "cell_type": "code",
   "execution_count": 148,
   "metadata": {
    "collapsed": true
   },
   "outputs": [],
   "source": [
    "#commit() flushes the remaining changes to the database, and commits the transaction. "
   ]
  },
  {
   "cell_type": "code",
   "execution_count": 149,
   "metadata": {
    "collapsed": true
   },
   "outputs": [],
   "source": [
    "#Since the Session works within a transaction, we can roll back changes made too."
   ]
  },
  {
   "cell_type": "code",
   "execution_count": 150,
   "metadata": {
    "collapsed": true
   },
   "outputs": [],
   "source": [
    "ed_user.name = 'Edwardo'"
   ]
  },
  {
   "cell_type": "code",
   "execution_count": 151,
   "metadata": {
    "collapsed": true
   },
   "outputs": [],
   "source": [
    "fake_user = User(name='fakeuser', fullname='Invalid', password='12345')"
   ]
  },
  {
   "cell_type": "code",
   "execution_count": 152,
   "metadata": {
    "collapsed": true
   },
   "outputs": [],
   "source": [
    "session.add(fake_user)"
   ]
  },
  {
   "cell_type": "code",
   "execution_count": 153,
   "metadata": {},
   "outputs": [
    {
     "name": "stdout",
     "output_type": "stream",
     "text": [
      "2018-03-18 07:36:35,665 INFO sqlalchemy.engine.base.Engine BEGIN (implicit)\n"
     ]
    },
    {
     "name": "stderr",
     "output_type": "stream",
     "text": [
      "INFO:sqlalchemy.engine.base.Engine:BEGIN (implicit)\n"
     ]
    },
    {
     "name": "stdout",
     "output_type": "stream",
     "text": [
      "2018-03-18 07:36:35,670 INFO sqlalchemy.engine.base.Engine SELECT users.id AS users_id, users.fullname AS users_fullname, users.password AS users_password \n",
      "FROM users \n",
      "WHERE users.id = ?\n"
     ]
    },
    {
     "name": "stderr",
     "output_type": "stream",
     "text": [
      "INFO:sqlalchemy.engine.base.Engine:SELECT users.id AS users_id, users.fullname AS users_fullname, users.password AS users_password \n",
      "FROM users \n",
      "WHERE users.id = ?\n"
     ]
    },
    {
     "name": "stdout",
     "output_type": "stream",
     "text": [
      "2018-03-18 07:36:35,673 INFO sqlalchemy.engine.base.Engine (1,)\n"
     ]
    },
    {
     "name": "stderr",
     "output_type": "stream",
     "text": [
      "INFO:sqlalchemy.engine.base.Engine:(1,)\n"
     ]
    },
    {
     "name": "stdout",
     "output_type": "stream",
     "text": [
      "2018-03-18 07:36:35,677 INFO sqlalchemy.engine.base.Engine UPDATE users SET name=? WHERE users.id = ?\n"
     ]
    },
    {
     "name": "stderr",
     "output_type": "stream",
     "text": [
      "INFO:sqlalchemy.engine.base.Engine:UPDATE users SET name=? WHERE users.id = ?\n"
     ]
    },
    {
     "name": "stdout",
     "output_type": "stream",
     "text": [
      "2018-03-18 07:36:35,680 INFO sqlalchemy.engine.base.Engine ('Edwardo', 1)\n"
     ]
    },
    {
     "name": "stderr",
     "output_type": "stream",
     "text": [
      "INFO:sqlalchemy.engine.base.Engine:('Edwardo', 1)\n"
     ]
    },
    {
     "name": "stdout",
     "output_type": "stream",
     "text": [
      "2018-03-18 07:36:35,684 INFO sqlalchemy.engine.base.Engine INSERT INTO users (name, fullname, password) VALUES (?, ?, ?)\n"
     ]
    },
    {
     "name": "stderr",
     "output_type": "stream",
     "text": [
      "INFO:sqlalchemy.engine.base.Engine:INSERT INTO users (name, fullname, password) VALUES (?, ?, ?)\n"
     ]
    },
    {
     "name": "stdout",
     "output_type": "stream",
     "text": [
      "2018-03-18 07:36:35,685 INFO sqlalchemy.engine.base.Engine ('fakeuser', 'Invalid', '12345')\n"
     ]
    },
    {
     "name": "stderr",
     "output_type": "stream",
     "text": [
      "INFO:sqlalchemy.engine.base.Engine:('fakeuser', 'Invalid', '12345')\n"
     ]
    },
    {
     "name": "stdout",
     "output_type": "stream",
     "text": [
      "2018-03-18 07:36:35,690 INFO sqlalchemy.engine.base.Engine SELECT users.id AS users_id, users.name AS users_name, users.fullname AS users_fullname, users.password AS users_password \n",
      "FROM users \n",
      "WHERE users.name IN (?, ?)\n"
     ]
    },
    {
     "name": "stderr",
     "output_type": "stream",
     "text": [
      "INFO:sqlalchemy.engine.base.Engine:SELECT users.id AS users_id, users.name AS users_name, users.fullname AS users_fullname, users.password AS users_password \n",
      "FROM users \n",
      "WHERE users.name IN (?, ?)\n"
     ]
    },
    {
     "name": "stdout",
     "output_type": "stream",
     "text": [
      "2018-03-18 07:36:35,693 INFO sqlalchemy.engine.base.Engine ('Edwardo', 'fakeuser')\n"
     ]
    },
    {
     "name": "stderr",
     "output_type": "stream",
     "text": [
      "INFO:sqlalchemy.engine.base.Engine:('Edwardo', 'fakeuser')\n"
     ]
    },
    {
     "data": {
      "text/plain": [
       "[<User(name='Edwardo', fullname='Ed Jones', password='f8s7ccs')>,\n",
       " <User(name='fakeuser', fullname='Invalid', password='12345')>]"
      ]
     },
     "execution_count": 153,
     "metadata": {},
     "output_type": "execute_result"
    }
   ],
   "source": [
    "session.query(User).filter(User.name.in_(['Edwardo', 'fakeuser'])).all()"
   ]
  },
  {
   "cell_type": "code",
   "execution_count": 154,
   "metadata": {},
   "outputs": [
    {
     "name": "stdout",
     "output_type": "stream",
     "text": [
      "2018-03-18 07:36:49,342 INFO sqlalchemy.engine.base.Engine ROLLBACK\n"
     ]
    },
    {
     "name": "stderr",
     "output_type": "stream",
     "text": [
      "INFO:sqlalchemy.engine.base.Engine:ROLLBACK\n"
     ]
    }
   ],
   "source": [
    "session.rollback()"
   ]
  },
  {
   "cell_type": "code",
   "execution_count": 155,
   "metadata": {},
   "outputs": [
    {
     "name": "stdout",
     "output_type": "stream",
     "text": [
      "2018-03-18 07:36:56,242 INFO sqlalchemy.engine.base.Engine BEGIN (implicit)\n"
     ]
    },
    {
     "name": "stderr",
     "output_type": "stream",
     "text": [
      "INFO:sqlalchemy.engine.base.Engine:BEGIN (implicit)\n"
     ]
    },
    {
     "name": "stdout",
     "output_type": "stream",
     "text": [
      "2018-03-18 07:36:56,247 INFO sqlalchemy.engine.base.Engine SELECT users.id AS users_id, users.name AS users_name, users.fullname AS users_fullname, users.password AS users_password \n",
      "FROM users \n",
      "WHERE users.id = ?\n"
     ]
    },
    {
     "name": "stderr",
     "output_type": "stream",
     "text": [
      "INFO:sqlalchemy.engine.base.Engine:SELECT users.id AS users_id, users.name AS users_name, users.fullname AS users_fullname, users.password AS users_password \n",
      "FROM users \n",
      "WHERE users.id = ?\n"
     ]
    },
    {
     "name": "stdout",
     "output_type": "stream",
     "text": [
      "2018-03-18 07:36:56,250 INFO sqlalchemy.engine.base.Engine (1,)\n"
     ]
    },
    {
     "name": "stderr",
     "output_type": "stream",
     "text": [
      "INFO:sqlalchemy.engine.base.Engine:(1,)\n"
     ]
    },
    {
     "data": {
      "text/plain": [
       "'ed'"
      ]
     },
     "execution_count": 155,
     "metadata": {},
     "output_type": "execute_result"
    }
   ],
   "source": [
    "ed_user.name"
   ]
  },
  {
   "cell_type": "code",
   "execution_count": 156,
   "metadata": {},
   "outputs": [
    {
     "data": {
      "text/plain": [
       "False"
      ]
     },
     "execution_count": 156,
     "metadata": {},
     "output_type": "execute_result"
    }
   ],
   "source": [
    "fake_user in session"
   ]
  },
  {
   "cell_type": "code",
   "execution_count": 157,
   "metadata": {},
   "outputs": [
    {
     "name": "stdout",
     "output_type": "stream",
     "text": [
      "2018-03-18 07:37:20,117 INFO sqlalchemy.engine.base.Engine SELECT users.id AS users_id, users.name AS users_name, users.fullname AS users_fullname, users.password AS users_password \n",
      "FROM users \n",
      "WHERE users.name IN (?, ?)\n"
     ]
    },
    {
     "name": "stderr",
     "output_type": "stream",
     "text": [
      "INFO:sqlalchemy.engine.base.Engine:SELECT users.id AS users_id, users.name AS users_name, users.fullname AS users_fullname, users.password AS users_password \n",
      "FROM users \n",
      "WHERE users.name IN (?, ?)\n"
     ]
    },
    {
     "name": "stdout",
     "output_type": "stream",
     "text": [
      "2018-03-18 07:37:20,121 INFO sqlalchemy.engine.base.Engine ('ed', 'fakeuser')\n"
     ]
    },
    {
     "name": "stderr",
     "output_type": "stream",
     "text": [
      "INFO:sqlalchemy.engine.base.Engine:('ed', 'fakeuser')\n"
     ]
    },
    {
     "data": {
      "text/plain": [
       "[<User(name='ed', fullname='Ed Jones', password='f8s7ccs')>]"
      ]
     },
     "execution_count": 157,
     "metadata": {},
     "output_type": "execute_result"
    }
   ],
   "source": [
    "session.query(User).filter(User.name.in_(['ed', 'fakeuser'])).all()"
   ]
  },
  {
   "cell_type": "markdown",
   "metadata": {},
   "source": [
    "#A Query object is created using the query() method on Session. This function takes a variable number of arguments, which can be any combination of classes and class-instrumented descriptors."
   ]
  },
  {
   "cell_type": "code",
   "execution_count": 158,
   "metadata": {},
   "outputs": [
    {
     "name": "stdout",
     "output_type": "stream",
     "text": [
      "2018-03-18 07:37:41,250 INFO sqlalchemy.engine.base.Engine SELECT users.id AS users_id, users.name AS users_name, users.fullname AS users_fullname, users.password AS users_password \n",
      "FROM users ORDER BY users.id\n"
     ]
    },
    {
     "name": "stderr",
     "output_type": "stream",
     "text": [
      "INFO:sqlalchemy.engine.base.Engine:SELECT users.id AS users_id, users.name AS users_name, users.fullname AS users_fullname, users.password AS users_password \n",
      "FROM users ORDER BY users.id\n"
     ]
    },
    {
     "name": "stdout",
     "output_type": "stream",
     "text": [
      "2018-03-18 07:37:41,255 INFO sqlalchemy.engine.base.Engine ()\n"
     ]
    },
    {
     "name": "stderr",
     "output_type": "stream",
     "text": [
      "INFO:sqlalchemy.engine.base.Engine:()\n"
     ]
    },
    {
     "name": "stdout",
     "output_type": "stream",
     "text": [
      "ed Ed Jones\n",
      "wendy Wendy Williams\n",
      "mary Mary Contrary\n",
      "fred Fred Flinstone\n"
     ]
    }
   ],
   "source": [
    "for instance in session.query(User).order_by(User.id):\n",
    "...     print(instance.name, instance.fullname)"
   ]
  },
  {
   "cell_type": "code",
   "execution_count": 159,
   "metadata": {},
   "outputs": [
    {
     "name": "stdout",
     "output_type": "stream",
     "text": [
      "2018-03-18 07:38:26,315 INFO sqlalchemy.engine.base.Engine SELECT users.name AS users_name, users.fullname AS users_fullname \n",
      "FROM users\n"
     ]
    },
    {
     "name": "stderr",
     "output_type": "stream",
     "text": [
      "INFO:sqlalchemy.engine.base.Engine:SELECT users.name AS users_name, users.fullname AS users_fullname \n",
      "FROM users\n"
     ]
    },
    {
     "name": "stdout",
     "output_type": "stream",
     "text": [
      "2018-03-18 07:38:26,319 INFO sqlalchemy.engine.base.Engine ()\n"
     ]
    },
    {
     "name": "stderr",
     "output_type": "stream",
     "text": [
      "INFO:sqlalchemy.engine.base.Engine:()\n"
     ]
    },
    {
     "name": "stdout",
     "output_type": "stream",
     "text": [
      "ed Ed Jones\n",
      "wendy Wendy Williams\n",
      "mary Mary Contrary\n",
      "fred Fred Flinstone\n"
     ]
    }
   ],
   "source": [
    "for name, fullname in session.query(User.name, User.fullname):\n",
    "...     print(name, fullname)"
   ]
  },
  {
   "cell_type": "code",
   "execution_count": 160,
   "metadata": {},
   "outputs": [
    {
     "name": "stdout",
     "output_type": "stream",
     "text": [
      "2018-03-18 07:38:46,126 INFO sqlalchemy.engine.base.Engine SELECT users.id AS users_id, users.name AS users_name, users.fullname AS users_fullname, users.password AS users_password \n",
      "FROM users\n"
     ]
    },
    {
     "name": "stderr",
     "output_type": "stream",
     "text": [
      "INFO:sqlalchemy.engine.base.Engine:SELECT users.id AS users_id, users.name AS users_name, users.fullname AS users_fullname, users.password AS users_password \n",
      "FROM users\n"
     ]
    },
    {
     "name": "stdout",
     "output_type": "stream",
     "text": [
      "2018-03-18 07:38:46,130 INFO sqlalchemy.engine.base.Engine ()\n"
     ]
    },
    {
     "name": "stderr",
     "output_type": "stream",
     "text": [
      "INFO:sqlalchemy.engine.base.Engine:()\n"
     ]
    },
    {
     "name": "stdout",
     "output_type": "stream",
     "text": [
      "<User(name='ed', fullname='Ed Jones', password='f8s7ccs')> ed\n",
      "<User(name='wendy', fullname='Wendy Williams', password='foobar')> wendy\n",
      "<User(name='mary', fullname='Mary Contrary', password='xxg527')> mary\n",
      "<User(name='fred', fullname='Fred Flinstone', password='blah')> fred\n"
     ]
    }
   ],
   "source": [
    "for row in session.query(User, User.name).all():\n",
    "...    print(row.User, row.name)"
   ]
  },
  {
   "cell_type": "code",
   "execution_count": 161,
   "metadata": {},
   "outputs": [
    {
     "name": "stdout",
     "output_type": "stream",
     "text": [
      "2018-03-18 07:38:55,685 INFO sqlalchemy.engine.base.Engine SELECT users.name AS name_label \n",
      "FROM users\n"
     ]
    },
    {
     "name": "stderr",
     "output_type": "stream",
     "text": [
      "INFO:sqlalchemy.engine.base.Engine:SELECT users.name AS name_label \n",
      "FROM users\n"
     ]
    },
    {
     "name": "stdout",
     "output_type": "stream",
     "text": [
      "2018-03-18 07:38:55,688 INFO sqlalchemy.engine.base.Engine ()\n"
     ]
    },
    {
     "name": "stderr",
     "output_type": "stream",
     "text": [
      "INFO:sqlalchemy.engine.base.Engine:()\n"
     ]
    },
    {
     "name": "stdout",
     "output_type": "stream",
     "text": [
      "ed\n",
      "wendy\n",
      "mary\n",
      "fred\n"
     ]
    }
   ],
   "source": [
    "for row in session.query(User.name.label('name_label')).all():\n",
    "...    print(row.name_label)"
   ]
  },
  {
   "cell_type": "code",
   "execution_count": 163,
   "metadata": {
    "collapsed": true
   },
   "outputs": [],
   "source": [
    "#The name given to a full entity such as User, assuming that multiple entities are present in the call to query(), \n",
    "#can be controlled using aliased() :\n"
   ]
  },
  {
   "cell_type": "code",
   "execution_count": 164,
   "metadata": {
    "collapsed": true
   },
   "outputs": [],
   "source": [
    "from sqlalchemy.orm import aliased"
   ]
  },
  {
   "cell_type": "code",
   "execution_count": 165,
   "metadata": {
    "collapsed": true
   },
   "outputs": [],
   "source": [
    "user_alias = aliased(User, name='user_alias')"
   ]
  },
  {
   "cell_type": "code",
   "execution_count": 166,
   "metadata": {},
   "outputs": [
    {
     "name": "stdout",
     "output_type": "stream",
     "text": [
      "2018-03-18 07:39:48,124 INFO sqlalchemy.engine.base.Engine SELECT user_alias.id AS user_alias_id, user_alias.name AS user_alias_name, user_alias.fullname AS user_alias_fullname, user_alias.password AS user_alias_password \n",
      "FROM users AS user_alias\n"
     ]
    },
    {
     "name": "stderr",
     "output_type": "stream",
     "text": [
      "INFO:sqlalchemy.engine.base.Engine:SELECT user_alias.id AS user_alias_id, user_alias.name AS user_alias_name, user_alias.fullname AS user_alias_fullname, user_alias.password AS user_alias_password \n",
      "FROM users AS user_alias\n"
     ]
    },
    {
     "name": "stdout",
     "output_type": "stream",
     "text": [
      "2018-03-18 07:39:48,128 INFO sqlalchemy.engine.base.Engine ()\n"
     ]
    },
    {
     "name": "stderr",
     "output_type": "stream",
     "text": [
      "INFO:sqlalchemy.engine.base.Engine:()\n"
     ]
    },
    {
     "name": "stdout",
     "output_type": "stream",
     "text": [
      "<User(name='ed', fullname='Ed Jones', password='f8s7ccs')>\n",
      "<User(name='wendy', fullname='Wendy Williams', password='foobar')>\n",
      "<User(name='mary', fullname='Mary Contrary', password='xxg527')>\n",
      "<User(name='fred', fullname='Fred Flinstone', password='blah')>\n"
     ]
    }
   ],
   "source": [
    "for row in session.query(user_alias, user_alias.name).all():\n",
    "...    print(row.user_alias)"
   ]
  },
  {
   "cell_type": "code",
   "execution_count": 167,
   "metadata": {
    "collapsed": true
   },
   "outputs": [],
   "source": [
    "#Basic operations with Query include issuing LIMIT and OFFSET, most conveniently using Python array slices and \n",
    "#typically in conjunction with ORDER BY:\n"
   ]
  },
  {
   "cell_type": "code",
   "execution_count": 168,
   "metadata": {},
   "outputs": [
    {
     "name": "stdout",
     "output_type": "stream",
     "text": [
      "2018-03-18 07:40:26,264 INFO sqlalchemy.engine.base.Engine SELECT users.id AS users_id, users.name AS users_name, users.fullname AS users_fullname, users.password AS users_password \n",
      "FROM users ORDER BY users.id\n",
      " LIMIT ? OFFSET ?\n"
     ]
    },
    {
     "name": "stderr",
     "output_type": "stream",
     "text": [
      "INFO:sqlalchemy.engine.base.Engine:SELECT users.id AS users_id, users.name AS users_name, users.fullname AS users_fullname, users.password AS users_password \n",
      "FROM users ORDER BY users.id\n",
      " LIMIT ? OFFSET ?\n"
     ]
    },
    {
     "name": "stdout",
     "output_type": "stream",
     "text": [
      "2018-03-18 07:40:26,268 INFO sqlalchemy.engine.base.Engine (2, 1)\n"
     ]
    },
    {
     "name": "stderr",
     "output_type": "stream",
     "text": [
      "INFO:sqlalchemy.engine.base.Engine:(2, 1)\n"
     ]
    },
    {
     "name": "stdout",
     "output_type": "stream",
     "text": [
      "<User(name='wendy', fullname='Wendy Williams', password='foobar')>\n",
      "<User(name='mary', fullname='Mary Contrary', password='xxg527')>\n"
     ]
    }
   ],
   "source": [
    "for u in session.query(User).order_by(User.id)[1:3]:\n",
    "...    print(u)"
   ]
  },
  {
   "cell_type": "code",
   "execution_count": 169,
   "metadata": {},
   "outputs": [
    {
     "name": "stdout",
     "output_type": "stream",
     "text": [
      "2018-03-18 07:40:40,993 INFO sqlalchemy.engine.base.Engine SELECT users.name AS users_name \n",
      "FROM users \n",
      "WHERE users.fullname = ?\n"
     ]
    },
    {
     "name": "stderr",
     "output_type": "stream",
     "text": [
      "INFO:sqlalchemy.engine.base.Engine:SELECT users.name AS users_name \n",
      "FROM users \n",
      "WHERE users.fullname = ?\n"
     ]
    },
    {
     "name": "stdout",
     "output_type": "stream",
     "text": [
      "2018-03-18 07:40:40,998 INFO sqlalchemy.engine.base.Engine ('Ed Jones',)\n"
     ]
    },
    {
     "name": "stderr",
     "output_type": "stream",
     "text": [
      "INFO:sqlalchemy.engine.base.Engine:('Ed Jones',)\n"
     ]
    },
    {
     "name": "stdout",
     "output_type": "stream",
     "text": [
      "ed\n"
     ]
    }
   ],
   "source": [
    "for name, in session.query(User.name).\\\n",
    "...             filter_by(fullname='Ed Jones'):\n",
    "...    print(name)"
   ]
  },
  {
   "cell_type": "code",
   "execution_count": 170,
   "metadata": {},
   "outputs": [
    {
     "name": "stdout",
     "output_type": "stream",
     "text": [
      "2018-03-18 07:40:51,774 INFO sqlalchemy.engine.base.Engine SELECT users.name AS users_name \n",
      "FROM users \n",
      "WHERE users.fullname = ?\n"
     ]
    },
    {
     "name": "stderr",
     "output_type": "stream",
     "text": [
      "INFO:sqlalchemy.engine.base.Engine:SELECT users.name AS users_name \n",
      "FROM users \n",
      "WHERE users.fullname = ?\n"
     ]
    },
    {
     "name": "stdout",
     "output_type": "stream",
     "text": [
      "2018-03-18 07:40:51,779 INFO sqlalchemy.engine.base.Engine ('Ed Jones',)\n"
     ]
    },
    {
     "name": "stderr",
     "output_type": "stream",
     "text": [
      "INFO:sqlalchemy.engine.base.Engine:('Ed Jones',)\n"
     ]
    },
    {
     "name": "stdout",
     "output_type": "stream",
     "text": [
      "ed\n"
     ]
    }
   ],
   "source": [
    "for name, in session.query(User.name).\\\n",
    "...             filter(User.fullname=='Ed Jones'):\n",
    "...    print(name)"
   ]
  },
  {
   "cell_type": "code",
   "execution_count": 171,
   "metadata": {},
   "outputs": [
    {
     "name": "stdout",
     "output_type": "stream",
     "text": [
      "2018-03-18 07:41:12,290 INFO sqlalchemy.engine.base.Engine SELECT users.id AS users_id, users.name AS users_name, users.fullname AS users_fullname, users.password AS users_password \n",
      "FROM users \n",
      "WHERE users.name = ? AND users.fullname = ?\n"
     ]
    },
    {
     "name": "stderr",
     "output_type": "stream",
     "text": [
      "INFO:sqlalchemy.engine.base.Engine:SELECT users.id AS users_id, users.name AS users_name, users.fullname AS users_fullname, users.password AS users_password \n",
      "FROM users \n",
      "WHERE users.name = ? AND users.fullname = ?\n"
     ]
    },
    {
     "name": "stdout",
     "output_type": "stream",
     "text": [
      "2018-03-18 07:41:12,295 INFO sqlalchemy.engine.base.Engine ('ed', 'Ed Jones')\n"
     ]
    },
    {
     "name": "stderr",
     "output_type": "stream",
     "text": [
      "INFO:sqlalchemy.engine.base.Engine:('ed', 'Ed Jones')\n"
     ]
    },
    {
     "name": "stdout",
     "output_type": "stream",
     "text": [
      "<User(name='ed', fullname='Ed Jones', password='f8s7ccs')>\n"
     ]
    }
   ],
   "source": [
    "for user in session.query(User).\\\n",
    "...          filter(User.name=='ed').\\\n",
    "...          filter(User.fullname=='Ed Jones'):\n",
    "...    print(user)"
   ]
  },
  {
   "cell_type": "code",
   "execution_count": 172,
   "metadata": {
    "collapsed": true
   },
   "outputs": [],
   "source": [
    "#Here’s a rundown of some of the most common operators used in filter():\n"
   ]
  },
  {
   "cell_type": "code",
   "execution_count": 175,
   "metadata": {},
   "outputs": [],
   "source": [
    "query = session.query(User).filter(User.name.like('%ed')).order_by(User.id)"
   ]
  },
  {
   "cell_type": "code",
   "execution_count": 176,
   "metadata": {},
   "outputs": [
    {
     "name": "stdout",
     "output_type": "stream",
     "text": [
      "2018-03-18 07:42:48,471 INFO sqlalchemy.engine.base.Engine SELECT users.id AS users_id, users.name AS users_name, users.fullname AS users_fullname, users.password AS users_password \n",
      "FROM users \n",
      "WHERE users.name LIKE ? ORDER BY users.id\n"
     ]
    },
    {
     "name": "stderr",
     "output_type": "stream",
     "text": [
      "INFO:sqlalchemy.engine.base.Engine:SELECT users.id AS users_id, users.name AS users_name, users.fullname AS users_fullname, users.password AS users_password \n",
      "FROM users \n",
      "WHERE users.name LIKE ? ORDER BY users.id\n"
     ]
    },
    {
     "name": "stdout",
     "output_type": "stream",
     "text": [
      "2018-03-18 07:42:48,475 INFO sqlalchemy.engine.base.Engine ('%ed',)\n"
     ]
    },
    {
     "name": "stderr",
     "output_type": "stream",
     "text": [
      "INFO:sqlalchemy.engine.base.Engine:('%ed',)\n"
     ]
    },
    {
     "data": {
      "text/plain": [
       "[<User(name='ed', fullname='Ed Jones', password='f8s7ccs')>,\n",
       " <User(name='fred', fullname='Fred Flinstone', password='blah')>]"
      ]
     },
     "execution_count": 176,
     "metadata": {},
     "output_type": "execute_result"
    }
   ],
   "source": [
    "query.all() #all() returns a list:"
   ]
  },
  {
   "cell_type": "code",
   "execution_count": 177,
   "metadata": {},
   "outputs": [
    {
     "name": "stdout",
     "output_type": "stream",
     "text": [
      "2018-03-18 07:43:15,732 INFO sqlalchemy.engine.base.Engine SELECT users.id AS users_id, users.name AS users_name, users.fullname AS users_fullname, users.password AS users_password \n",
      "FROM users \n",
      "WHERE users.name LIKE ? ORDER BY users.id\n",
      " LIMIT ? OFFSET ?\n"
     ]
    },
    {
     "name": "stderr",
     "output_type": "stream",
     "text": [
      "INFO:sqlalchemy.engine.base.Engine:SELECT users.id AS users_id, users.name AS users_name, users.fullname AS users_fullname, users.password AS users_password \n",
      "FROM users \n",
      "WHERE users.name LIKE ? ORDER BY users.id\n",
      " LIMIT ? OFFSET ?\n"
     ]
    },
    {
     "name": "stdout",
     "output_type": "stream",
     "text": [
      "2018-03-18 07:43:15,736 INFO sqlalchemy.engine.base.Engine ('%ed', 1, 0)\n"
     ]
    },
    {
     "name": "stderr",
     "output_type": "stream",
     "text": [
      "INFO:sqlalchemy.engine.base.Engine:('%ed', 1, 0)\n"
     ]
    },
    {
     "data": {
      "text/plain": [
       "<User(name='ed', fullname='Ed Jones', password='f8s7ccs')>"
      ]
     },
     "execution_count": 177,
     "metadata": {},
     "output_type": "execute_result"
    }
   ],
   "source": [
    "query.first()"
   ]
  },
  {
   "cell_type": "code",
   "execution_count": 179,
   "metadata": {
    "collapsed": true
   },
   "outputs": [],
   "source": [
    "from sqlalchemy import text"
   ]
  },
  {
   "cell_type": "code",
   "execution_count": 180,
   "metadata": {
    "collapsed": true
   },
   "outputs": [],
   "source": [
    "#Literal strings can be used flexibly with Query, by specifying their use with the text() construct"
   ]
  },
  {
   "cell_type": "code",
   "execution_count": 181,
   "metadata": {},
   "outputs": [
    {
     "name": "stdout",
     "output_type": "stream",
     "text": [
      "2018-03-18 07:44:24,145 INFO sqlalchemy.engine.base.Engine SELECT users.id AS users_id, users.name AS users_name, users.fullname AS users_fullname, users.password AS users_password \n",
      "FROM users \n",
      "WHERE id<224 ORDER BY id\n"
     ]
    },
    {
     "name": "stderr",
     "output_type": "stream",
     "text": [
      "INFO:sqlalchemy.engine.base.Engine:SELECT users.id AS users_id, users.name AS users_name, users.fullname AS users_fullname, users.password AS users_password \n",
      "FROM users \n",
      "WHERE id<224 ORDER BY id\n"
     ]
    },
    {
     "name": "stdout",
     "output_type": "stream",
     "text": [
      "2018-03-18 07:44:24,149 INFO sqlalchemy.engine.base.Engine ()\n"
     ]
    },
    {
     "name": "stderr",
     "output_type": "stream",
     "text": [
      "INFO:sqlalchemy.engine.base.Engine:()\n"
     ]
    },
    {
     "name": "stdout",
     "output_type": "stream",
     "text": [
      "ed\n",
      "wendy\n",
      "mary\n",
      "fred\n"
     ]
    }
   ],
   "source": [
    "for user in session.query(User).\\\n",
    "...             filter(text(\"id<224\")).\\\n",
    "...             order_by(text(\"id\")).all():\n",
    "...     print(user.name)"
   ]
  },
  {
   "cell_type": "code",
   "execution_count": 182,
   "metadata": {},
   "outputs": [
    {
     "name": "stdout",
     "output_type": "stream",
     "text": [
      "2018-03-18 07:44:41,027 INFO sqlalchemy.engine.base.Engine SELECT users.id AS users_id, users.name AS users_name, users.fullname AS users_fullname, users.password AS users_password \n",
      "FROM users \n",
      "WHERE id<? and name=? ORDER BY users.id\n"
     ]
    },
    {
     "name": "stderr",
     "output_type": "stream",
     "text": [
      "INFO:sqlalchemy.engine.base.Engine:SELECT users.id AS users_id, users.name AS users_name, users.fullname AS users_fullname, users.password AS users_password \n",
      "FROM users \n",
      "WHERE id<? and name=? ORDER BY users.id\n"
     ]
    },
    {
     "name": "stdout",
     "output_type": "stream",
     "text": [
      "2018-03-18 07:44:41,034 INFO sqlalchemy.engine.base.Engine (224, 'fred')\n"
     ]
    },
    {
     "name": "stderr",
     "output_type": "stream",
     "text": [
      "INFO:sqlalchemy.engine.base.Engine:(224, 'fred')\n"
     ]
    },
    {
     "data": {
      "text/plain": [
       "<User(name='fred', fullname='Fred Flinstone', password='blah')>"
      ]
     },
     "execution_count": 182,
     "metadata": {},
     "output_type": "execute_result"
    }
   ],
   "source": [
    "session.query(User).filter(text(\"id<:value and name=:name\")).\\\n",
    "...     params(value=224, name='fred').order_by(User.id).one()"
   ]
  },
  {
   "cell_type": "code",
   "execution_count": 184,
   "metadata": {
    "collapsed": true
   },
   "outputs": [],
   "source": [
    "#To use an entirely string-based statement, a text() construct representing a complete \n",
    "#statement can be passed to from_statement(). "
   ]
  },
  {
   "cell_type": "code",
   "execution_count": 183,
   "metadata": {},
   "outputs": [
    {
     "name": "stdout",
     "output_type": "stream",
     "text": [
      "2018-03-18 07:44:58,385 INFO sqlalchemy.engine.base.Engine SELECT * FROM users where name=?\n"
     ]
    },
    {
     "name": "stderr",
     "output_type": "stream",
     "text": [
      "INFO:sqlalchemy.engine.base.Engine:SELECT * FROM users where name=?\n"
     ]
    },
    {
     "name": "stdout",
     "output_type": "stream",
     "text": [
      "2018-03-18 07:44:58,389 INFO sqlalchemy.engine.base.Engine ('ed',)\n"
     ]
    },
    {
     "name": "stderr",
     "output_type": "stream",
     "text": [
      "INFO:sqlalchemy.engine.base.Engine:('ed',)\n"
     ]
    },
    {
     "data": {
      "text/plain": [
       "[<User(name='ed', fullname='Ed Jones', password='f8s7ccs')>]"
      ]
     },
     "execution_count": 183,
     "metadata": {},
     "output_type": "execute_result"
    }
   ],
   "source": [
    "session.query(User).from_statement(\n",
    "...                     text(\"SELECT * FROM users where name=:name\")).\\\n",
    "...                     params(name='ed').all()"
   ]
  },
  {
   "cell_type": "code",
   "execution_count": 185,
   "metadata": {
    "collapsed": true
   },
   "outputs": [],
   "source": [
    "stmt = text(\"SELECT name, id, fullname, password \"\n",
    "...             \"FROM users where name=:name\")"
   ]
  },
  {
   "cell_type": "code",
   "execution_count": 186,
   "metadata": {
    "collapsed": true
   },
   "outputs": [],
   "source": [
    "stmt = stmt.columns(User.name, User.id, User.fullname, User.password)"
   ]
  },
  {
   "cell_type": "code",
   "execution_count": 187,
   "metadata": {},
   "outputs": [
    {
     "name": "stdout",
     "output_type": "stream",
     "text": [
      "2018-03-18 07:46:00,195 INFO sqlalchemy.engine.base.Engine SELECT name, id, fullname, password FROM users where name=?\n"
     ]
    },
    {
     "name": "stderr",
     "output_type": "stream",
     "text": [
      "INFO:sqlalchemy.engine.base.Engine:SELECT name, id, fullname, password FROM users where name=?\n"
     ]
    },
    {
     "name": "stdout",
     "output_type": "stream",
     "text": [
      "2018-03-18 07:46:00,200 INFO sqlalchemy.engine.base.Engine ('ed',)\n"
     ]
    },
    {
     "name": "stderr",
     "output_type": "stream",
     "text": [
      "INFO:sqlalchemy.engine.base.Engine:('ed',)\n"
     ]
    },
    {
     "data": {
      "text/plain": [
       "[<User(name='ed', fullname='Ed Jones', password='f8s7ccs')>]"
      ]
     },
     "execution_count": 187,
     "metadata": {},
     "output_type": "execute_result"
    }
   ],
   "source": [
    "session.query(User).from_statement(stmt).params(name='ed').all()"
   ]
  },
  {
   "cell_type": "code",
   "execution_count": 188,
   "metadata": {
    "collapsed": true
   },
   "outputs": [],
   "source": [
    "#The count() method is used to determine how many rows the SQL statement would return. "
   ]
  },
  {
   "cell_type": "code",
   "execution_count": 189,
   "metadata": {},
   "outputs": [
    {
     "name": "stdout",
     "output_type": "stream",
     "text": [
      "2018-03-18 07:46:33,417 INFO sqlalchemy.engine.base.Engine SELECT count(*) AS count_1 \n",
      "FROM (SELECT users.id AS users_id, users.name AS users_name, users.fullname AS users_fullname, users.password AS users_password \n",
      "FROM users \n",
      "WHERE users.name LIKE ?) AS anon_1\n"
     ]
    },
    {
     "name": "stderr",
     "output_type": "stream",
     "text": [
      "INFO:sqlalchemy.engine.base.Engine:SELECT count(*) AS count_1 \n",
      "FROM (SELECT users.id AS users_id, users.name AS users_name, users.fullname AS users_fullname, users.password AS users_password \n",
      "FROM users \n",
      "WHERE users.name LIKE ?) AS anon_1\n"
     ]
    },
    {
     "name": "stdout",
     "output_type": "stream",
     "text": [
      "2018-03-18 07:46:33,422 INFO sqlalchemy.engine.base.Engine ('%ed',)\n"
     ]
    },
    {
     "name": "stderr",
     "output_type": "stream",
     "text": [
      "INFO:sqlalchemy.engine.base.Engine:('%ed',)\n"
     ]
    },
    {
     "data": {
      "text/plain": [
       "2"
      ]
     },
     "execution_count": 189,
     "metadata": {},
     "output_type": "execute_result"
    }
   ],
   "source": [
    "session.query(User).filter(User.name.like('%ed')).count()"
   ]
  },
  {
   "cell_type": "code",
   "execution_count": 190,
   "metadata": {
    "collapsed": true
   },
   "outputs": [],
   "source": [
    "from sqlalchemy import func"
   ]
  },
  {
   "cell_type": "code",
   "execution_count": 191,
   "metadata": {},
   "outputs": [
    {
     "name": "stdout",
     "output_type": "stream",
     "text": [
      "2018-03-18 07:46:50,858 INFO sqlalchemy.engine.base.Engine SELECT count(users.name) AS count_1, users.name AS users_name \n",
      "FROM users GROUP BY users.name\n"
     ]
    },
    {
     "name": "stderr",
     "output_type": "stream",
     "text": [
      "INFO:sqlalchemy.engine.base.Engine:SELECT count(users.name) AS count_1, users.name AS users_name \n",
      "FROM users GROUP BY users.name\n"
     ]
    },
    {
     "name": "stdout",
     "output_type": "stream",
     "text": [
      "2018-03-18 07:46:50,862 INFO sqlalchemy.engine.base.Engine ()\n"
     ]
    },
    {
     "name": "stderr",
     "output_type": "stream",
     "text": [
      "INFO:sqlalchemy.engine.base.Engine:()\n"
     ]
    },
    {
     "data": {
      "text/plain": [
       "[(1, 'ed'), (1, 'fred'), (1, 'mary'), (1, 'wendy')]"
      ]
     },
     "execution_count": 191,
     "metadata": {},
     "output_type": "execute_result"
    }
   ],
   "source": [
    "session.query(func.count(User.name), User.name).group_by(User.name).all()"
   ]
  },
  {
   "cell_type": "code",
   "execution_count": 193,
   "metadata": {},
   "outputs": [],
   "source": [
    "#To achieve our simple SELECT count(*) FROM table, we can apply it as:"
   ]
  },
  {
   "cell_type": "code",
   "execution_count": 194,
   "metadata": {},
   "outputs": [
    {
     "name": "stdout",
     "output_type": "stream",
     "text": [
      "2018-03-18 07:47:20,611 INFO sqlalchemy.engine.base.Engine SELECT count(?) AS count_1 \n",
      "FROM users\n"
     ]
    },
    {
     "name": "stderr",
     "output_type": "stream",
     "text": [
      "INFO:sqlalchemy.engine.base.Engine:SELECT count(?) AS count_1 \n",
      "FROM users\n"
     ]
    },
    {
     "name": "stdout",
     "output_type": "stream",
     "text": [
      "2018-03-18 07:47:20,616 INFO sqlalchemy.engine.base.Engine ('*',)\n"
     ]
    },
    {
     "name": "stderr",
     "output_type": "stream",
     "text": [
      "INFO:sqlalchemy.engine.base.Engine:('*',)\n"
     ]
    },
    {
     "data": {
      "text/plain": [
       "4"
      ]
     },
     "execution_count": 194,
     "metadata": {},
     "output_type": "execute_result"
    }
   ],
   "source": [
    "session.query(func.count('*')).select_from(User).scalar()"
   ]
  },
  {
   "cell_type": "code",
   "execution_count": 195,
   "metadata": {},
   "outputs": [
    {
     "name": "stdout",
     "output_type": "stream",
     "text": [
      "2018-03-18 07:47:31,757 INFO sqlalchemy.engine.base.Engine SELECT count(users.id) AS count_1 \n",
      "FROM users\n"
     ]
    },
    {
     "name": "stderr",
     "output_type": "stream",
     "text": [
      "INFO:sqlalchemy.engine.base.Engine:SELECT count(users.id) AS count_1 \n",
      "FROM users\n"
     ]
    },
    {
     "name": "stdout",
     "output_type": "stream",
     "text": [
      "2018-03-18 07:47:31,761 INFO sqlalchemy.engine.base.Engine ()\n"
     ]
    },
    {
     "name": "stderr",
     "output_type": "stream",
     "text": [
      "INFO:sqlalchemy.engine.base.Engine:()\n"
     ]
    },
    {
     "data": {
      "text/plain": [
       "4"
      ]
     },
     "execution_count": 195,
     "metadata": {},
     "output_type": "execute_result"
    }
   ],
   "source": [
    "session.query(func.count(User.id)).scalar()"
   ]
  },
  {
   "cell_type": "code",
   "execution_count": null,
   "metadata": {
    "collapsed": true
   },
   "outputs": [],
   "source": []
  }
 ],
 "metadata": {
  "kernelspec": {
   "display_name": "Python 3",
   "language": "python",
   "name": "python3"
  },
  "language_info": {
   "codemirror_mode": {
    "name": "ipython",
    "version": 3
   },
   "file_extension": ".py",
   "mimetype": "text/x-python",
   "name": "python",
   "nbconvert_exporter": "python",
   "pygments_lexer": "ipython3",
   "version": "3.6.4"
  }
 },
 "nbformat": 4,
 "nbformat_minor": 2
}
