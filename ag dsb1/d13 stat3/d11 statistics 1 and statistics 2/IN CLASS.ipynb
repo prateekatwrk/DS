{
 "cells": [
  {
   "cell_type": "raw",
   "metadata": {},
   "source": [
    "PROBABILITY AND STATISTICS\n",
    "1) RANDOM VARIABLE\n",
    "    DISCRITE RANDOM VARIABLE\n",
    "    CONTINUOUS RANDOM VARIABLE\n",
    "2)POPULATION & SAMPLE\n",
    "3)GAUSSIAN / NORMAL DISTRIBUTION(BELL CURVE)\n",
    "4)EMPERIACAL FORMULA FOR NORTMAL DISTRIBUTIOIN(CHEBYSHEV'S THEOREM)\n",
    "5)STANDARD NORMAL DISTRIBUTION(SND)\n",
    "6) KDE\n",
    "7)PDF & CDF & PMF  PROBABILITY DENSITY FUNTION & CUMMULITIVE DENSITY FUNTION &  PROBABILITY MASS FUNCTION\n",
    "8)CENTRAL LIMIT THEOREM\n",
    "9)LOG NORMAL DISTRIBUTION"
   ]
  },
  {
   "cell_type": "raw",
   "metadata": {},
   "source": [
    "RANDOM VARIABLE : WILL HAVE NO FLOAT, ONLY WHOLE NUMBERS\n",
    "    NO CATEGORICAL SET OF VARIABLE , THE NUMBERS CAN BE INFINITE\n",
    "    "
   ]
  },
  {
   "cell_type": "raw",
   "metadata": {},
   "source": [
    "POPULATION & SAMPLE\n",
    "    X = HEIGH OF THE PEOPLE IN INDIA = POPULATION\n",
    "    MEU = 1/N SUM I-1 TO N Xi\n",
    "    SAMPLE =n\n",
    "    "
   ]
  },
  {
   "cell_type": "raw",
   "metadata": {},
   "source": [
    "we will only get sample to work on--- also in ML\n"
   ]
  },
  {
   "cell_type": "raw",
   "metadata": {},
   "source": [
    "varience = signma square          SD = sigma"
   ]
  },
  {
   "cell_type": "raw",
   "metadata": {},
   "source": [
    "X belongs to  N(meu,varience)"
   ]
  },
  {
   "cell_type": "raw",
   "metadata": {},
   "source": [
    "EMPERIACAL FORMULA FOR NORTMAL DISTRIBUTIOIN:\n",
    "    IT TALKS ABOUT DISTRIBUTION, DISTRIBUTION OF SAMPLE, DISTRIBUTION OF DATA\n",
    "    \n",
    "    1- (1/K^2)   , k= no of sigma covered in distribution graph"
   ]
  },
  {
   "cell_type": "raw",
   "metadata": {},
   "source": [
    "KERNAL DENSITY ESTIMATION--- FOR PROBABILITY DENSITY FUNCTION"
   ]
  },
  {
   "cell_type": "raw",
   "metadata": {},
   "source": [
    "cumulitive density function= SUM OF PROBABILITIES\n",
    "\n"
   ]
  },
  {
   "cell_type": "raw",
   "metadata": {},
   "source": [
    "CENTRAL LIMIT THEOREM\n",
    "    TAKE ANY NUMBER OF SAMPLE FORM POPULATION = S\n",
    "    CONDITION IS S VALUE SHOULD BE MORE THAN  30 ,i,e. WE WILL TAKE ALWAYS MORE THAN 30 SAMPLES\n",
    "    \n",
    "    \n",
    "    1) & 2) WILL BE TRUE WHEN n>= 30\n",
    "    1)\n",
    "    SUM OF ALL THE SAMPLE MEAN WILL BE APPROX. = TO MEAN OF PUPULATION\n",
    "    THE MORE THE NUMBER OF SAMPLES TAKEN NEAR = TO EXACTLY MEAN OF POPULATION\n",
    "    \n",
    "    AND\n",
    "    \n",
    "    2)SUM OF ALL THE VARIENACE OF (THE DISTRIBUTION OF ALL THE MEANS OF SAMPLES) = varence of population/n\n",
    "    "
   ]
  },
  {
   "cell_type": "raw",
   "metadata": {},
   "source": [
    "PMF probability mass function\n",
    "\n",
    "    FOR DISCREET VALUES ONLY WE CAN PLOT THE GRAPH"
   ]
  },
  {
   "cell_type": "raw",
   "metadata": {},
   "source": [
    "LOG NORMAL DISTRIBUTION\n",
    "    X BELONG LND(MEU,VARIANCE)\n",
    "    IFF log(X) BELONG SND(MEU=0,SD=1)"
   ]
  },
  {
   "cell_type": "raw",
   "metadata": {},
   "source": [
    "STANDARD SCALAR"
   ]
  }
 ],
 "metadata": {
  "kernelspec": {
   "display_name": "Python 3",
   "language": "python",
   "name": "python3"
  },
  "language_info": {
   "codemirror_mode": {
    "name": "ipython",
    "version": 3
   },
   "file_extension": ".py",
   "mimetype": "text/x-python",
   "name": "python",
   "nbconvert_exporter": "python",
   "pygments_lexer": "ipython3",
   "version": "3.6.4"
  }
 },
 "nbformat": 4,
 "nbformat_minor": 2
}
