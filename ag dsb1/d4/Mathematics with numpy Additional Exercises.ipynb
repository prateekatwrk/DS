{
 "cells": [
  {
   "cell_type": "code",
   "execution_count": 2,
   "metadata": {},
   "outputs": [],
   "source": [
    "import numpy as np\n",
    "from numpy.random import randint as ri"
   ]
  },
  {
   "cell_type": "markdown",
   "metadata": {},
   "source": [
    "### 1.Create two matrices of 3*3 and perform the arithmatic operations metioned in below \"print\" statements"
   ]
  },
  {
   "cell_type": "code",
   "execution_count": 21,
   "metadata": {},
   "outputs": [
    {
     "name": "stdout",
     "output_type": "stream",
     "text": [
      "\n",
      "1st Matrix of random single-digit numbers\n",
      "----------------------------------------\n",
      " [[80 89 74 34 74]\n",
      " [71 68 76 68 66]\n",
      " [41 78 81 53 32]]\n",
      "\n",
      "2nd Matrix of random single-digit numbers\n",
      "----------------------------------------\n",
      " [[1 3 6 2 7]\n",
      " [2 8 2 1 4]\n",
      " [8 8 3 5 1]]\n",
      "\n",
      "Addition\n",
      "------------------\n",
      " [[81 92 80 36 81]\n",
      " [73 76 78 69 70]\n",
      " [49 86 84 58 33]]\n",
      "\n",
      "Multiplication\n",
      "------------------\n",
      " [[ 80 267 444  68 518]\n",
      " [142 544 152  68 264]\n",
      " [328 624 243 265  32]]\n",
      "\n",
      "Division\n",
      "------------------\n",
      " [[80.         29.66666667 12.33333333 17.         10.57142857]\n",
      " [35.5         8.5        38.         68.         16.5       ]\n",
      " [ 5.125       9.75       27.         10.6        32.        ]]\n",
      "\n",
      "Linear combination: 3*A - 2*B\n",
      "-----------------------------\n",
      " [[238 261 210  98 208]\n",
      " [209 188 224 202 190]\n",
      " [107 218 237 149  94]]\n",
      "\n",
      "Addition of a scalar (100)\n",
      "-------------------------\n",
      " [[180 189 174 134 174]\n",
      " [171 168 176 168 166]\n",
      " [141 178 181 153 132]]\n",
      "\n",
      "Exponentiation, matrix cubed here\n",
      "----------------------------------------\n",
      " [[512000 704969 405224  39304 405224]\n",
      " [357911 314432 438976 314432 287496]\n",
      " [ 68921 474552 531441 148877  32768]]\n",
      "\n",
      "Exponentiation, mat1 sq-root using pow function\n",
      "-------------------------------------------\n",
      " [[8.94427191 9.43398113 8.60232527 5.83095189 8.60232527]\n",
      " [8.42614977 8.24621125 8.71779789 8.24621125 8.1240384 ]\n",
      " [6.40312424 8.83176087 9.         7.28010989 5.65685425]]\n",
      "\n",
      "Exponentiation, mat1 sq-root using pow function\n",
      "-------------------------------------------\n",
      " [[8.94427191 9.43398113 8.60232527 5.83095189 8.60232527]\n",
      " [8.42614977 8.24621125 8.71779789 8.24621125 8.1240384 ]\n",
      " [6.40312424 8.83176087 9.         7.28010989 5.65685425]]\n"
     ]
    }
   ],
   "source": [
    "mat1 = np.array(ri(10,100,15)).reshape(3,5)\n",
    "mat2 = np.array(ri(1,10,15)).reshape(3,5)\n",
    "print(\"\\n1st Matrix of random single-digit numbers\\n----------------------------------------\\n\",mat1)\n",
    "print(\"\\n2nd Matrix of random single-digit numbers\\n----------------------------------------\\n\",mat2)\n",
    "\n",
    "print(\"\\nAddition\\n------------------\\n\",mat1+mat2)\n",
    "print(\"\\nMultiplication\\n------------------\\n\", mat1*mat2)\n",
    "\n",
    "print(\"\\nDivision\\n------------------\\n\", mat1/mat2)\n",
    "print(\"\\nLinear combination: 3*A - 2*B\\n-----------------------------\\n\",3*mat1 - 2*mat2)\n",
    "\n",
    "print(\"\\nAddition of a scalar (100)\\n-------------------------\\n\", mat1 + 100)\n",
    "\n",
    "\n",
    "print(\"\\nExponentiation, matrix cubed here\\n----------------------------------------\\n\", np.power(mat1,3))\n",
    "\n",
    "print(\"\\nExponentiation, mat1 sq-root using pow function\\n-------------------------------------------\\n\",np.power(mat1,.5))\n",
    "print(\"\\nExponentiation, mat1 sq-root using pow function\\n-------------------------------------------\\n\",np.sqrt(mat1))"
   ]
  },
  {
   "cell_type": "markdown",
   "metadata": {},
   "source": [
    "Some operations, such as += and *=, act in place to modify an existing array rather than create a new one."
   ]
  },
  {
   "cell_type": "markdown",
   "metadata": {},
   "source": [
    "NumPy provides familiar mathematical functions such as sin, cos, and exp. In NumPy, these are called “universal functions”(ufunc). Within NumPy, these functions operate elementwise on an array, producing an array as output."
   ]
  },
  {
   "cell_type": "markdown",
   "metadata": {},
   "source": [
    "### 2.Create two 3 * 3 matrices and perform the following operations as describe in print statement."
   ]
  },
  {
   "cell_type": "markdown",
   "metadata": {},
   "source": [
    "###  3.Create a 3 \\* 3 Matrix and Modify its shape to 9\\*1 matrix."
   ]
  },
  {
   "cell_type": "code",
   "execution_count": 3,
   "metadata": {},
   "outputs": [
    {
     "name": "stdout",
     "output_type": "stream",
     "text": [
      "\n",
      "1st Matrix of random single-digit numbers\n",
      " -------------------------------------------------- \n",
      " [[17 16 19 12 15]\n",
      " [10 18 18 11 10]]\n",
      "\n",
      "2nd Matrix of random single-digit numbers\n",
      " -------------------------------------------------- \n",
      " [[28 20]\n",
      " [25 25]\n",
      " [23 21]\n",
      " [25 29]\n",
      " [25 27]]\n",
      "\n",
      "Sum of all numbers in 1st matrix\n",
      " -------------------------------------------------- \n",
      " 146\n",
      "\n",
      "Sum of all numbers in columns of 1st matrix\n",
      " -------------------------------------------------- \n",
      " [27 34 37 23 25]\n",
      "\n",
      "Sum of all numbers in rows of 1st matrix\n",
      " -------------------------------------------------- \n",
      " [79 67]\n",
      "\n",
      "Product of all numbers in rows of 1st matrix\n",
      " -------------------------------------------------- \n",
      "\n"
     ]
    }
   ],
   "source": [
    "from numpy.random import randint as ri\n",
    "mat1 = np.array(np.random.randint(10,20,10)).reshape(2,5)\n",
    "mat2 = np.array(np.random.randint(20,30,10)).reshape(5,2)\n",
    "print(\"\\n1st Matrix of random single-digit numbers\\n\",\"-\"*50,\"\\n\",mat1)\n",
    "print(\"\\n2nd Matrix of random single-digit numbers\\n\",\"-\"*50,\"\\n\",mat2)\n",
    "\n",
    "print(\"\\nSum of all numbers in 1st matrix\\n\",\"-\"*50,\"\\n\",np.sum(mat1))\n",
    "print(\"\\nSum of all numbers in columns of 1st matrix\\n\",\"-\"*50,\"\\n\",mat1.sum(axis=0))\n",
    "\n",
    "\n",
    "print(\"\\nSum of all numbers in rows of 1st matrix\\n\",\"-\"*50,\"\\n\",mat1.sum(axis=1))\n",
    "print(\"\\nProduct of all numbers in rows of 1st matrix\\n\",\"-\"*50,\"\\n\",)\n"
   ]
  },
  {
   "cell_type": "markdown",
   "metadata": {},
   "source": [
    "### 4.Sort"
   ]
  },
  {
   "cell_type": "code",
   "execution_count": 41,
   "metadata": {},
   "outputs": [
    {
     "name": "stdout",
     "output_type": "stream",
     "text": [
      "\n",
      "Vector of 10 random integers from 1 to 100\n",
      " -------------------------------------------------- \n",
      " [23 64 34 53 57 83 31 60 96 47]\n",
      "\n",
      "Here is the sorted vector\n",
      " -------------------------------------------------- \n",
      " [23 31 34 47 53 57 60 64 83 96]\n"
     ]
    }
   ],
   "source": [
    "A = np.random.randint(1,100,10) # Vector of random interegrs\n",
    "print(\"\\nVector of 10 random integers from 1 to 100\\n\",'-'*50,\"\\n\",A)\n",
    "print(\"\\nHere is the sorted vector\\n\",'-'*50,\"\\n\",np.sort(A))\n"
   ]
  },
  {
   "cell_type": "code",
   "execution_count": 49,
   "metadata": {},
   "outputs": [
    {
     "name": "stdout",
     "output_type": "stream",
     "text": [
      "\n",
      "5x5 Matrix of random integers\n",
      " -------------------------------------------------- \n",
      " [[89 85 84 33 68]\n",
      " [62 95 34 96 53]\n",
      " [79 62 18 30 14]\n",
      " [28 32 67 52 27]\n",
      " [38 38 63 16 85]]\n",
      "\n",
      "Here is the sorted matrix along each row\n",
      " -------------------------------------------------- \n",
      " [[33 68 84 85 89]\n",
      " [34 53 62 95 96]\n",
      " [14 18 30 62 79]\n",
      " [27 28 32 52 67]\n",
      " [16 38 38 63 85]]\n",
      "\n",
      "Here is the sorted matrix along each column\n",
      " -------------------------------------------------- \n",
      " [[28 32 18 16 14]\n",
      " [38 38 34 30 27]\n",
      " [62 62 63 33 53]\n",
      " [79 85 67 52 68]\n",
      " [89 95 84 96 85]]\n"
     ]
    }
   ],
   "source": [
    "M = np.array(ri(0,100,25)).reshape(5,5)\n",
    "print(\"\\n5x5 Matrix of random integers\\n\",'-'*50,\"\\n\",M)\n",
    "print(\"\\nHere is the sorted matrix along each row\\n\",'-'*50,\"\\n\",np.sort(M)) # Default axis =1\n",
    "print(\"\\nHere is the sorted matrix along each column\\n\",'-'*50,\"\\n\",np.sort(M,axis=0))"
   ]
  },
  {
   "cell_type": "markdown",
   "metadata": {},
   "source": [
    "### 5.Create a,b,c  10 element vectors of random integers and perform the respective operation mentioned in print statement"
   ]
  },
  {
   "cell_type": "code",
   "execution_count": 61,
   "metadata": {},
   "outputs": [
    {
     "name": "stdout",
     "output_type": "stream",
     "text": [
      "a: [4 7]\n",
      "b: [1 3 0]\n",
      "c: [8 3 7 9]\n"
     ]
    }
   ],
   "source": [
    "# Fill the following ***** with appropriate solution.\n",
    "a=np.random.randint(0,10,2)\n",
    "b=np.random.randint(0,10,3)\n",
    "c=np.random.randint(0,10,4)\n",
    "\n",
    "print(\"a:\", a)\n",
    "print(\"b:\", b)\n",
    "print(\"c:\", c)"
   ]
  },
  {
   "cell_type": "code",
   "execution_count": 62,
   "metadata": {},
   "outputs": [
    {
     "name": "stdout",
     "output_type": "stream",
     "text": [
      "Max of a: 7\n",
      "Max of b: 3\n",
      "Max of a location: 1\n",
      "Max of b location: 1\n",
      "Max of c location: 3\n"
     ]
    }
   ],
   "source": [
    "print(\"Max of a:\", np.max(a) )\n",
    "print(\"Max of b:\", np.max(b) )\n",
    "\n",
    "\n",
    "print(\"Max of a location:\", np.argmax(a))\n",
    "print(\"Max of b location:\", np.argmax(b))\n",
    "print(\"Max of c location:\", np.argmax(c))\n",
    "\n",
    "print(\"Min of a:\", np.min(a) )\n",
    "print(\"Min of b:\", np.min(b) )\n",
    "\n",
    "\n",
    "print(\"Min of a location:\", np.argmin(a))\n",
    "print(\"Min of b location:\", np.argmin(b))\n",
    "print(\"Min of c location:\", np.argmin(c))"
   ]
  },
  {
   "cell_type": "markdown",
   "metadata": {},
   "source": [
    "## Universal functions\n",
    "\n",
    "6. Create 3*3 matrices of random single-digit numbers.<br/>\n",
    "Apply universal functions on it. (square root,exponetial,log10,Modulo etc.)"
   ]
  },
  {
   "cell_type": "code",
   "execution_count": 70,
   "metadata": {},
   "outputs": [
    {
     "data": {
      "text/plain": [
       "array([[ 9, 47],\n",
       "       [37, 11]])"
      ]
     },
     "execution_count": 70,
     "metadata": {},
     "output_type": "execute_result"
    }
   ],
   "source": [
    "mat1 = np.array(np.random.randint(0,50,4)).reshape(2,2)\n",
    "mat1"
   ]
  },
  {
   "cell_type": "code",
   "execution_count": 4,
   "metadata": {},
   "outputs": [
    {
     "name": "stdout",
     "output_type": "stream",
     "text": [
      "\n",
      "1st Matrix of random single-digit numbers\n",
      "----------------------------------------\n",
      " [[ 5 20]\n",
      " [46 26]]\n",
      "\n",
      "2nd Matrix of random single-digit numbers\n",
      "----------------------------------------\n",
      " [[ 4 16 22]\n",
      " [33 37  3]\n",
      " [ 2 36 22]]\n",
      "\n",
      "Sq-root of 1st matrix using np\n",
      "------------------\n",
      " [[2.23606798 4.47213595]\n",
      " [6.78232998 5.09901951]]\n",
      "\n",
      "Exponential power of 1st matrix using np\n",
      " -------------------------------------------------- \n",
      " [[1.48413159e+02 4.85165195e+08]\n",
      " [9.49611942e+19 1.95729609e+11]]\n",
      "\n",
      "10-base logarithm on 1st matrix using np\n",
      " -------------------------------------------------- \n",
      " [[0.69897    1.30103   ]\n",
      " [1.66275783 1.41497335]]\n",
      "\n",
      "Modulo reminder using np\n",
      " -------------------------------------------------- \n",
      " [[1 0]\n",
      " [0 0]]\n"
     ]
    },
    {
     "data": {
      "text/plain": [
       "<ufunc 'remainder'>"
      ]
     },
     "execution_count": 4,
     "metadata": {},
     "output_type": "execute_result"
    }
   ],
   "source": [
    "\n",
    "mat1 = np.array(np.random.randint(0,50,4)).reshape(2,2)\n",
    "mat2 = np.array(np.random.randint(0,50,9)).reshape(3,3)\n",
    "print(\"\\n1st Matrix of random single-digit numbers\\n----------------------------------------\\n\",mat1)\n",
    "print(\"\\n2nd Matrix of random single-digit numbers\\n----------------------------------------\\n\",mat2)\n",
    "\n",
    "\n",
    "print(\"\\nSq-root of 1st matrix using np\\n------------------\\n\",np.sqrt(mat1) )\n",
    "\n",
    "\n",
    "print(\"\\nExponential power of 1st matrix using np\\n\",'-'*50,\"\\n\",np.exp(mat1))\n",
    "\n",
    "\n",
    "print(\"\\n10-base logarithm on 1st matrix using np\\n\",'-'*50,\"\\n\", np.log10(mat1))\n",
    "\n",
    "\n",
    "print(\"\\nModulo reminder using np\\n\",'-'*50,\"\\n\", np.mod(mat1,2))\n",
    "np.mod"
   ]
  },
  {
   "cell_type": "markdown",
   "metadata": {},
   "source": [
    "### 7.Generating matrices from distributions"
   ]
  },
  {
   "cell_type": "code",
   "execution_count": 20,
   "metadata": {},
   "outputs": [
    {
     "name": "stdout",
     "output_type": "stream",
     "text": [
      "Random number generation (from Uniform distribution)\n",
      "Numbers from Normal distribution with zero mean and standard deviation 1 i.e. standard normal\n",
      "0.6768578435545487\n",
      "Random integer vector: [39  8 63 94 98 70 79 28  7 84]\n",
      "\n",
      "Random integer matrix\n",
      "[[51 28 53]\n",
      " [82 47 17]\n",
      " [52 99  7]\n",
      " [78 39  9]\n",
      " [72 83 69]\n",
      " [66 90 47]\n",
      " [ 4  7 93]\n",
      " [28 21  8]\n",
      " [52 66 47]\n",
      " [95 57 72]\n",
      " [54 38 60]\n",
      " [64 79 11]]\n",
      "\n",
      "20 samples drawn from a dice throw: [2 5 6 5 6 6 2 6 1 3 4 1 1 2 3 6 2 3 5 6]\n"
     ]
    }
   ],
   "source": [
    "print(\"Random number generation (from Uniform distribution)\")\n",
    "a = np.array(np.random.random(6)).reshape(2,3)\n",
    "a\n",
    "\n",
    "print(\"Numbers from Normal distribution with zero mean and standard deviation 1 i.e. standard normal\")\n",
    "np.random.normal()\n",
    "print(np.random.normal())\n",
    "\n",
    "print(\"Random integer vector:\",np.random.randint(1,100,10)) #randint (low, high, # of samples to be drawn)\n",
    "print (\"\\nRandom integer matrix\")\n",
    "\n",
    "print(np.random.randint(1,100,(12,3))) #randint (low, high, # of samples to be drawn in a tuple to form a matrix)\n",
    "\n",
    "print(\"\\n20 samples drawn from a dice throw:\",np.random.randint(1,7,20)) # 20 samples drawn from a dice throw"
   ]
  },
  {
   "cell_type": "markdown",
   "metadata": {},
   "source": [
    "### 8.Find the nearest value from a given number in an array using NumPy."
   ]
  },
  {
   "cell_type": "code",
   "execution_count": 33,
   "metadata": {},
   "outputs": [
    {
     "name": "stdout",
     "output_type": "stream",
     "text": [
      "[ 4.02972422 11.33316708  9.00474545  1.6831814   6.28869801]\n",
      "11.333167079743113\n"
     ]
    }
   ],
   "source": [
    "b = np.random.uniform(1,13,5)\n",
    "print(b)\n",
    "type(b)\n",
    "v = 12\n",
    "n = b[np.abs(b - v).argmin()]\n",
    "print(n)"
   ]
  },
  {
   "cell_type": "code",
   "execution_count": 21,
   "metadata": {},
   "outputs": [
    {
     "name": "stdout",
     "output_type": "stream",
     "text": [
      "4.859577122593637\n"
     ]
    }
   ],
   "source": [
    "#Steps\n",
    "#Create an array of 5 random element from 1 to 12\n",
    "#Suppose find the nearest values of 10 in an array so set value=10\n",
    "#find the index where difference is minimum and get the element"
   ]
  },
  {
   "cell_type": "markdown",
   "metadata": {},
   "source": [
    "### 9.Write code using numpy to produce following output\n",
    "[[0 0 0] [0 1 2] [0 2 4]]"
   ]
  },
  {
   "cell_type": "code",
   "execution_count": null,
   "metadata": {},
   "outputs": [],
   "source": []
  }
 ],
 "metadata": {
  "kernelspec": {
   "display_name": "Python 3",
   "language": "python",
   "name": "python3"
  },
  "language_info": {
   "codemirror_mode": {
    "name": "ipython",
    "version": 3
   },
   "file_extension": ".py",
   "mimetype": "text/x-python",
   "name": "python",
   "nbconvert_exporter": "python",
   "pygments_lexer": "ipython3",
   "version": "3.6.4"
  }
 },
 "nbformat": 4,
 "nbformat_minor": 2
}
