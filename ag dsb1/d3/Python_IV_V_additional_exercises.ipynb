{
 "cells": [
  {
   "cell_type": "markdown",
   "metadata": {},
   "source": [
    "### Topics\n",
    "\n",
    "* Basic dtypes exercises\n",
    "* Custom Exceptions Handling With Try-Except\n",
    "* Reading Delimited Files With The CSV Module\n",
    "* Project 1 On Python Modules"
   ]
  },
  {
   "cell_type": "markdown",
   "metadata": {},
   "source": [
    "### 1. Create a list of strings based on a list of numbers\n",
    "The rules:\n",
    "\n",
    "If the number is a multiple of five and odd, the string should be 'five odd'\n",
    "If the number is a multiple of five and even, the string should be 'five even'\n",
    "If the number is odd, the string is 'odd'\n",
    "If the number is even, the string is 'even'"
   ]
  },
  {
   "cell_type": "code",
   "execution_count": 8,
   "metadata": {},
   "outputs": [],
   "source": [
    "numbers = [1, 3, 4, 6, 81, 80, 100, 95]"
   ]
  },
  {
   "cell_type": "code",
   "execution_count": 29,
   "metadata": {},
   "outputs": [
    {
     "name": "stdout",
     "output_type": "stream",
     "text": [
      "['odd number', 'odd number', 'even number', 'even number', 'odd number', 'five even', 'five even', 'five odd number']\n"
     ]
    }
   ],
   "source": [
    "# Your implementation\n",
    "res=[]\n",
    "for i in numbers:\n",
    "    if (i%2==0 and i%5==0):\n",
    "        res.append('five even')\n",
    "    elif i%2==0:\n",
    "        res.append('even number')    \n",
    "    elif(i%2!=0 and i%5==0):\n",
    "        res.append('five odd number')\n",
    "    else:\n",
    "        res.append('odd number')\n",
    "print(res)\n",
    "        \n",
    "    \n",
    "      "
   ]
  },
  {
   "cell_type": "code",
   "execution_count": 9,
   "metadata": {},
   "outputs": [
    {
     "name": "stdout",
     "output_type": "stream",
     "text": [
      "1\n",
      "3\n",
      "4\n",
      "6\n",
      "81\n",
      "80\n",
      "100\n",
      "95\n"
     ]
    }
   ],
   "source": [
    "for i in numbers:\n",
    "    print(i)"
   ]
  },
  {
   "cell_type": "markdown",
   "metadata": {},
   "source": [
    "### 2. Calculate the sum of dict values\n",
    "Calculate the sum of the values in magic_dict by taking only into account numeric values (hint: see isinstance)."
   ]
  },
  {
   "cell_type": "code",
   "execution_count": 30,
   "metadata": {},
   "outputs": [],
   "source": [
    "magic_dict = dict(val1=44, val2='secret value', val3=55.0, val4=1)\n"
   ]
  },
  {
   "cell_type": "code",
   "execution_count": 32,
   "metadata": {},
   "outputs": [
    {
     "name": "stdout",
     "output_type": "stream",
     "text": [
      "val1\n",
      "val2\n",
      "val3\n",
      "val4\n"
     ]
    }
   ],
   "source": [
    "# Your implementation\n",
    "for i. in magic_dict:\n",
    "    print(i)"
   ]
  },
  {
   "cell_type": "markdown",
   "metadata": {},
   "source": [
    "### 3. Custom Exception Handling\n",
    "##### Create Custom exception as\n",
    "*   1.DuplicateUsernameError : Raise if username duplicate\n",
    "*    2.InvalidAgeError        : Raise if age is negative\n",
    "*    3.UnderageError          : Raise if age is less than 18\n"
   ]
  },
  {
   "cell_type": "code",
   "execution_count": 41,
   "metadata": {},
   "outputs": [
    {
     "name": "stdout",
     "output_type": "stream",
     "text": [
      "Username 'jane' is in use.\n",
      "User steve is underage.\n",
      "'joe' is not a valid email address.\n",
      "Invalid age: -3\n"
     ]
    }
   ],
   "source": [
    "# Exceptions\n",
    "\n",
    "class DuplicateUsernameError(Exception):\n",
    "    pass\n",
    "\n",
    "class InvalidAgeError(Exception):\n",
    "    pass\n",
    "\n",
    "class UnderageError(Exception):\n",
    "    pass\n",
    "\n",
    "class InvalidEmailError(Exception):\n",
    "    pass\n",
    "\n",
    "# Create a class User with two attribute: username and age\n",
    "\n",
    "class User:\n",
    "    def __init__(self, username, age):\n",
    "        \n",
    "\n",
    "example_list = [\n",
    "    (\"jane\", \"jane@example.com\", 21),\n",
    "    (\"bob\", \"bob@example\", 19),\n",
    "    (\"jane\", \"jane2@example.com\", 25),\n",
    "    (\"steve\", \"steve@somewhere\", 15),\n",
    "    (\"joe\", \"joe\", 23),\n",
    "    (\"anna\", \"anna@example.com\", -3),\n",
    "]\n",
    "\n",
    "directory = {}\n",
    "\n",
    "for username, email,age in example_list:\n",
    "    try:\n",
    "        # On conditional check Raise DuplicateUsernameError,InvalidAgeError,UnderageError\n",
    "        \n",
    "        \n",
    "        #Validate email address by splitting it from '@' and raise InvalidEmailError if it is invalid\n",
    "        \n",
    "    \n",
    "    #Display Appropriate messages\n",
    "    except DuplicateUsernameError:\n",
    "        print(\"Username '%s' is in use.\" % username)\n",
    "    except InvalidAgeError:\n",
    "        print(\"Invalid age: %d\" % age)\n",
    "    except UnderageError:\n",
    "        print(\"User %s is underage.\" % username)\n",
    "    except InvalidEmailError:\n",
    "        print(\"'%s' is not a valid email address.\" % email)\n",
    "\n",
    "    else:\n",
    "        directory[username] = User(username, email)"
   ]
  },
  {
   "cell_type": "markdown",
   "metadata": {},
   "source": [
    "### 4.File Handling\n",
    "\n",
    "Open file \"example.csv\" and extract two columns values (color,date)"
   ]
  },
  {
   "cell_type": "code",
   "execution_count": 16,
   "metadata": {},
   "outputs": [
    {
     "name": "stdout",
     "output_type": "stream",
     "text": [
      "['Date', '01 February 2014', '02 February 2014', '03 February 2014', '04 February 2014', '05 February 2014', '06 February 2014', '07 February 2014', '08 February 2014', '09 February 2014', '10 February 2014', '11 February 2014', '12 February 2014', '13 February 2014', '14 February 2014', '15 February 2014']\n",
      "['Color', 'red', 'green', 'blue', 'yellow', 'voilet', 'blue', 'red', 'yellow', 'blue', 'yellow', 'yellow', 'voilet', 'yellow', 'voilet', 'yellow']\n"
     ]
    }
   ],
   "source": [
    "\n",
    "#Import csv module\n",
    "import csv\n",
    "\n",
    "#Open csv file using csv module\n",
    "\n",
    "    #Read file\n",
    "    \n",
    "    #Empty list declaration for result accumulation\n",
    "    dates = []\n",
    "    colors = []\n",
    "    \n",
    "    #Iterate over csv reader object and extract row date and color\n",
    "    \n",
    "        \n",
    "        #Append values in dates and colors\n",
    "        dates.append(date)\n",
    "        colors.append(color)\n",
    "\n",
    "    print(dates)\n",
    "    print(colors)"
   ]
  },
  {
   "cell_type": "markdown",
   "metadata": {},
   "source": [
    "### 5. Sum numbers listed in a file\n",
    "Function `sum_numbers_in_file` function takes a input file path as argument, reads the numbers listed in the input file and returns the sum of those numbers. You can assume that each line contains exactly one numeric value."
   ]
  },
  {
   "cell_type": "code",
   "execution_count": 12,
   "metadata": {},
   "outputs": [],
   "source": [
    "def sum_numbers_in_file(input_file):\n",
    "    sum_ = 0  # A common way to use variable names that collide with built-in/keyword words is to add underscore\n",
    "    \n",
    "    #Open file in read mode\n",
    "    #Iterate over a file object\n",
    "    #Remove white spaces\n",
    "    #Perform addition\n",
    "   "
   ]
  },
  {
   "cell_type": "code",
   "execution_count": 13,
   "metadata": {},
   "outputs": [
    {
     "name": "stdout",
     "output_type": "stream",
     "text": [
      "189.5\n"
     ]
    }
   ],
   "source": [
    "input_file='numbers.txt'\n",
    "#Function Call"
   ]
  },
  {
   "cell_type": "code",
   "execution_count": null,
   "metadata": {},
   "outputs": [],
   "source": []
  }
 ],
 "metadata": {
  "kernelspec": {
   "display_name": "Python 3",
   "language": "python",
   "name": "python3"
  },
  "language_info": {
   "codemirror_mode": {
    "name": "ipython",
    "version": 3
   },
   "file_extension": ".py",
   "mimetype": "text/x-python",
   "name": "python",
   "nbconvert_exporter": "python",
   "pygments_lexer": "ipython3",
   "version": "3.6.4"
  }
 },
 "nbformat": 4,
 "nbformat_minor": 2
}
