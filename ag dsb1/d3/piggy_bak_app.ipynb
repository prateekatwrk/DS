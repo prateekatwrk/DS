{
 "cells": [
  {
   "cell_type": "markdown",
   "metadata": {},
   "source": [
    "## Piggy Bank Software\n",
    "\n",
    "We should create a piigy bank application for school children to teach them importance of savings.\n",
    "They should have the option to :\n",
    "\n",
    "* Add modeny \n",
    "* withdraw money\n",
    "* Check the current amount in the piggy bank"
   ]
  },
  {
   "cell_type": "code",
   "execution_count": null,
   "metadata": {},
   "outputs": [
    {
     "name": "stdout",
     "output_type": "stream",
     "text": [
      " \n",
      "--------------------Start-------------------\n",
      " \n",
      "Start or End : Start\n",
      "Add , Withdraw or Check : Add\n",
      " \n",
      "Add amount : 1000\n",
      " \n",
      "After adding , your updated balance is 1000.0 rupees\n",
      "None\n",
      " \n",
      "Start or End : Start\n",
      "Add , Withdraw or Check : Withdraw\n",
      " \n",
      "withdraw amount : 300\n",
      " \n",
      "After withdrawing , balance amount is  700.0 rupees\n",
      "None\n",
      " \n",
      "Start or End : Start'\n",
      " \n",
      "Start or End : Start\n",
      "Add , Withdraw or Check : Check\n",
      " \n",
      "Your current balance is 700.0 rupees\n",
      "None\n",
      " \n"
     ]
    }
   ],
   "source": [
    "import piggy_bank"
   ]
  },
  {
   "cell_type": "markdown",
   "metadata": {},
   "source": [
    "## Assignment \n",
    "\n",
    "Develope an piggy bank application, which will work as per above instruction.\n"
   ]
  },
  {
   "cell_type": "code",
   "execution_count": null,
   "metadata": {},
   "outputs": [],
   "source": []
  }
 ],
 "metadata": {
  "kernelspec": {
   "display_name": "Python 3",
   "language": "python",
   "name": "python3"
  },
  "language_info": {
   "codemirror_mode": {
    "name": "ipython",
    "version": 3
   },
   "file_extension": ".py",
   "mimetype": "text/x-python",
   "name": "python",
   "nbconvert_exporter": "python",
   "pygments_lexer": "ipython3",
   "version": "3.6.5"
  }
 },
 "nbformat": 4,
 "nbformat_minor": 2
}
