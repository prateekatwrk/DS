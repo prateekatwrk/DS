{
 "cells": [
  {
   "cell_type": "markdown",
   "metadata": {},
   "source": [
    "### Problem Statement: STATISTICS 1"
   ]
  },
  {
   "cell_type": "markdown",
   "metadata": {},
   "source": [
    "#### 1. You survey households in your area to find the average rent they are paying. Find the standard deviation from the following data:\n",
    "\n",
    "$1550, $1700, $900, $850, $1000, $950."
   ]
  },
  {
   "cell_type": "code",
   "execution_count": 1,
   "metadata": {},
   "outputs": [],
   "source": [
    "import pandas as pd\n",
    "import statistics as st\n",
    "import numpy as np"
   ]
  },
  {
   "cell_type": "code",
   "execution_count": 112,
   "metadata": {},
   "outputs": [
    {
     "name": "stdout",
     "output_type": "stream",
     "text": [
      "The standard deviation of the given sample rent data is 367.9900360969936\n"
     ]
    }
   ],
   "source": [
    "## Method 1\n",
    "\n",
    "## list of provided rent sample\n",
    "rent=['$1550', '$1700', '$900', '$850', '$1000', '$950']\n",
    "\n",
    "## new list with rents in integer\n",
    "rent_new = [(int(r.replace('$',''))) for r in rent]\n",
    "\n",
    "\n",
    "##finding the standard deviation and print the value of sample rents\n",
    "print('The standard deviation of the given rent data is {}'.format(st.stdev(rent_new)))"
   ]
  },
  {
   "cell_type": "code",
   "execution_count": 119,
   "metadata": {},
   "outputs": [
    {
     "name": "stdout",
     "output_type": "stream",
     "text": [
      "Calculation using custom method\n",
      "Mean 1158.3333333333333\n",
      "The standard deviation of the given rent data is 367.99003609699366\n",
      "\n",
      "Calculation using statistics library\n",
      "Mean 1158.3333333333333\n",
      "The standard deviation of the given rent data is 367.9900360969936\n"
     ]
    }
   ],
   "source": [
    "## Method 2\n",
    "\n",
    "from math import sqrt\n",
    "\n",
    "def find_mean(arr):\n",
    "    return sum(arr)/len(arr)\n",
    "\n",
    "def find_std_dev(arr):\n",
    "    return find_variance(arr)**0.5\n",
    "\n",
    "\n",
    "print(\"Calculation using custom method\")\n",
    "print (\"Mean \" + str(find_mean(rent_new)))\n",
    "print(\"The standard deviation of the given rent data is \" + str(find_std_dev(rent_new)))\n",
    "\n",
    "print(\"\\nCalculation using statistics library\")\n",
    "print(str(\"Mean \" + str(st.mean(rent_new))))\n",
    "print(str(\"The standard deviation of the given rent data is \" + str(st.stdev(rent_new))))"
   ]
  },
  {
   "cell_type": "markdown",
   "metadata": {},
   "source": [
    "#### 2. Find the variance for the following set of data representing trees in California (heights in feet):\n",
    "\n",
    "3, 21, 98, 203, 17, 9"
   ]
  },
  {
   "cell_type": "code",
   "execution_count": 102,
   "metadata": {},
   "outputs": [
    {
     "name": "stdout",
     "output_type": "stream",
     "text": [
      "The variance of given set of data is 6219.9\n"
     ]
    }
   ],
   "source": [
    "## Method1\n",
    "## list of hights\n",
    "\n",
    "hights =[3, 21, 98, 203, 17, 9]\n",
    "\n",
    "#Print the variance of given set of data\n",
    "print('The variance of given set of data is {}'.format(st.variance(hights)))"
   ]
  },
  {
   "cell_type": "code",
   "execution_count": 116,
   "metadata": {},
   "outputs": [
    {
     "name": "stdout",
     "output_type": "stream",
     "text": [
      "The variance of given set of data is 6219.9\n",
      "The variance of given set of data is 6219.9\n"
     ]
    }
   ],
   "source": [
    "## Method2\n",
    "\n",
    "def find_variance(arr):\n",
    "    variance = 0.0\n",
    "    mean = find_mean(arr)\n",
    "    variance = sum((x - mean)**2 for x in arr) / (len(arr)-1)\n",
    "    return variance\n",
    "\n",
    "print (\"The variance of given set of data is {}\".format(str(find_variance(hights))))\n",
    "print(str(\"The variance of given set of data is {}\".format(str(st.variance(hights)))))"
   ]
  },
  {
   "cell_type": "markdown",
   "metadata": {},
   "source": [
    "#### 3. In a class on 100 students, 80 students passed in all subjects, 10 failed in one subject, 7 failed in two subjects and 3 failed in three subjects. Find the probability distribution of the variable for number of subjects a student from the given class has failed in."
   ]
  },
  {
   "cell_type": "markdown",
   "metadata": {},
   "source": [
    "![13.JPG](images\\13.JPG)"
   ]
  },
  {
   "cell_type": "markdown",
   "metadata": {},
   "source": [
    "### 2. Problem Statement: STATISTICS 2"
   ]
  },
  {
   "cell_type": "markdown",
   "metadata": {},
   "source": [
    "#### 1. A test is conducted which is consisting of 20 MCQs (multiple choices questions) with every MCQ having its four options out of which only one is correct. Determine the probability that a person undertaking that test has answered exactly 5 questions wrong."
   ]
  },
  {
   "cell_type": "markdown",
   "metadata": {},
   "source": [
    "![21.JPG](images\\21.JPG)"
   ]
  },
  {
   "cell_type": "markdown",
   "metadata": {},
   "source": [
    "#### 2. A die marked A to E is rolled 50 times. Find the probability of getting a “D” exactly 5 times."
   ]
  },
  {
   "cell_type": "markdown",
   "metadata": {},
   "source": [
    "![22.JPG](images\\22.JPG)"
   ]
  },
  {
   "cell_type": "markdown",
   "metadata": {},
   "source": [
    "#### 3. Two balls are drawn at random in succession without replacement from an urn containing 4 red balls and 6 black balls.Find the probabilities of all the possible outcomes."
   ]
  },
  {
   "cell_type": "markdown",
   "metadata": {},
   "source": [
    "![23.jpg](images\\23.jpg)"
   ]
  },
  {
   "cell_type": "markdown",
   "metadata": {},
   "source": [
    "### 3. Problem Statement: STATISTICS 3"
   ]
  },
  {
   "cell_type": "markdown",
   "metadata": {},
   "source": [
    "#### Blood glucose levels for obese patients have a mean of 100 with a standard deviation of 15. A researcher thinks that a diet high in raw cornstarch will have a positive effect on blood glucose levels. A sample of 36 patients who have tried the raw cornstarch diet have a mean glucose level of 108. Test the hypothesis that the raw cornstarch had an effect or not."
   ]
  },
  {
   "cell_type": "markdown",
   "metadata": {},
   "source": [
    "![30.jpg](images\\30.jpg)"
   ]
  },
  {
   "cell_type": "markdown",
   "metadata": {},
   "source": [
    "###### 1. In one state, 52% of the voters are Republicans, and 48% are Democrats. In a second state, 47% of the voters are Republicans, and 53% are Democrats. Suppose a simple random sample of 100 voters are surveyed from each state. What is the probability that the survey will show a greater percentage of Republican voters in the second state than in the first state?"
   ]
  },
  {
   "cell_type": "markdown",
   "metadata": {},
   "source": [
    "![31.jpg](images\\31.jpg)"
   ]
  },
  {
   "cell_type": "markdown",
   "metadata": {},
   "source": [
    "###### 2. You take the SAT and score 1100. The mean score for the SAT is 1026 and the standard deviation is 209. How well did you score on the test compared to the average test taker?"
   ]
  },
  {
   "cell_type": "markdown",
   "metadata": {},
   "source": [
    "![32.jpg](images\\32.jpg)"
   ]
  },
  {
   "cell_type": "markdown",
   "metadata": {},
   "source": [
    "### 4. Problem Statement: STATISTICS 4"
   ]
  },
  {
   "cell_type": "markdown",
   "metadata": {},
   "source": [
    "###### 1. Is gender independent of education level? A random sample of 395 people were surveyed and each person was asked to report the highest education level they obtained. The data that resulted from the survey is summarized in the following table:\n",
    "\n",
    "    High-School Bachelor Masters Ph.D. Total\n",
    "\n",
    "Female 60 54 46 41 201\n",
    "\n",
    "Male 40 44 53 57 194\n",
    "\n",
    "Total 100 98 99 98 395"
   ]
  },
  {
   "cell_type": "markdown",
   "metadata": {},
   "source": [
    "###### Question: Are gender and education level dependent at 5% level of significance? In other words, given the data collected above, is there a relationship between the gender of an individual and the level of education that they have obtained?"
   ]
  },
  {
   "cell_type": "markdown",
   "metadata": {},
   "source": [
    "![41.png](images\\41.png)"
   ]
  },
  {
   "cell_type": "markdown",
   "metadata": {},
   "source": [
    "#### 2. Using the following data, perform a one-way analysis of variance using α=.05. Write up the results in APA format.\n",
    "\n",
    "[Group1: 51, 45, 33, 45, 67]\n",
    "\n",
    "[Group2: 23, 43, 23, 43, 45]\n",
    "\n",
    "[Group3: 56, 76, 74, 87, 56]"
   ]
  },
  {
   "cell_type": "code",
   "execution_count": 2,
   "metadata": {},
   "outputs": [
    {
     "name": "stdout",
     "output_type": "stream",
     "text": [
      "The error value is 12\n",
      "\n",
      "The group value is 2\n",
      "\n",
      "APA writeup\n",
      "\n",
      "F(2, 12)=9.747205503009463, p <0.05\n"
     ]
    }
   ],
   "source": [
    "import scipy.stats as sc\n",
    "\n",
    "G1 = [51, 45, 33, 45, 67]\n",
    "G2 = [23, 43, 23, 43, 45]\n",
    "G3 = [56, 76, 74, 87, 56]\n",
    "\n",
    "##average within-group variance\n",
    "\n",
    "Group_mean=np.mean([np.mean(G1),np.mean(G2),np.mean(G3)]) # 51.13\n",
    "\n",
    "G1_var = st.variance(G1)\n",
    "G2_var = st.variance(G2)\n",
    "G3_var = st.variance(G3)\n",
    "group_var=[G1_var,G2_var,G3_var]\n",
    "MS_error = st.mean(group_var) ## 155.06666666666666\n",
    "\n",
    "#Calculating the remaining error (or within) terms for the ANOVA table:\n",
    "df_error = (15-3)\n",
    "print('The error value is {}\\n'.format(df_error))\n",
    "\n",
    "## Calculating the remaining between (or group) terms of the ANOVA table\n",
    "df_groups = (3-1)\n",
    "print('The group value is {}\\n'.format(df_groups))\n",
    "\n",
    "## APA writeup\n",
    "print('APA writeup\\n')\n",
    "print('F(2, 12)={}, p <0.05'.format(sc.f_oneway(G1,G2,G3)[0]))"
   ]
  },
  {
   "cell_type": "markdown",
   "metadata": {},
   "source": [
    "![43.jpg](images\\43.jpg)"
   ]
  },
  {
   "cell_type": "markdown",
   "metadata": {},
   "source": [
    "#### 3. Calculate F Test for given 10, 20, 30, 40, 50 and 5,10,15, 20, 25.\n",
    "\n",
    "For 10, 20, 30, 40, 50:"
   ]
  },
  {
   "cell_type": "code",
   "execution_count": 34,
   "metadata": {},
   "outputs": [
    {
     "name": "stdout",
     "output_type": "stream",
     "text": [
      "The F test for 10, 20, 30, 40, 50 is 4.0\n"
     ]
    }
   ],
   "source": [
    "a =[10,20,30,40,50]\n",
    "b =[5,10,15, 20, 25]\n",
    "\n",
    "# calculate the F_Score\n",
    "print('The F test for 10, 20, 30, 40, 50 is {}'.format(np.var(a)/np.var(b)))"
   ]
  }
 ],
 "metadata": {
  "kernelspec": {
   "display_name": "Python 3",
   "language": "python",
   "name": "python3"
  },
  "language_info": {
   "codemirror_mode": {
    "name": "ipython",
    "version": 3
   },
   "file_extension": ".py",
   "mimetype": "text/x-python",
   "name": "python",
   "nbconvert_exporter": "python",
   "pygments_lexer": "ipython3",
   "version": "3.7.3"
  }
 },
 "nbformat": 4,
 "nbformat_minor": 2
}
