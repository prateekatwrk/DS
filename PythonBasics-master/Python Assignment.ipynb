{
 "cells": [
  {
   "cell_type": "markdown",
   "metadata": {},
   "source": [
    "## PYTHON 1"
   ]
  },
  {
   "cell_type": "markdown",
   "metadata": {},
   "source": [
    "#### Write a program which will find all such numbers which are divisible by 7 but are not a multiple of 5, between 2000 and 3200 (both included). The numbers obtained should be printed in a comma-separated sequence on a single line."
   ]
  },
  {
   "cell_type": "code",
   "execution_count": 132,
   "metadata": {},
   "outputs": [
    {
     "name": "stdout",
     "output_type": "stream",
     "text": [
      "2002, 2009, 2016, 2023, 2037, 2044, 2051, 2058, 2072, 2079, 2086, 2093, 2107, 2114, 2121, 2128, 2142, 2149, 2156, 2163, 2177, 2184, 2191, 2198, 2212, 2219, 2226, 2233, 2247, 2254, 2261, 2268, 2282, 2289, 2296, 2303, 2317, 2324, 2331, 2338, 2352, 2359, 2366, 2373, 2387, 2394, 2401, 2408, 2422, 2429, 2436, 2443, 2457, 2464, 2471, 2478, 2492, 2499, 2506, 2513, 2527, 2534, 2541, 2548, 2562, 2569, 2576, 2583, 2597, 2604, 2611, 2618, 2632, 2639, 2646, 2653, 2667, 2674, 2681, 2688, 2702, 2709, 2716, 2723, 2737, 2744, 2751, 2758, 2772, 2779, 2786, 2793, 2807, 2814, 2821, 2828, 2842, 2849, 2856, 2863, 2877, 2884, 2891, 2898, 2912, 2919, 2926, 2933, 2947, 2954, 2961, 2968, 2982, 2989, 2996, 3003, 3017, 3024, 3031, 3038, 3052, 3059, 3066, 3073, 3087, 3094, 3101, 3108, 3122, 3129, 3136, 3143, 3157, 3164, 3171, 3178, 3192, 3199\n"
     ]
    }
   ],
   "source": [
    "# seting value as null\n",
    "str_output =''\n",
    "\n",
    "# Creating a list which has values between 2000 and 3200\n",
    "lst_input = list(range(2000,3201))\n",
    "lst_output = [] # list to have all output values\n",
    "\n",
    "# list output of all eligible numbers\n",
    "for i in lst_input:\n",
    "    if i%7 == 0 and i%5 !=0: # to find if number is divisible by 7 but not a multiple of 5\n",
    "        lst_output.append(i)\n",
    "\n",
    "# converting list to string to display in desired format\n",
    "first_val = lst_output[0]\n",
    "for j in lst_output[:]:\n",
    "    if j == first_val:\n",
    "        str_output +=  str(j) \n",
    "    else:\n",
    "        str_output +=  ', '+ str(j)\n",
    "print(str_output)\n"
   ]
  },
  {
   "cell_type": "markdown",
   "metadata": {},
   "source": [
    "#### Write a Python program to accept the user's first and last name and then getting them printed in the the reverse order with a space between first name and last name"
   ]
  },
  {
   "cell_type": "code",
   "execution_count": 139,
   "metadata": {},
   "outputs": [
    {
     "name": "stdout",
     "output_type": "stream",
     "text": [
      "Please enter your First Name: Ravish\n",
      "Please enetr you Last Name: Ranjan\n",
      "najnaR hsivaR\n"
     ]
    }
   ],
   "source": [
    "#enter first and last name\n",
    "first_name = input(\"Please enter your First Name: \")\n",
    "last_name = input('Please enetr you Last Name: ')\n",
    "\n",
    "# concetinating first and last name with space in between\n",
    "name = first_name + ' ' + last_name\n",
    "\n",
    "#reversing the name to get the desired output\n",
    "print(name[::-1])"
   ]
  },
  {
   "cell_type": "markdown",
   "metadata": {},
   "source": [
    "#### Write a Python program to find the volume of a sphere with diameter 12 cm"
   ]
  },
  {
   "cell_type": "code",
   "execution_count": 2,
   "metadata": {},
   "outputs": [
    {
     "name": "stdout",
     "output_type": "stream",
     "text": [
      "the Volume of the Sphere of 12cm diameter is 904.778496 cm3\n"
     ]
    }
   ],
   "source": [
    "# Finding Volume of sphere when diameter is given as 12 cm\n",
    "d = 12\n",
    "r = d/2 #Calulate the radius\n",
    "pie=3.141592 # value of pie\n",
    "\n",
    "#Calculate the volume by applying formula\n",
    "Vol = (4/3)*pie*(r**3)\n",
    "print (\"the Volume of the Sphere of 12cm diameter is {v}\".format(v=Vol) + \" cm3\")"
   ]
  },
  {
   "cell_type": "markdown",
   "metadata": {},
   "source": [
    "## PYTHON 2 "
   ]
  },
  {
   "cell_type": "markdown",
   "metadata": {},
   "source": [
    "#### Write a program which accepts a sequence of comma-separated numbers from console and generate a list"
   ]
  },
  {
   "cell_type": "code",
   "execution_count": 3,
   "metadata": {},
   "outputs": [
    {
     "name": "stdout",
     "output_type": "stream",
     "text": [
      "Please enter sequence of comma-separated numbers: 9,22,444,8888\n",
      "\n",
      "Inputed comma separated numbers in the list as : [9, 22, 444, 8888]\n"
     ]
    }
   ],
   "source": [
    "#input the sequence of comma-separated numbers\n",
    "input_numbers = input ('Please enter sequence of comma-separated numbers: ')\n",
    "\n",
    "#Initialise and Generation of List\n",
    "print()\n",
    "lst =[]\n",
    "lst = input_numbers.split(',')\n",
    "\n",
    "#Converting string to int in the list\n",
    "final_lst = list(map(int,lst))\n",
    "print('Inputed comma separated numbers in the list as : {}'.format(final_lst))"
   ]
  },
  {
   "cell_type": "markdown",
   "metadata": {},
   "source": [
    "#### Create the below pattern using nested for loop in Python. \n",
    "        *\n",
    "        * *\n",
    "        * * *\n",
    "        * * * *\n",
    "        * * * * *\n",
    "        * * * *\n",
    "        * * *\n",
    "        * *\n",
    "        *"
   ]
  },
  {
   "cell_type": "code",
   "execution_count": 2,
   "metadata": {},
   "outputs": [
    {
     "name": "stdout",
     "output_type": "stream",
     "text": [
      "* \n",
      "* * \n",
      "* * * \n",
      "* * * * \n",
      "* * * * * \n",
      "* * * * \n",
      "* * * \n",
      "* * \n",
      "* \n",
      "\n"
     ]
    }
   ],
   "source": [
    "# Initialize n to the for maximum number of stars \n",
    "n = 5 \n",
    "\n",
    "#iterating and print * to get output of first 5 lines \n",
    "for i in range(n): \n",
    "    print('* '*(i+1)) \n",
    "\n",
    "#iterating and print * to get output of last 4 lines \n",
    "for j in range(n):\n",
    "    print('* '*(n-1-j))\n"
   ]
  },
  {
   "cell_type": "markdown",
   "metadata": {},
   "source": [
    "#### Write a Python program to reverse a word after accepting the input from the user. "
   ]
  },
  {
   "cell_type": "code",
   "execution_count": 72,
   "metadata": {},
   "outputs": [
    {
     "name": "stdout",
     "output_type": "stream",
     "text": [
      "Please input a word of your choice: AcadGild\n",
      "The reversed word of the inputed word is: dliGdacA\n"
     ]
    }
   ],
   "source": [
    "#initialising an empty list\n",
    "input_word = []\n",
    "#input user string for reversal\n",
    "input_word = input ('Please input a word of your choice: ')\n",
    "#reversing the string\n",
    "print('The reversed word of the inputed word is: ' + str(input_word[::-1]))"
   ]
  },
  {
   "cell_type": "markdown",
   "metadata": {},
   "source": [
    "##### Write a Python Program to print the given string in the format specified in the sample output. \n",
    " \n",
    "WE, THE PEOPLE OF INDIA, having solemnly resolved to constitute India into a SOVEREIGN, SOCIALIST, SECULAR, DEMOCRATIC REPUBLIC and to secure to all its citizens \n",
    " \n",
    "Sample Output: \n",
    " \n",
    "WE, THE PEOPLE OF INDIA, \n",
    "\n",
    "    having solemnly resolved to constitute India into a SOVEREIGN, !     \n",
    "        SOCIALIST, SECULAR, DEMOCRATIC        \n",
    "         REPUBLIC and to secure to all its citizens"
   ]
  },
  {
   "cell_type": "code",
   "execution_count": 73,
   "metadata": {},
   "outputs": [
    {
     "name": "stdout",
     "output_type": "stream",
     "text": [
      "WE, THE PEOPLE OF INDIA, \n",
      "\t having solemnly resolved to constitute India into a SOVEREIGN,! \n",
      "\t\t SOCIALIST, SECULAR, DEMOCRATIC \n",
      "\t\t   REPUBLIC and to secure to all its citizens\n"
     ]
    }
   ],
   "source": [
    "#assigning given input string to a variable\n",
    "input_string = 'WE, THE PEOPLE OF INDIA, having solemnly resolved to constitute India into a SOVEREIGN, SOCIALIST, SECULAR, DEMOCRATIC REPUBLIC and to secure to all its citizens'\n",
    "\n",
    "#creting parts of the input string to display in required format\n",
    "part1 = input_string[:24]\n",
    "part2 = input_string[25:87] + \" !\" \n",
    "part3 = input_string[88:118]\n",
    "part4 = input_string[119:]\n",
    "#printing in required intended format\n",
    "print(part1,\"\\n\\t\",part2,\"\\n\\t\\t\",part3,\"\\n\\t\\t  \",part4)"
   ]
  },
  {
   "cell_type": "markdown",
   "metadata": {},
   "source": [
    "## PYTHON 3 "
   ]
  },
  {
   "cell_type": "markdown",
   "metadata": {},
   "source": [
    " #### Write a Python Program to implement your own myreduce() function which works exactly like Python's built-in function reduce() "
   ]
  },
  {
   "cell_type": "code",
   "execution_count": 94,
   "metadata": {},
   "outputs": [
    {
     "data": {
      "text/plain": [
       "278"
      ]
     },
     "execution_count": 94,
     "metadata": {},
     "output_type": "execute_result"
    }
   ],
   "source": [
    "## defining myreduce function\n",
    "def my_reduce(func, seq):\n",
    "    first = seq[0]\n",
    "    # looping through the all items of the list\n",
    "    for i in seq[1:]:\n",
    "        first = func(first, i)\n",
    "    return first\n",
    "\n",
    "##testing the myreduce defined function \n",
    "func = lambda x,y: x+y\n",
    "\n",
    "my_reduce(func,[90,10,20,55,1,2,44,56]) "
   ]
  },
  {
   "cell_type": "markdown",
   "metadata": {},
   "source": [
    "#### Write a Python program to implement your own myfilter() function which works exactly like Python's built-in function filter() "
   ]
  },
  {
   "cell_type": "code",
   "execution_count": 4,
   "metadata": {},
   "outputs": [
    {
     "data": {
      "text/plain": [
       "[2, 6, 90, 22]"
      ]
     },
     "execution_count": 4,
     "metadata": {},
     "output_type": "execute_result"
    }
   ],
   "source": [
    "#defining the myfilter function\n",
    "def myFilter(f, L):\n",
    "    return [x for x in L if f(x)]\n",
    "\n",
    "f=lambda x:x%2==0 #filter logic\n",
    "\n",
    "#testing myfilter\n",
    "myFilter(f,[2,2.5,1,45,6,90,22])"
   ]
  },
  {
   "cell_type": "markdown",
   "metadata": {},
   "source": [
    "'''\n",
    "#### Implement List comprehensions to produce the following lists.\n",
    "\n",
    "Write List comprehensions to produce the following Lists\n",
    "\n",
    "\n",
    "\n",
    "['A', 'C', 'A', 'D', 'G', 'I', ’L’, ‘ D’]\n",
    "\n",
    "['x', 'xx', 'xxx', 'xxxx', 'y', 'yy', 'yyy', 'yyyy', 'z', 'zz', 'zzz', 'zzzz']\n",
    "\n",
    "['x', 'y', 'z', 'xx', 'yy', 'zz', 'xxx', 'yyy', 'zzz', 'xxxx', 'yyyy', 'zzzz']\n",
    "\n",
    "[[2], [3], [4], [3], [4], [5], [4], [5], [6]]\n",
    "\n",
    "[[2, 3, 4, 5], [3, 4, 5, 6], [4, 5, 6, 7], [5, 6, 7, 8]]\n",
    "\n",
    "[(1, 1), (2, 1), (3, 1), (1, 2), (2, 2), (3, 2), (1, 3), (2, 3), (3, 3)]\n",
    "\n",
    "'''"
   ]
  },
  {
   "cell_type": "code",
   "execution_count": 195,
   "metadata": {},
   "outputs": [
    {
     "name": "stdout",
     "output_type": "stream",
     "text": [
      "ACADGILD => ['A', 'C', 'A', 'D', 'G', 'I', 'L', 'D']\n",
      "['x','y','z'] => ['x', 'xx', 'xxx', 'xxxx', 'y', 'yy', 'yyy', 'yyyy', 'z', 'zz', 'zzz', 'zzzz']\n",
      "['x','y','z'] => ['x', 'y', 'z', 'xx', 'yy', 'zz', 'xxx', 'yyy', 'zzz', 'xxxx', 'yyyy', 'zzzz']\n",
      "[2,3,4] =>[[2], [3], [4], [3], [4], [5], [4], [5], [6]]\n",
      "[2,3,4,5] =>[[2, 3, 4, 5], [3, 4, 5, 6], [4, 5, 6, 7], [5, 6, 7, 8]]\n",
      "[1,2,3] =>[(1, 1), (2, 1), (3, 1), (1, 2), (2, 2), (3, 2), (1, 3), (2, 3), (3, 3)]\n"
     ]
    }
   ],
   "source": [
    "#########\n",
    "word = \"ACADGILD\"\n",
    "\n",
    "alphabet_list = [ alphabet for alphabet in word ]\n",
    "print (\"ACADGILD => \" + str(alphabet_list))\n",
    "#########\n",
    "\n",
    "input_list =['x','y','z']\n",
    "# Compress above for loop into a single list comprehension using technique [i <Upper for condition> <lower for condition>]\n",
    "result = [i*num for i in input_list for num in range(1,5)]\n",
    "print(\"['x','y','z'] => \" +   str(result))\n",
    "#########\n",
    "\n",
    "# Compress above for loop into a single list comprehension using technique [i <Upper for condition> <lower for condition>]\n",
    "result = [i*num for num in range(1,5) for i in input_list]\n",
    "print(\"['x','y','z'] => \" +   str(result))\n",
    "#########\n",
    "\n",
    "input_list=[2,3,4]\n",
    "result = [[i+n] for i in input_list for n in range(3)]\n",
    "print(\"[2,3,4] =>\" +  str(result))\n",
    "#########\n",
    "\n",
    "input_list = [2,3,4,5]\n",
    "result = [ [i+num for i in input_list] for num in range(4)  ]\n",
    "print(\"[2,3,4,5] =>\" +  str(result))\n",
    "#########\n",
    "\n",
    "input_list=[1,2,3]\n",
    "result = [ (b,a) for a in input_list for b in input_list]\n",
    "print(\"[1,2,3] =>\" +  str(result))\n",
    "\n",
    "#########"
   ]
  },
  {
   "cell_type": "markdown",
   "metadata": {},
   "source": [
    "#### Implement a function longestWord() that takes a list of words and returns the longest one. "
   ]
  },
  {
   "cell_type": "code",
   "execution_count": 92,
   "metadata": {},
   "outputs": [
    {
     "name": "stdout",
     "output_type": "stream",
     "text": [
      "Please input a List of words to evaluate: agreement list value disappointment Publishing Hesitation\n",
      "The longest word in the input list is 'disappointment' which is of 14 characters\n"
     ]
    }
   ],
   "source": [
    "#Function to return longest word from the user's list of input\n",
    "def longestWord():\n",
    "    #list of words from the user\n",
    "    input_string = input(\"Please input a List of words to evaluate: \")\n",
    "    word = input_string.split()\n",
    "    wordLength=0\n",
    "    longestword=''\n",
    "    \n",
    "    #iterate the list to find the longest word\n",
    "    for i in word:\n",
    "        if len(i) > wordLength:\n",
    "            wordLength = len(i)\n",
    "            longestword = i\n",
    "    \n",
    "    #printing the message for longest word\n",
    "    return print(\"The longest word in the input list is '{}' which is of {} characters\".format(str(longestword),str(wordLength)))\n",
    "\n",
    "## Calling longestWord to get the output\n",
    "longestWord()"
   ]
  },
  {
   "cell_type": "markdown",
   "metadata": {},
   "source": [
    "## PYTHON 4"
   ]
  },
  {
   "cell_type": "markdown",
   "metadata": {},
   "source": [
    "#### Write a Python Program(with class concepts) to find the area of the triangle using the below formula. \n",
    " \n",
    "area = (s*(s-a)*(s-b)*(s-c)) ** 0.5 \n",
    " \n",
    "Function to take the length of the sides of triangle from user should be defined in the parent class and function to calculate the area should be defined in subclass."
   ]
  },
  {
   "cell_type": "code",
   "execution_count": 95,
   "metadata": {},
   "outputs": [
    {
     "name": "stdout",
     "output_type": "stream",
     "text": [
      "Enter the value of side 1: 3\n",
      "Enter the value of side 2: 4\n",
      "Enter the value of side 3: 5\n",
      "For the Triange sides 3.0, 4.0 and 5.0. The calculated area is: 2.449489742783178\n"
     ]
    }
   ],
   "source": [
    "class Triangle:\n",
    "    ##base class to take side of the trianges\n",
    "    def __init__(self,side1,side2,side3):\n",
    "        self.side1=side1\n",
    "        self.side2=side2\n",
    "        self.side3=side3\n",
    "    \n",
    "    #derived class to derive area of the trainge\n",
    "    def Area(self):\n",
    "        s=(self.side1+self.side2+self.side3)/2\n",
    "        return ((s-self.side1)*(s-self.side2)*(s-self.side3))**0.5\n",
    "\n",
    "a=float(input('Enter the value of side 1: '))\n",
    "b=float(input('Enter the value of side 2: '))\n",
    "c=float(input('Enter the value of side 3: '))\n",
    "print('For the Triange sides {}, {} and {}. The calculated area is: {}'.format(a,b,c,Triangle(a,b,c).Area()))"
   ]
  },
  {
   "cell_type": "markdown",
   "metadata": {},
   "source": [
    "#### Write a function filter_long_words() that takes a list of words and an integer n and returns the list of words that are longer than n. "
   ]
  },
  {
   "cell_type": "code",
   "execution_count": 150,
   "metadata": {},
   "outputs": [
    {
     "name": "stdout",
     "output_type": "stream",
     "text": [
      "['Ravish', 'learning', 'python'] is the list which is longer than 2 in the given list ['Ravish', 'is', 'learning', 'python']\n"
     ]
    }
   ],
   "source": [
    "## function to filter list of words longer than number provided\n",
    "def filter_long_words(listofwords,n):\n",
    "    words_output =[]\n",
    "    for w in listofwords:\n",
    "        if len(w)>n:\n",
    "            words_output.append(w)\n",
    "    return print('{} is the list which is longer than {} in the given list {}'.format(words_output,n,listofwords))\n",
    "\n",
    "# Testing filter_long_words to get the output list\n",
    "filter_long_words(['Ravish', 'is', 'learning', 'python'],2)"
   ]
  },
  {
   "cell_type": "markdown",
   "metadata": {},
   "source": [
    "#### Write a Python program using function concept that maps list of words into a list of integers representing the lengths of the corresponding words"
   ]
  },
  {
   "cell_type": "code",
   "execution_count": 5,
   "metadata": {},
   "outputs": [
    {
     "name": "stdout",
     "output_type": "stream",
     "text": [
      "Output list is [2, 1, 4, 8, 7, 4]\n"
     ]
    }
   ],
   "source": [
    "##function to accept list of words to provide output as lengh of the items in the list\n",
    "def maps_list_of_words2(input_list):\n",
    "    output_list=[]\n",
    "    for i in input_list:\n",
    "        output_list.append(len(i))\n",
    "    return print('Output list is {}'.format(output_list))\n",
    "\n",
    "# calling the function to test\n",
    "maps_list_of_words2(['aa','b','aads','bdasaaab','ayrsaaa','bxrb'])"
   ]
  },
  {
   "cell_type": "markdown",
   "metadata": {},
   "source": [
    "#### Write a Python function which takes a character (i.e. a string of length 1) and returns True if it is a vowel, False otherwise"
   ]
  },
  {
   "cell_type": "code",
   "execution_count": 229,
   "metadata": {},
   "outputs": [
    {
     "data": {
      "text/plain": [
       "True"
      ]
     },
     "execution_count": 229,
     "metadata": {},
     "output_type": "execute_result"
    }
   ],
   "source": [
    "#Find if input value is an vowel\n",
    "def vowel_or_not(x):\n",
    "    vowels=['a','e','i','o','u']\n",
    "    if x.lower() in vowels:\n",
    "        return True\n",
    "    else:\n",
    "        return False\n",
    "\n",
    "#Calling the function and passing a character\n",
    "vowel_or_not('U')"
   ]
  },
  {
   "cell_type": "markdown",
   "metadata": {},
   "source": [
    "## PYTHON 5"
   ]
  },
  {
   "cell_type": "markdown",
   "metadata": {},
   "source": [
    "#### Write a function to compute 5/0 and use try/except to catch the exceptions."
   ]
  },
  {
   "cell_type": "code",
   "execution_count": 215,
   "metadata": {},
   "outputs": [
    {
     "name": "stdout",
     "output_type": "stream",
     "text": [
      "Division by zero is not allowed\n"
     ]
    }
   ],
   "source": [
    "#division by zero exception\n",
    "def zero_division_exception(n):\n",
    "    try:\n",
    "        n/0\n",
    "    except ZeroDivisionError:\n",
    "        return (print('Error: Division by zero is not allowed'))\n",
    "\n",
    "#testing zero_division_exception function\n",
    "zero_division_exception(5)"
   ]
  },
  {
   "cell_type": "markdown",
   "metadata": {},
   "source": [
    "#### Implement a Python program to generate all sentences where subject is in [\"Americans\", \"Indians\"] and verb is in [\"Play\", \"watch\"] and the object is in [\"Baseball\",\"cricket\"]."
   ]
  },
  {
   "cell_type": "code",
   "execution_count": 232,
   "metadata": {},
   "outputs": [
    {
     "name": "stdout",
     "output_type": "stream",
     "text": [
      "Americans play Baseball\n",
      "Americans play Cricket\n",
      "Americans watch Baseball\n",
      "Americans watch Cricket\n",
      "Indians play Baseball\n",
      "Indians play Cricket\n",
      "Indians watch Baseball\n",
      "Indians watch Cricket\n"
     ]
    }
   ],
   "source": [
    "# lists of items \n",
    "subjects=[\"Americans\",\"Indians\"] \n",
    "verbs=[\"play\",\"watch\"] \n",
    "objects=[\"Baseball\",\"Cricket\"]\n",
    "\n",
    "#applying list comprehension to get the desired\n",
    "sentence_list=[(sub+\" \"+vb+\" \"+ob) for sub in subjects for vb in verbs for ob in objects]\n",
    "for sentence in sentence_list:\n",
    "    print(sentence)\n"
   ]
  },
  {
   "cell_type": "code",
   "execution_count": null,
   "metadata": {},
   "outputs": [],
   "source": []
  }
 ],
 "metadata": {
  "kernelspec": {
   "display_name": "Python 3",
   "language": "python",
   "name": "python3"
  },
  "language_info": {
   "codemirror_mode": {
    "name": "ipython",
    "version": 3
   },
   "file_extension": ".py",
   "mimetype": "text/x-python",
   "name": "python",
   "nbconvert_exporter": "python",
   "pygments_lexer": "ipython3",
   "version": "3.6.5"
  }
 },
 "nbformat": 4,
 "nbformat_minor": 2
}
